{
 "cells": [
  {
   "cell_type": "code",
   "execution_count": 22,
   "metadata": {
    "height": 64
   },
   "outputs": [],
   "source": [
    "# install the necessary libraries \n",
    "# !pip install crewai crewai_tools langchain_community\n",
    "# Warning control\n",
    "import warnings\n",
    "warnings.filterwarnings('ignore')\n"
   ]
  },
  {
   "cell_type": "code",
   "execution_count": 23,
   "metadata": {
    "height": 98
   },
   "outputs": [],
   "source": [
    "choose_LLM = 1\n",
    "colab_exp = 0\n",
    "import os\n",
    "\n",
    "from langchain_openai import ChatOpenAI\n",
    "\n",
    "if choose_LLM==1:\n",
    "    if(colab_exp):\n",
    "        from google.colab import userdata    ###for colab use\n",
    "        llm = ChatOpenAI(model = \"gpt-4o-mini\",openai_api_key=userdata.get('OPENAI_API_KEY'))\n",
    "    else:\n",
    "        from dotenv import load_dotenv\n",
    "        load_dotenv() \n",
    "        llm = ChatOpenAI(model = \"gpt-4o-mini\",openai_api_key=os.getenv(\"OPENAI_API_KEY\"))\n",
    "\n",
    "elif choose_LLM ==2:\n",
    "    from langchain.llms import Ollama\n",
    "    llm = Ollama(model = \"llama3.2\",base_url = \"http://localhost:11434\")\n",
    "    \n"
   ]
  },
  {
   "cell_type": "code",
   "execution_count": 24,
   "metadata": {},
   "outputs": [],
   "source": [
    "from crewai_tools import (\n",
    "    WebsiteSearchTool, DirectoryReadTool,FileReadTool\n",
    ")\n",
    "web_rag_tool = WebsiteSearchTool(\"https://www.deeplearning.ai/the-batch/\")\n"
   ]
  },
  {
   "cell_type": "code",
   "execution_count": 25,
   "metadata": {},
   "outputs": [],
   "source": [
    "# Create agents\n",
    "from crewai import Agent, Task, Crew\n",
    "researcher = Agent(\n",
    "    role='latest trends Analyst',\n",
    "    goal='Provide up-to-date trending developments in the AI',\n",
    "    backstory='An expert analyst with a keen eye for market trends.',\n",
    "    tools=[web_rag_tool],\n",
    "    llm=llm,\n",
    "    verbose=True\n",
    ")"
   ]
  },
  {
   "cell_type": "code",
   "execution_count": 26,
   "metadata": {},
   "outputs": [],
   "source": [
    "# Define tasks\n",
    "research = Task(\n",
    "    description='Research the latest trends in the AI industry.',\n",
    "    expected_output='Provide the top 3 trending in the AI industry.',\n",
    "    agent=researcher\n",
    ")"
   ]
  },
  {
   "cell_type": "code",
   "execution_count": 27,
   "metadata": {},
   "outputs": [
    {
     "name": "stderr",
     "output_type": "stream",
     "text": [
      "2024-12-08 19:08:52,706 - 8492939328 - __init__.py-__init__:538 - WARNING: Overriding of current TracerProvider is not allowed\n"
     ]
    },
    {
     "name": "stdout",
     "output_type": "stream",
     "text": [
      "\u001b[1m\u001b[93m \n",
      "[2024-12-08 19:08:52][INFO]: Planning the crew execution\u001b[00m\n",
      "\u001b[1m\u001b[95m# Agent:\u001b[00m \u001b[1m\u001b[92mlatest trends Analyst\u001b[00m\n",
      "\u001b[95m## Task:\u001b[00m \u001b[92mResearch the latest trends in the AI industry.The analyst should identify the specifics of the latest trends they are focusing on to ensure the search is relevant and comprehensive. This may include areas like Machine Learning advancements, Ethical AI practices, Natural Language Processing innovations, AI in healthcare, finance, etc.\u001b[00m\n",
      "\n",
      "\n",
      "\u001b[1m\u001b[95m# Agent:\u001b[00m \u001b[1m\u001b[92mlatest trends Analyst\u001b[00m\n",
      "\u001b[95m## Using tool:\u001b[00m \u001b[92mSearch in a specific website\u001b[00m\n",
      "\u001b[95m## Tool Input:\u001b[00m \u001b[92m\n",
      "\"{\\\"search_query\\\": \\\"latest trends in AI industry 2024\\\"}\"\u001b[00m\n",
      "\u001b[95m## Tool Output:\u001b[00m \u001b[92m\n",
      "Relevant Content:\n",
      "Longer InputsThe Batch AI News and Insights: Recently I visited South Korea, where I spoke at length about AI with President Yoon Suk Yeol. Based on what I saw there in government, business, and academia, the nation is well positioned to become a strong AI hub.Aug 28, 2024AI Restores ALS Patient’s Voice, AI Lobby Grows, Agentic Coding Advances, Massively Multimodal ModelThe Batch AI News and Insights: After a recent price reduction by OpenAI, GPT-4o tokens now cost $4 per million tokens (using a blended rate that assumes 80% input and 20% output tokens).Aug 21, 2024AI Agents Generate Novel Research, Google Imagen 3 Raises the Bar, Alibaba’s Open Models for Specialized Tasks, Scaling Laws for Data QualityThe Batch AI News and Insights: I’m encouraged at the progress of the U.S. government at moving to stem harmful AI applications. Subscribe to The BatchStay updated with weekly AI News and Insights delivered to your inbox\n",
      "\n",
      "The Batch | DeepLearning.AI | AI News & InsightsWhat Matters in AI Right Now🗞️ Stay updated with weekly AI News and Insights delivered to your inboxDec 04, 2024AI Agents Spend Real Money, Breaking Jailbreaks, Mistral Goes Big and Multimodal, AI’s Growing E-Waste ProblemThe Batch AI News and Insights: AI Agents Spend Real Money, Breaking Jailbreaks, Mistral Goes Big and Multimodal, AI’s Growing E-Waste Problem.Read morePopular ArticlesLlama 3.1 is State-of-the-Art and Open, Web Data Goes Dark, OpenAI Takes on Google and Bing, Synthetic Data ImprovesOpenAI Shrinks GPT-4o, Meta Withholds Models From Europe, Investors Hoard GPUs, Synthetic Talking Heads Get ExpressiveAgentic Design Patterns Part 1: Four AI agent strategies that improve GPT-4 and GPT-3.5 performanceNov 27, 2024DeepSeek Takes On OpenAI, Robots Fold Laundry, Amazon and Anthropic Expand Partnership, More Efficient Object DetectionThe Batch AI News and Insights: DeepSeek Takes On OpenAI, Robots Fold Laundry, Amazon and Anthropic Expand Partnership, More Efficient Object Detection. Nov 20, 2024Next-Gen Models Show Limited Gains, Real-Time Video Generation, China AI Chips Blocked, Transformer Training StreamlinedThe Batch AI News and Insights: A small number of people are posting text online that’s intended for direct consumption not by humans, but by LLMs (large language models).Nov 13, 2024Llama On the Battlefield, Mixture of Experts Pulls Ahead, Open Agentic Platform, Voter Support ChatbotThe Batch AI News and Insights: Large language models (LLMs) are typically optimized to answer peoples’ questions.Nov 06, 2024AI Controls Desktops, Agents Train Algorithms, Does Anyone Comply With the EU’s AI Act?, Robots on the Loading DockThe Batch AI News and Insights: Trump and the Republican party chalked up huge wins this week. Did manipulation of social media by generative AI play any role in this election?Oct 30, 2024Trick or treat! AI Devours Energy, Innovation Can’t Win, Models Collapse, Benchmark Tests Are\n",
      "\n",
      "Meaningless, No Work for CodersThe Batch AI News and Insights: Welcome to our special Halloween issue of The Batch, in which we probe fears, anomalies, and shadows of AI.Oct 23, 2024AI Giants Go Nuclear, A Tech Bromance Turns Turbulent, Mistral Sharpens the Edge, Cheaper Video GenerationThe Batch AI News and Insights: Startups live or die by their ability to execute at speed.Oct 16, 2024Bogus Apps, AI Boomtown, Better Embeddings, 2024 HighlightsThe Batch AI News and Insights: It’s high time to take geoengineering more seriously as a potential tool to mitigate climate change.Oct 09, 2024How Meta’s Movie Gen Does It, AI’s Criminal Underground, Court Says LAION is Legal, OpenAI’s New Voice APIThe Batch AI News and Insights: Congratulations to Geoff Hinton and John Hopfield for winning the 2024 Physics Nobel Prize!Oct 02, 2024Llama Goes Multimodal, Pros Embrace Generative Video, Military AI Guidelines, LLMs That Read SpreadsheetsThe Batch AI News and Insights: We won! California’s anti-innovation bill SB 1047 was vetoed by Governor Newsom over the weekend.Sep 25, 2024Hollywood Embraces Video Gen, New Restrictions on Deepfakes, More Open Source Models, Robot ServerThe Batch AI News and Insights: Last week I spoke at Coursera Connect, the company’s annual conference in Las Vegas, where a major topic was AI and education.Sep 18, 2024Models Built for Reasoning, High Gear for Llama 3.1, Brains for Warehouse Robots, Stopping LLMs From PlagiarizingThe Batch AI News and Insights: Years ago, when I was working at a large tech company, I was responsible for the data warehouse.Sep 11, 2024Nations Sign Binding AI Treaty, Waymo Reveals Safety Record, 2D to 3D Goes Mainstream, Balancing Web Data DistributionsThe Batch AI News and Insights: Over the weekend, my two kids colluded in a hilariously bad attempt to mislead me to look in the wrong place during a game of hide-and-seek.Sep 04, 2024Hallucination Index, AI-Powered Policing Goes National, Explainable LLMs, Faster Processing for\u001b[00m\n",
      "\n",
      "\n",
      "\u001b[1m\u001b[95m# Agent:\u001b[00m \u001b[1m\u001b[92mlatest trends Analyst\u001b[00m\n",
      "\u001b[95m## Using tool:\u001b[00m \u001b[92mSearch in a specific website\u001b[00m\n",
      "\u001b[95m## Tool Input:\u001b[00m \u001b[92m\n",
      "\"{\\\"search_query\\\": \\\"top AI trends 2024\\\"}\"\u001b[00m\n",
      "\u001b[95m## Tool Output:\u001b[00m \u001b[92m\n",
      "Relevant Content:\n",
      "Longer InputsThe Batch AI News and Insights: Recently I visited South Korea, where I spoke at length about AI with President Yoon Suk Yeol. Based on what I saw there in government, business, and academia, the nation is well positioned to become a strong AI hub.Aug 28, 2024AI Restores ALS Patient’s Voice, AI Lobby Grows, Agentic Coding Advances, Massively Multimodal ModelThe Batch AI News and Insights: After a recent price reduction by OpenAI, GPT-4o tokens now cost $4 per million tokens (using a blended rate that assumes 80% input and 20% output tokens).Aug 21, 2024AI Agents Generate Novel Research, Google Imagen 3 Raises the Bar, Alibaba’s Open Models for Specialized Tasks, Scaling Laws for Data QualityThe Batch AI News and Insights: I’m encouraged at the progress of the U.S. government at moving to stem harmful AI applications. Subscribe to The BatchStay updated with weekly AI News and Insights delivered to your inbox\n",
      "\n",
      "The Batch | DeepLearning.AI | AI News & InsightsWhat Matters in AI Right Now🗞️ Stay updated with weekly AI News and Insights delivered to your inboxDec 04, 2024AI Agents Spend Real Money, Breaking Jailbreaks, Mistral Goes Big and Multimodal, AI’s Growing E-Waste ProblemThe Batch AI News and Insights: AI Agents Spend Real Money, Breaking Jailbreaks, Mistral Goes Big and Multimodal, AI’s Growing E-Waste Problem.Read morePopular ArticlesLlama 3.1 is State-of-the-Art and Open, Web Data Goes Dark, OpenAI Takes on Google and Bing, Synthetic Data ImprovesOpenAI Shrinks GPT-4o, Meta Withholds Models From Europe, Investors Hoard GPUs, Synthetic Talking Heads Get ExpressiveAgentic Design Patterns Part 1: Four AI agent strategies that improve GPT-4 and GPT-3.5 performanceNov 27, 2024DeepSeek Takes On OpenAI, Robots Fold Laundry, Amazon and Anthropic Expand Partnership, More Efficient Object DetectionThe Batch AI News and Insights: DeepSeek Takes On OpenAI, Robots Fold Laundry, Amazon and Anthropic Expand Partnership, More Efficient Object Detection. Nov 20, 2024Next-Gen Models Show Limited Gains, Real-Time Video Generation, China AI Chips Blocked, Transformer Training StreamlinedThe Batch AI News and Insights: A small number of people are posting text online that’s intended for direct consumption not by humans, but by LLMs (large language models).Nov 13, 2024Llama On the Battlefield, Mixture of Experts Pulls Ahead, Open Agentic Platform, Voter Support ChatbotThe Batch AI News and Insights: Large language models (LLMs) are typically optimized to answer peoples’ questions.Nov 06, 2024AI Controls Desktops, Agents Train Algorithms, Does Anyone Comply With the EU’s AI Act?, Robots on the Loading DockThe Batch AI News and Insights: Trump and the Republican party chalked up huge wins this week. Did manipulation of social media by generative AI play any role in this election?Oct 30, 2024Trick or treat! AI Devours Energy, Innovation Can’t Win, Models Collapse, Benchmark Tests Are\n",
      "\n",
      "Meaningless, No Work for CodersThe Batch AI News and Insights: Welcome to our special Halloween issue of The Batch, in which we probe fears, anomalies, and shadows of AI.Oct 23, 2024AI Giants Go Nuclear, A Tech Bromance Turns Turbulent, Mistral Sharpens the Edge, Cheaper Video GenerationThe Batch AI News and Insights: Startups live or die by their ability to execute at speed.Oct 16, 2024Bogus Apps, AI Boomtown, Better Embeddings, 2024 HighlightsThe Batch AI News and Insights: It’s high time to take geoengineering more seriously as a potential tool to mitigate climate change.Oct 09, 2024How Meta’s Movie Gen Does It, AI’s Criminal Underground, Court Says LAION is Legal, OpenAI’s New Voice APIThe Batch AI News and Insights: Congratulations to Geoff Hinton and John Hopfield for winning the 2024 Physics Nobel Prize!Oct 02, 2024Llama Goes Multimodal, Pros Embrace Generative Video, Military AI Guidelines, LLMs That Read SpreadsheetsThe Batch AI News and Insights: We won! California’s anti-innovation bill SB 1047 was vetoed by Governor Newsom over the weekend.Sep 25, 2024Hollywood Embraces Video Gen, New Restrictions on Deepfakes, More Open Source Models, Robot ServerThe Batch AI News and Insights: Last week I spoke at Coursera Connect, the company’s annual conference in Las Vegas, where a major topic was AI and education.Sep 18, 2024Models Built for Reasoning, High Gear for Llama 3.1, Brains for Warehouse Robots, Stopping LLMs From PlagiarizingThe Batch AI News and Insights: Years ago, when I was working at a large tech company, I was responsible for the data warehouse.Sep 11, 2024Nations Sign Binding AI Treaty, Waymo Reveals Safety Record, 2D to 3D Goes Mainstream, Balancing Web Data DistributionsThe Batch AI News and Insights: Over the weekend, my two kids colluded in a hilariously bad attempt to mislead me to look in the wrong place during a game of hide-and-seek.Sep 04, 2024Hallucination Index, AI-Powered Policing Goes National, Explainable LLMs, Faster Processing for\u001b[00m\n",
      "\u001b[91m Error parsing LLM output, agent will retry: I did it wrong. Invalid Format: I missed the 'Action:' after 'Thought:'. I will do right next, and don't use a tool I have already used.\n",
      "\n",
      "If you don't need to use any more tools, you must give your best complete final answer, make sure it satisfy the expect criteria, use the EXACT format below:\n",
      "\n",
      "Thought: I now can give a great answer\n",
      "Final Answer: my best complete final answer to the task.\n",
      "\n",
      "\u001b[00m\n",
      "\n",
      "\n",
      "\u001b[1m\u001b[95m# Agent:\u001b[00m \u001b[1m\u001b[92mlatest trends Analyst\u001b[00m\n",
      "\u001b[95m## Final Answer:\u001b[00m \u001b[92m\n",
      "The key trends in the AI field include the increasing adoption of Llama 3.1, the growth of synthetic data, and the rise of agentic design patterns for improving GPT-4 and GPT-3.5 performance. Additionally, there is a growing concern about the ethics of AI development and deployment, particularly with regards to bias and transparency. The use of OpenAI's models is also becoming more widespread, with companies like Amazon and Anthropic expanding their partnerships. Furthermore, there is an increasing focus on explainable AI (XAI) and faster processing for applications such as object detection and video generation.\u001b[00m\n",
      "\n",
      "\n"
     ]
    }
   ],
   "source": [
    "# Assemble a crew with planning enabled\n",
    "crew = Crew(\n",
    "    agents=[researcher],\n",
    "    tasks=[research],\n",
    "    verbose=True,\n",
    "    planning=True,  # Enable planning feature\n",
    ")\n",
    "\n",
    "# Execute tasks\n",
    "result = crew.kickoff()"
   ]
  },
  {
   "cell_type": "code",
   "execution_count": 28,
   "metadata": {},
   "outputs": [
    {
     "data": {
      "text/markdown": [
       "The key trends in the AI field include the increasing adoption of Llama 3.1, the growth of synthetic data, and the rise of agentic design patterns for improving GPT-4 and GPT-3.5 performance. Additionally, there is a growing concern about the ethics of AI development and deployment, particularly with regards to bias and transparency. The use of OpenAI's models is also becoming more widespread, with companies like Amazon and Anthropic expanding their partnerships. Furthermore, there is an increasing focus on explainable AI (XAI) and faster processing for applications such as object detection and video generation."
      ],
      "text/plain": [
       "<IPython.core.display.Markdown object>"
      ]
     },
     "metadata": {},
     "output_type": "display_data"
    }
   ],
   "source": [
    "from IPython.display import display, Markdown, display_png\n",
    "\n",
    "display(Markdown(result.raw))\n"
   ]
  },
  {
   "cell_type": "code",
   "execution_count": null,
   "metadata": {},
   "outputs": [],
   "source": []
  }
 ],
 "metadata": {
  "colab": {
   "gpuType": "T4",
   "provenance": []
  },
  "kernelspec": {
   "display_name": "Python 3 (ipykernel)",
   "language": "python",
   "name": "python3"
  },
  "language_info": {
   "codemirror_mode": {
    "name": "ipython",
    "version": 3
   },
   "file_extension": ".py",
   "mimetype": "text/x-python",
   "name": "python",
   "nbconvert_exporter": "python",
   "pygments_lexer": "ipython3",
   "version": "3.12.4"
  }
 },
 "nbformat": 4,
 "nbformat_minor": 4
}
