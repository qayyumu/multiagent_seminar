{
 "cells": [
  {
   "cell_type": "code",
   "execution_count": 1,
   "metadata": {
    "height": 64
   },
   "outputs": [],
   "source": [
    "# install the necessary libraries \n",
    "# !pip install crewai crewai_tools langchain_community\n",
    "# Warning control\n",
    "import warnings\n",
    "warnings.filterwarnings('ignore')\n"
   ]
  },
  {
   "cell_type": "code",
   "execution_count": 2,
   "metadata": {
    "height": 98
   },
   "outputs": [],
   "source": [
    "choose_LLM = 1\n",
    "colab_exp = 0\n",
    "import os\n",
    "\n",
    "from langchain_openai import ChatOpenAI\n",
    "\n",
    "if choose_LLM==1:\n",
    "    if(colab_exp):\n",
    "        from google.colab import userdata    ###for colab use\n",
    "        llm = ChatOpenAI(model = \"gpt-4o-mini\",openai_api_key=userdata.get('OPENAI_API_KEY'))\n",
    "    else:\n",
    "        from dotenv import load_dotenv\n",
    "        load_dotenv() \n",
    "        llm = \"gpt-4o-mini\" #ChatOpenAI(model = \"gpt-4o-mini\",openai_api_key=os.getenv(\"OPENAI_API_KEY\"))\n",
    "else:\n",
    "    llm = ChatOpenAI(model=\"ollama/llama3.2\", base_url=\"http://localhost:11434\",temperature=0.1)\n",
    "\n",
    "    \n"
   ]
  },
  {
   "cell_type": "code",
   "execution_count": 3,
   "metadata": {},
   "outputs": [
    {
     "name": "stderr",
     "output_type": "stream",
     "text": [
      "Inserting batches in chromadb: 100%|██████████| 1/1 [00:01<00:00,  1.54s/it]\n"
     ]
    }
   ],
   "source": [
    "from crewai_tools import (\n",
    "    WebsiteSearchTool, DirectoryReadTool,FileReadTool\n",
    ")\n",
    "web_rag_tool = WebsiteSearchTool(\"https://www.deeplearning.ai/the-batch/\")\n"
   ]
  },
  {
   "cell_type": "code",
   "execution_count": 4,
   "metadata": {},
   "outputs": [],
   "source": [
    "# Create agents\n",
    "from crewai import Agent, Task, Crew\n",
    "researcher = Agent(\n",
    "    role='latest trends Analyst',\n",
    "    goal='Provide up-to-date trending developments in the AI',\n",
    "    backstory='An expert analyst with a keen eye for market trends.',\n",
    "    tools=[web_rag_tool],\n",
    "    llm=llm,\n",
    "    verbose=True\n",
    ")"
   ]
  },
  {
   "cell_type": "code",
   "execution_count": 5,
   "metadata": {},
   "outputs": [],
   "source": [
    "# Define tasks\n",
    "research = Task(\n",
    "    description='Research the latest trends in the AI industry.',\n",
    "    expected_output='Provide the top 3 trending in the AI industry.',\n",
    "    agent=researcher\n",
    ")"
   ]
  },
  {
   "cell_type": "code",
   "execution_count": 6,
   "metadata": {},
   "outputs": [
    {
     "name": "stdout",
     "output_type": "stream",
     "text": [
      "\u001b[1m\u001b[93m \n",
      "[2025-10-31 22:07:36][INFO]: Planning the crew execution\u001b[00m\n",
      "\u001b[1m\u001b[95m# Agent:\u001b[00m \u001b[1m\u001b[92mlatest trends Analyst\u001b[00m\n",
      "\u001b[95m## Task:\u001b[00m \u001b[92mResearch the latest trends in the AI industry.1. Understand the Task: Review the task description and define the expected output (top 3 trending developments).\n",
      "2. Prepare to Use the Tool: Select the 'Search in a specific website' tool from https://www.deeplearning.ai/the-batch/ and ensure access.\n",
      "3. Determine Search Queries: Identify keywords for search queries (e.g., 'latest trends in AI', 'AI developments 2023', 'emerging AI technologies') and prioritize 3-5 queries.\n",
      "4. Conduct Searches: Use the tool to search for each prioritized query, recording key insights or articles from the results.\n",
      "5. Analyze Search Results: Aggregate data, identify key trends, and select the top three trends based on frequency and impact.\n",
      "6. Document Findings: Draft a summary with context for the top three trends, ensuring clarity and adherence to format guidelines.\n",
      "7. Review and Finalize: Proofread, confirm accuracy, and ensure completeness of the findings.\n",
      "8. Submit Findings: Deliver the final report with the top three trends in the AI industry.\u001b[00m\n",
      "\n",
      "\n",
      "\u001b[1m\u001b[95m# Agent:\u001b[00m \u001b[1m\u001b[92mlatest trends Analyst\u001b[00m\n",
      "\u001b[95m## Thought:\u001b[00m \u001b[92mI need to gather the latest information on trends in the AI industry. To do this, I will start by conducting a search using relevant queries that reflect current developments in AI.\u001b[00m\n",
      "\u001b[95m## Using tool:\u001b[00m \u001b[92mSearch in a specific website\u001b[00m\n",
      "\u001b[95m## Tool Input:\u001b[00m \u001b[92m\n",
      "\"{\\\"search_query\\\": \\\"latest trends in AI\\\"}\"\u001b[00m\n",
      "\u001b[95m## Tool Output:\u001b[00m \u001b[92m\n",
      "Relevant Content:\n",
      "unprecedented, massive compensation packages for AI model builders exceeding $100M (sometimes spread over multiple years).Jul 30, 2025Trump Resets AI Policy, Qwen3’s Agentic Advance, U.S. Chips for China, The Trouble With AI FriendsThe Batch AI News and Insights: There is now a path for China to surpass the U.S. in AI. Even though the U.S. is still ahead, China has tremendous momentum with its vibrant open-weights model ecosystem and aggressive moves in semiconductor design and manufacturing.Jul 23, 2025Power Moves in AI Coding, Moonshot’s Agentic LLM, How to Comply with EU AI Regs, AI Agents EvolveThe Batch AI News and Insights: We’re organizing a new event called Buildathon: The Rapid Engineering Competition, to be held in the San Francisco Bay Area on Saturday, August 16, 2025!Jul 16, 2025Grok Raises Questions, Meta Poaches Talent, California Reframes AI Regulations, Multi-Agent Systems Get StrongerThe Batch AI News and Insights: The invention of modern writing instruments like the typewriter made writing easier, but they also led to the rise of writer’s block, where deciding what to write became the bottleneck.Subscribe to The BatchStay updated with weekly AI News and Insights delivered to your inbox\n",
      "\n",
      "AcceleratesThe Batch AI News and Insights: Last week, China barred its major tech companies from buying Nvidia chips.Sep 17, 2025Drone Swarms Go To War, States Ban AI Mental-Health Treatments, Qwen3-Next Accelerates, Transformers Get EnergizedThe Batch AI News and Insights: Automated software testing is growing in importance in the era of AI-assisted coding.Sep 10, 2025Stronger Chatbot Guardrails, Weaker Google Monopoly, AI-Assisted Education, 10 Million Tokens of ContextThe Batch AI News and Insights: This week, Coursera held its annual conference in Las Vegas. A major theme was the shift from knowledge- to skills-based education, which will help many individuals, businesses, and educational institutions.Sep 03, 2025Gemini’s Environmental Impact, China’s Emerging AI Hub, Chatbot Job Interviews, Security For AgentsThe Batch AI News and Insights: There is significant unmet demand for developers who understand AI. Aug 27, 2025AI-Powered Phones Get Proactive, Robot Antelope Joins Herd, LLM Environmental Impacts Get MeasuredThe Batch AI News and Insights: Parallel agents are emerging as an important new direction for scaling up AI. AI capabilities have scaled with more training data, training-time compute, and test-time compute.Aug 20, 2025China Questions Nvidia, When Models Memorize, Mixture of Video Experts, OpenAI & Oracle Join ForcesThe Batch AI News and Insights: On Saturday at the Buildathon [http:/buildathon.ai] hosted by AI Fund and DeepLearning.AI, over 100 developers competed to build software products quickly using AI assisted coding.Aug 13, 2025GPT-5’s Rough Takeoff, AI Video Blockbusters, India’s Homegrown LLMs, Synthetic Data GenerationThe Batch AI News and Insights: Just as many businesses are transforming to become more capable by using AI, universities are too.Aug 06, 2025Open Agentic LLMs Proliferate, Robot Removes Gallbladders, Reasoning Models Boost Emissions, OpenAI Re-OpensThe Batch AI News and Insights: Recently Meta made headlines with\n",
      "\n",
      "The Batch | DeepLearning.AI | AI News & InsightsWhat Matters in AI Right Now🗞️ Stay updated with weekly AI News and Insights delivered to your inboxOct 29, 2025Monsters of AI: AI Psychosis, Lethal Drones, Decaying Data, Speculative BubblesThe Batch AI News and Insights: Today I’m launching DeepLearning.AI Pro — the one membership that keeps you at the forefront of AI. Please join!Read morePopular ArticlesIntroducing DeepLearning.AI ProReinforcement Learning Heats Up, White House Orders Muscular AI Policy, Computer Use Gains Momentum, Fine Control of Fine-TuningDeepSeek Sharpens Its Reasoning: DeepSeek-R1, an affordable rival to OpenAI’s o1Oct 22, 2025Ling-1T Leads Non-Reasoning Performance, MCP Poses Security Risks, California Regulates AI, Auto-Tune for Agentic PromptsThe Batch AI News and Insights: In last week’s letter, I explained how effective agentic AI development needs a disciplined evals and error analysis process, and described an approach to performing evals.Oct 15, 2025DeepSeek Cuts Inference Costs, OpenAI Tightens Ties with AMD, Thinking Machines Simplifies Fine-Tuning, Robots Improve Spatial AwarenessThe Batch AI News and Insights: Readers responded with both surprise and agreement last week when I wrote that the single biggest predictor of how rapidly a team makes progress building an AI agent lay in their ability to drive a disciplined process for evals.Oct 08, 2025Claude Levels Up, Qwen3 Proliferates, Big AI Diversifies Product Lines, LoRA Adapters on TapThe Batch AI News and Insights: I’m thrilled to announce my latest course: Agentic AI! This course will get you up to speed building cutting-edge agentic workflows.Oct 01, 2025OpenAI’s Trillion-Dollar Bet, Generating Viruses, Modeling Planet Earth, Paying for Training DataThe Batch AI News and Insights: LandingAI’s Agentic Document Extraction (ADE) turns PDF files into LLM-ready markdown text.Sep 24, 2025AI Agents Spend Money, Online Betting Automates, ChatGPT Users Shift, Reinforcement Learning\u001b[00m\n",
      "\n",
      "\n",
      "\u001b[1m\u001b[95m# Agent:\u001b[00m \u001b[1m\u001b[92mlatest trends Analyst\u001b[00m\n",
      "\u001b[95m## Using tool:\u001b[00m \u001b[92mSearch in a specific website\u001b[00m\n",
      "\u001b[95m## Tool Input:\u001b[00m \u001b[92m\n",
      "\"{\\\"search_query\\\": \\\"AI developments 2023\\\"}\"\u001b[00m\n",
      "\u001b[95m## Tool Output:\u001b[00m \u001b[92m\n",
      "Relevant Content:\n",
      "unprecedented, massive compensation packages for AI model builders exceeding $100M (sometimes spread over multiple years).Jul 30, 2025Trump Resets AI Policy, Qwen3’s Agentic Advance, U.S. Chips for China, The Trouble With AI FriendsThe Batch AI News and Insights: There is now a path for China to surpass the U.S. in AI. Even though the U.S. is still ahead, China has tremendous momentum with its vibrant open-weights model ecosystem and aggressive moves in semiconductor design and manufacturing.Jul 23, 2025Power Moves in AI Coding, Moonshot’s Agentic LLM, How to Comply with EU AI Regs, AI Agents EvolveThe Batch AI News and Insights: We’re organizing a new event called Buildathon: The Rapid Engineering Competition, to be held in the San Francisco Bay Area on Saturday, August 16, 2025!Jul 16, 2025Grok Raises Questions, Meta Poaches Talent, California Reframes AI Regulations, Multi-Agent Systems Get StrongerThe Batch AI News and Insights: The invention of modern writing instruments like the typewriter made writing easier, but they also led to the rise of writer’s block, where deciding what to write became the bottleneck.Subscribe to The BatchStay updated with weekly AI News and Insights delivered to your inbox\n",
      "\n",
      "AcceleratesThe Batch AI News and Insights: Last week, China barred its major tech companies from buying Nvidia chips.Sep 17, 2025Drone Swarms Go To War, States Ban AI Mental-Health Treatments, Qwen3-Next Accelerates, Transformers Get EnergizedThe Batch AI News and Insights: Automated software testing is growing in importance in the era of AI-assisted coding.Sep 10, 2025Stronger Chatbot Guardrails, Weaker Google Monopoly, AI-Assisted Education, 10 Million Tokens of ContextThe Batch AI News and Insights: This week, Coursera held its annual conference in Las Vegas. A major theme was the shift from knowledge- to skills-based education, which will help many individuals, businesses, and educational institutions.Sep 03, 2025Gemini’s Environmental Impact, China’s Emerging AI Hub, Chatbot Job Interviews, Security For AgentsThe Batch AI News and Insights: There is significant unmet demand for developers who understand AI. Aug 27, 2025AI-Powered Phones Get Proactive, Robot Antelope Joins Herd, LLM Environmental Impacts Get MeasuredThe Batch AI News and Insights: Parallel agents are emerging as an important new direction for scaling up AI. AI capabilities have scaled with more training data, training-time compute, and test-time compute.Aug 20, 2025China Questions Nvidia, When Models Memorize, Mixture of Video Experts, OpenAI & Oracle Join ForcesThe Batch AI News and Insights: On Saturday at the Buildathon [http:/buildathon.ai] hosted by AI Fund and DeepLearning.AI, over 100 developers competed to build software products quickly using AI assisted coding.Aug 13, 2025GPT-5’s Rough Takeoff, AI Video Blockbusters, India’s Homegrown LLMs, Synthetic Data GenerationThe Batch AI News and Insights: Just as many businesses are transforming to become more capable by using AI, universities are too.Aug 06, 2025Open Agentic LLMs Proliferate, Robot Removes Gallbladders, Reasoning Models Boost Emissions, OpenAI Re-OpensThe Batch AI News and Insights: Recently Meta made headlines with\n",
      "\n",
      "The Batch | DeepLearning.AI | AI News & InsightsWhat Matters in AI Right Now🗞️ Stay updated with weekly AI News and Insights delivered to your inboxOct 29, 2025Monsters of AI: AI Psychosis, Lethal Drones, Decaying Data, Speculative BubblesThe Batch AI News and Insights: Today I’m launching DeepLearning.AI Pro — the one membership that keeps you at the forefront of AI. Please join!Read morePopular ArticlesIntroducing DeepLearning.AI ProReinforcement Learning Heats Up, White House Orders Muscular AI Policy, Computer Use Gains Momentum, Fine Control of Fine-TuningDeepSeek Sharpens Its Reasoning: DeepSeek-R1, an affordable rival to OpenAI’s o1Oct 22, 2025Ling-1T Leads Non-Reasoning Performance, MCP Poses Security Risks, California Regulates AI, Auto-Tune for Agentic PromptsThe Batch AI News and Insights: In last week’s letter, I explained how effective agentic AI development needs a disciplined evals and error analysis process, and described an approach to performing evals.Oct 15, 2025DeepSeek Cuts Inference Costs, OpenAI Tightens Ties with AMD, Thinking Machines Simplifies Fine-Tuning, Robots Improve Spatial AwarenessThe Batch AI News and Insights: Readers responded with both surprise and agreement last week when I wrote that the single biggest predictor of how rapidly a team makes progress building an AI agent lay in their ability to drive a disciplined process for evals.Oct 08, 2025Claude Levels Up, Qwen3 Proliferates, Big AI Diversifies Product Lines, LoRA Adapters on TapThe Batch AI News and Insights: I’m thrilled to announce my latest course: Agentic AI! This course will get you up to speed building cutting-edge agentic workflows.Oct 01, 2025OpenAI’s Trillion-Dollar Bet, Generating Viruses, Modeling Planet Earth, Paying for Training DataThe Batch AI News and Insights: LandingAI’s Agentic Document Extraction (ADE) turns PDF files into LLM-ready markdown text.Sep 24, 2025AI Agents Spend Money, Online Betting Automates, ChatGPT Users Shift, Reinforcement Learning\u001b[00m\n",
      "\n",
      "\n",
      "\u001b[1m\u001b[95m# Agent:\u001b[00m \u001b[1m\u001b[92mlatest trends Analyst\u001b[00m\n",
      "\u001b[95m## Using tool:\u001b[00m \u001b[92mSearch in a specific website\u001b[00m\n",
      "\u001b[95m## Tool Input:\u001b[00m \u001b[92m\n",
      "\"{\\\"search_query\\\": \\\"emerging AI technologies\\\"}\"\u001b[00m\n",
      "\u001b[95m## Tool Output:\u001b[00m \u001b[92m\n",
      "Relevant Content:\n",
      "AcceleratesThe Batch AI News and Insights: Last week, China barred its major tech companies from buying Nvidia chips.Sep 17, 2025Drone Swarms Go To War, States Ban AI Mental-Health Treatments, Qwen3-Next Accelerates, Transformers Get EnergizedThe Batch AI News and Insights: Automated software testing is growing in importance in the era of AI-assisted coding.Sep 10, 2025Stronger Chatbot Guardrails, Weaker Google Monopoly, AI-Assisted Education, 10 Million Tokens of ContextThe Batch AI News and Insights: This week, Coursera held its annual conference in Las Vegas. A major theme was the shift from knowledge- to skills-based education, which will help many individuals, businesses, and educational institutions.Sep 03, 2025Gemini’s Environmental Impact, China’s Emerging AI Hub, Chatbot Job Interviews, Security For AgentsThe Batch AI News and Insights: There is significant unmet demand for developers who understand AI. Aug 27, 2025AI-Powered Phones Get Proactive, Robot Antelope Joins Herd, LLM Environmental Impacts Get MeasuredThe Batch AI News and Insights: Parallel agents are emerging as an important new direction for scaling up AI. AI capabilities have scaled with more training data, training-time compute, and test-time compute.Aug 20, 2025China Questions Nvidia, When Models Memorize, Mixture of Video Experts, OpenAI & Oracle Join ForcesThe Batch AI News and Insights: On Saturday at the Buildathon [http:/buildathon.ai] hosted by AI Fund and DeepLearning.AI, over 100 developers competed to build software products quickly using AI assisted coding.Aug 13, 2025GPT-5’s Rough Takeoff, AI Video Blockbusters, India’s Homegrown LLMs, Synthetic Data GenerationThe Batch AI News and Insights: Just as many businesses are transforming to become more capable by using AI, universities are too.Aug 06, 2025Open Agentic LLMs Proliferate, Robot Removes Gallbladders, Reasoning Models Boost Emissions, OpenAI Re-OpensThe Batch AI News and Insights: Recently Meta made headlines with\n",
      "\n",
      "unprecedented, massive compensation packages for AI model builders exceeding $100M (sometimes spread over multiple years).Jul 30, 2025Trump Resets AI Policy, Qwen3’s Agentic Advance, U.S. Chips for China, The Trouble With AI FriendsThe Batch AI News and Insights: There is now a path for China to surpass the U.S. in AI. Even though the U.S. is still ahead, China has tremendous momentum with its vibrant open-weights model ecosystem and aggressive moves in semiconductor design and manufacturing.Jul 23, 2025Power Moves in AI Coding, Moonshot’s Agentic LLM, How to Comply with EU AI Regs, AI Agents EvolveThe Batch AI News and Insights: We’re organizing a new event called Buildathon: The Rapid Engineering Competition, to be held in the San Francisco Bay Area on Saturday, August 16, 2025!Jul 16, 2025Grok Raises Questions, Meta Poaches Talent, California Reframes AI Regulations, Multi-Agent Systems Get StrongerThe Batch AI News and Insights: The invention of modern writing instruments like the typewriter made writing easier, but they also led to the rise of writer’s block, where deciding what to write became the bottleneck.Subscribe to The BatchStay updated with weekly AI News and Insights delivered to your inbox\n",
      "\n",
      "The Batch | DeepLearning.AI | AI News & InsightsWhat Matters in AI Right Now🗞️ Stay updated with weekly AI News and Insights delivered to your inboxOct 29, 2025Monsters of AI: AI Psychosis, Lethal Drones, Decaying Data, Speculative BubblesThe Batch AI News and Insights: Today I’m launching DeepLearning.AI Pro — the one membership that keeps you at the forefront of AI. Please join!Read morePopular ArticlesIntroducing DeepLearning.AI ProReinforcement Learning Heats Up, White House Orders Muscular AI Policy, Computer Use Gains Momentum, Fine Control of Fine-TuningDeepSeek Sharpens Its Reasoning: DeepSeek-R1, an affordable rival to OpenAI’s o1Oct 22, 2025Ling-1T Leads Non-Reasoning Performance, MCP Poses Security Risks, California Regulates AI, Auto-Tune for Agentic PromptsThe Batch AI News and Insights: In last week’s letter, I explained how effective agentic AI development needs a disciplined evals and error analysis process, and described an approach to performing evals.Oct 15, 2025DeepSeek Cuts Inference Costs, OpenAI Tightens Ties with AMD, Thinking Machines Simplifies Fine-Tuning, Robots Improve Spatial AwarenessThe Batch AI News and Insights: Readers responded with both surprise and agreement last week when I wrote that the single biggest predictor of how rapidly a team makes progress building an AI agent lay in their ability to drive a disciplined process for evals.Oct 08, 2025Claude Levels Up, Qwen3 Proliferates, Big AI Diversifies Product Lines, LoRA Adapters on TapThe Batch AI News and Insights: I’m thrilled to announce my latest course: Agentic AI! This course will get you up to speed building cutting-edge agentic workflows.Oct 01, 2025OpenAI’s Trillion-Dollar Bet, Generating Viruses, Modeling Planet Earth, Paying for Training DataThe Batch AI News and Insights: LandingAI’s Agentic Document Extraction (ADE) turns PDF files into LLM-ready markdown text.Sep 24, 2025AI Agents Spend Money, Online Betting Automates, ChatGPT Users Shift, Reinforcement Learning\n",
      "\n",
      "\n",
      "You ONLY have access to the following tools, and should NEVER make up tools that are not listed here:\n",
      "\n",
      "Tool Name: Search in a specific website\n",
      "Tool Arguments: {'search_query': {'description': 'Mandatory search query you want to use to search a specific website', 'type': 'str'}}\n",
      "Tool Description: A tool that can be used to semantic search a query from https://www.deeplearning.ai/the-batch/ website content.\n",
      "\n",
      "Use the following format:\n",
      "\n",
      "Thought: you should always think about what to do\n",
      "Action: the action to take, only one name of [Search in a specific website], just the name, exactly as it's written.\n",
      "Action Input: the input to the action, just a simple python dictionary, enclosed in curly braces, using \" to wrap keys and values.\n",
      "Observation: the result of the action\n",
      "\n",
      "Once all necessary information is gathered:\n",
      "\n",
      "Thought: I now know the final answer\n",
      "Final Answer: the final answer to the original input question\n",
      "\u001b[00m\n",
      "\u001b[91m Error parsing LLM output, agent will retry: I did it wrong. Invalid Format: I missed the 'Action Input:' after 'Action:'. I will do right next, and don't use a tool I have already used.\n",
      "\u001b[00m\n",
      "\n",
      "\n",
      "\u001b[1m\u001b[95m# Agent:\u001b[00m \u001b[1m\u001b[92mlatest trends Analyst\u001b[00m\n",
      "\u001b[95m## Thought:\u001b[00m \u001b[92mThought: I need to gather more information about the latest trends in AI without repeating previous searches. I will use a new search query to explore further developments.\u001b[00m\n",
      "\u001b[95m## Using tool:\u001b[00m \u001b[92mSearch in a specific website\u001b[00m\n",
      "\u001b[95m## Tool Input:\u001b[00m \u001b[92m\n",
      "\"{\\\"search_query\\\": \\\"AI technologies 2023\\\"}\"\u001b[00m\n",
      "\u001b[95m## Tool Output:\u001b[00m \u001b[92m\n",
      "Relevant Content:\n",
      "unprecedented, massive compensation packages for AI model builders exceeding $100M (sometimes spread over multiple years).Jul 30, 2025Trump Resets AI Policy, Qwen3’s Agentic Advance, U.S. Chips for China, The Trouble With AI FriendsThe Batch AI News and Insights: There is now a path for China to surpass the U.S. in AI. Even though the U.S. is still ahead, China has tremendous momentum with its vibrant open-weights model ecosystem and aggressive moves in semiconductor design and manufacturing.Jul 23, 2025Power Moves in AI Coding, Moonshot’s Agentic LLM, How to Comply with EU AI Regs, AI Agents EvolveThe Batch AI News and Insights: We’re organizing a new event called Buildathon: The Rapid Engineering Competition, to be held in the San Francisco Bay Area on Saturday, August 16, 2025!Jul 16, 2025Grok Raises Questions, Meta Poaches Talent, California Reframes AI Regulations, Multi-Agent Systems Get StrongerThe Batch AI News and Insights: The invention of modern writing instruments like the typewriter made writing easier, but they also led to the rise of writer’s block, where deciding what to write became the bottleneck.Subscribe to The BatchStay updated with weekly AI News and Insights delivered to your inbox\n",
      "\n",
      "AcceleratesThe Batch AI News and Insights: Last week, China barred its major tech companies from buying Nvidia chips.Sep 17, 2025Drone Swarms Go To War, States Ban AI Mental-Health Treatments, Qwen3-Next Accelerates, Transformers Get EnergizedThe Batch AI News and Insights: Automated software testing is growing in importance in the era of AI-assisted coding.Sep 10, 2025Stronger Chatbot Guardrails, Weaker Google Monopoly, AI-Assisted Education, 10 Million Tokens of ContextThe Batch AI News and Insights: This week, Coursera held its annual conference in Las Vegas. A major theme was the shift from knowledge- to skills-based education, which will help many individuals, businesses, and educational institutions.Sep 03, 2025Gemini’s Environmental Impact, China’s Emerging AI Hub, Chatbot Job Interviews, Security For AgentsThe Batch AI News and Insights: There is significant unmet demand for developers who understand AI. Aug 27, 2025AI-Powered Phones Get Proactive, Robot Antelope Joins Herd, LLM Environmental Impacts Get MeasuredThe Batch AI News and Insights: Parallel agents are emerging as an important new direction for scaling up AI. AI capabilities have scaled with more training data, training-time compute, and test-time compute.Aug 20, 2025China Questions Nvidia, When Models Memorize, Mixture of Video Experts, OpenAI & Oracle Join ForcesThe Batch AI News and Insights: On Saturday at the Buildathon [http:/buildathon.ai] hosted by AI Fund and DeepLearning.AI, over 100 developers competed to build software products quickly using AI assisted coding.Aug 13, 2025GPT-5’s Rough Takeoff, AI Video Blockbusters, India’s Homegrown LLMs, Synthetic Data GenerationThe Batch AI News and Insights: Just as many businesses are transforming to become more capable by using AI, universities are too.Aug 06, 2025Open Agentic LLMs Proliferate, Robot Removes Gallbladders, Reasoning Models Boost Emissions, OpenAI Re-OpensThe Batch AI News and Insights: Recently Meta made headlines with\n",
      "\n",
      "The Batch | DeepLearning.AI | AI News & InsightsWhat Matters in AI Right Now🗞️ Stay updated with weekly AI News and Insights delivered to your inboxOct 29, 2025Monsters of AI: AI Psychosis, Lethal Drones, Decaying Data, Speculative BubblesThe Batch AI News and Insights: Today I’m launching DeepLearning.AI Pro — the one membership that keeps you at the forefront of AI. Please join!Read morePopular ArticlesIntroducing DeepLearning.AI ProReinforcement Learning Heats Up, White House Orders Muscular AI Policy, Computer Use Gains Momentum, Fine Control of Fine-TuningDeepSeek Sharpens Its Reasoning: DeepSeek-R1, an affordable rival to OpenAI’s o1Oct 22, 2025Ling-1T Leads Non-Reasoning Performance, MCP Poses Security Risks, California Regulates AI, Auto-Tune for Agentic PromptsThe Batch AI News and Insights: In last week’s letter, I explained how effective agentic AI development needs a disciplined evals and error analysis process, and described an approach to performing evals.Oct 15, 2025DeepSeek Cuts Inference Costs, OpenAI Tightens Ties with AMD, Thinking Machines Simplifies Fine-Tuning, Robots Improve Spatial AwarenessThe Batch AI News and Insights: Readers responded with both surprise and agreement last week when I wrote that the single biggest predictor of how rapidly a team makes progress building an AI agent lay in their ability to drive a disciplined process for evals.Oct 08, 2025Claude Levels Up, Qwen3 Proliferates, Big AI Diversifies Product Lines, LoRA Adapters on TapThe Batch AI News and Insights: I’m thrilled to announce my latest course: Agentic AI! This course will get you up to speed building cutting-edge agentic workflows.Oct 01, 2025OpenAI’s Trillion-Dollar Bet, Generating Viruses, Modeling Planet Earth, Paying for Training DataThe Batch AI News and Insights: LandingAI’s Agentic Document Extraction (ADE) turns PDF files into LLM-ready markdown text.Sep 24, 2025AI Agents Spend Money, Online Betting Automates, ChatGPT Users Shift, Reinforcement Learning\u001b[00m\n",
      "\n",
      "\n",
      "\u001b[1m\u001b[95m# Agent:\u001b[00m \u001b[1m\u001b[92mlatest trends Analyst\u001b[00m\n",
      "\u001b[95m## Final Answer:\u001b[00m \u001b[92m\n",
      "1. **Proliferation of Agentic AI**: The emergence of agentic AI indicates a shift towards technologies capable of operating independently and efficiently in complex environments.\n",
      "\n",
      "2. **AI-Education Integration**: The focus on skills-based education illustrates the need for AI literacy in preparing the workforce for upcoming changes due to AI advancements.\n",
      "\n",
      "3. **Regulatory Landscape Changes**: Increasing regulations demonstrate the urgent need for governance in the fast-paced world of AI to mitigate risks and ensure ethical practices.\u001b[00m\n",
      "\n",
      "\n"
     ]
    }
   ],
   "source": [
    "# Assemble a crew with planning enabled\n",
    "crew = Crew(\n",
    "    agents=[researcher],\n",
    "    tasks=[research],\n",
    "    verbose=True,\n",
    "    planning=True,  # Enable planning feature\n",
    ")\n",
    "\n",
    "# Execute tasks\n",
    "result = crew.kickoff()"
   ]
  },
  {
   "cell_type": "code",
   "execution_count": 7,
   "metadata": {},
   "outputs": [
    {
     "data": {
      "text/markdown": [
       "1. **Proliferation of Agentic AI**: The emergence of agentic AI indicates a shift towards technologies capable of operating independently and efficiently in complex environments.\n",
       "\n",
       "2. **AI-Education Integration**: The focus on skills-based education illustrates the need for AI literacy in preparing the workforce for upcoming changes due to AI advancements.\n",
       "\n",
       "3. **Regulatory Landscape Changes**: Increasing regulations demonstrate the urgent need for governance in the fast-paced world of AI to mitigate risks and ensure ethical practices."
      ],
      "text/plain": [
       "<IPython.core.display.Markdown object>"
      ]
     },
     "metadata": {},
     "output_type": "display_data"
    }
   ],
   "source": [
    "from IPython.display import display, Markdown, display_png\n",
    "\n",
    "display(Markdown(result.raw))\n"
   ]
  },
  {
   "cell_type": "code",
   "execution_count": null,
   "metadata": {},
   "outputs": [],
   "source": []
  }
 ],
 "metadata": {
  "colab": {
   "gpuType": "T4",
   "provenance": []
  },
  "kernelspec": {
   "display_name": "base",
   "language": "python",
   "name": "python3"
  },
  "language_info": {
   "codemirror_mode": {
    "name": "ipython",
    "version": 3
   },
   "file_extension": ".py",
   "mimetype": "text/x-python",
   "name": "python",
   "nbconvert_exporter": "python",
   "pygments_lexer": "ipython3",
   "version": "3.12.2"
  }
 },
 "nbformat": 4,
 "nbformat_minor": 4
}
