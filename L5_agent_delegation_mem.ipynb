{
 "cells": [
  {
   "cell_type": "code",
   "execution_count": 1,
   "metadata": {},
   "outputs": [],
   "source": [
    "# !pip install crewai crewai_tools langchain_community"
   ]
  },
  {
   "cell_type": "code",
   "execution_count": 2,
   "metadata": {
    "height": 64
   },
   "outputs": [],
   "source": [
    "# Warning control\n",
    "import warnings\n",
    "warnings.filterwarnings('ignore')"
   ]
  },
  {
   "cell_type": "markdown",
   "metadata": {},
   "source": [
    "- Import from the crewAI libray."
   ]
  },
  {
   "cell_type": "code",
   "execution_count": 3,
   "metadata": {
    "height": 30
   },
   "outputs": [],
   "source": [
    "from crewai import Agent, Task, Crew, LLM"
   ]
  },
  {
   "cell_type": "code",
   "execution_count": 4,
   "metadata": {
    "height": 98
   },
   "outputs": [],
   "source": [
    "choice = 2\n",
    "import os\n",
    "from dotenv import load_dotenv\n",
    "from langchain_openai import ChatOpenAI\n",
    "load_dotenv()\n",
    "\n",
    "if choice==1:\n",
    "    api_key = os.getenv(\"OPENAI_API_KEY\")\n",
    "    os.environ[\"OPENAI_API_KEY\"] = api_key    \n",
    "    llm = ChatOpenAI(model = \"gpt-4o-mini\",openai_api_key=api_key)\n",
    "\n",
    "elif choice ==2:\n",
    "    \n",
    "    os.environ[\"OPENAI_API_KEY\"] = \"NA\"\n",
    "    llm = ChatOpenAI(\n",
    "        model = \"ollama/llama3.2\",\n",
    "        base_url = \"http://localhost:11434\"\n",
    "    )\n",
    "# else:\n",
    "#     from langchain_community.llms import HuggingFaceHub\n",
    "#     llm = HuggingFaceHub(\n",
    "#         repo_id=\"HuggingFaceH4/zephyr-7b-beta\",\n",
    "#         huggingfacehub_api_token=os.getenv(\"HUGGINGFACE_API_TOKEN\"),\n",
    "#         task=\"text-generation\",\n",
    "#     )"
   ]
  },
  {
   "cell_type": "code",
   "execution_count": 5,
   "metadata": {
    "height": 234
   },
   "outputs": [],
   "source": [
    "support_agent = Agent(\n",
    "    role=\"Senior Support Representative\",\n",
    "\tgoal=\"Be the most friendly and helpful \"\n",
    "        \"support representative in your team\",\n",
    "\tbackstory=(\n",
    "\t\t\"You work at crewAI (https://crewai.com) and \"\n",
    "        \" are now working on providing \"\n",
    "\t\t\"support to {customer}, a super important customer \"\n",
    "        \" for your company.\"\n",
    "\t\t\"You need to make sure that you provide the best support!\"\n",
    "\t\t\"Make sure to provide full complete answers, \"\n",
    "        \" and make no assumptions.\"\n",
    "\t),\n",
    "\tallow_delegation=False,\n",
    "    llm = llm,\n",
    "\tverbose=True\n",
    ")"
   ]
  },
  {
   "cell_type": "code",
   "execution_count": 6,
   "metadata": {
    "height": 370
   },
   "outputs": [],
   "source": [
    "support_quality_assurance_agent = Agent(\n",
    "\trole=\"Support Quality Assurance Specialist\",\n",
    "\tgoal=\"Get recognition for providing the \"\n",
    "    \"best support quality assurance in your team\",\n",
    "\tbackstory=(\n",
    "\t\t\"You work at crewAI (https://crewai.com) and \"\n",
    "        \"are now working with your team \"\n",
    "\t\t\"on a request from {customer} ensuring that \"\n",
    "        \"the support representative is \"\n",
    "\t\t\"providing the best support possible.\\n\"\n",
    "\t\t\"You need to make sure that the support representative \"\n",
    "        \"is providing full\"\n",
    "\t\t\"complete answers, and make no assumptions.\"\n",
    "\t),\n",
    "\tverbose=True,\n",
    "    llm = llm,\n",
    ")"
   ]
  },
  {
   "cell_type": "code",
   "execution_count": 7,
   "metadata": {
    "height": 268
   },
   "outputs": [],
   "source": [
    "from crewai_tools import SerperDevTool, ScrapeWebsiteTool, \\\n",
    "                         WebsiteSearchTool\n",
    "docs_scrape_tool = ScrapeWebsiteTool(\n",
    "    website_url=\"https://docs.crewai.com/concepts/crews\"\n",
    ")"
   ]
  },
  {
   "cell_type": "code",
   "execution_count": 8,
   "metadata": {
    "height": 268
   },
   "outputs": [],
   "source": [
    "inquiry_resolution = Task(\n",
    "    description=(\n",
    "        \"{customer} just reached out with a super important ask:\\n\"\n",
    "\t    \"{inquiry}\\n\\n\"\n",
    "        \"{person} from {customer} is the one that reached out. \"\n",
    "\t\t\"Make sure to use everything you know \"\n",
    "        \"to provide the best support possible.\"\n",
    "\t\t\"You must strive to provide a complete \"\n",
    "        \"and accurate response to the customer's inquiry.\"\n",
    "    ),\n",
    "    expected_output=(\n",
    "\t    \"A detailed, informative response to the \"\n",
    "        \"customer's inquiry that addresses \"\n",
    "        \"all aspects of their question.\\n\"\n",
    "        \"The response should include references \"\n",
    "        \"to everything you used to find the answer, \"\n",
    "        \"including external data or solutions. \"\n",
    "        \"Ensure the answer is complete, \"\n",
    "\t\t\"leaving no questions unanswered, and maintain a helpful and friendly \"\n",
    "\t\t\"tone throughout.\"\n",
    "    ),\n",
    "\ttools=[docs_scrape_tool],\n",
    "    agent=support_agent,\n",
    ")"
   ]
  },
  {
   "cell_type": "code",
   "execution_count": 9,
   "metadata": {
    "height": 319
   },
   "outputs": [],
   "source": [
    "quality_assurance_review = Task(\n",
    "    description=(\n",
    "        \"Review the response drafted by the Senior Support Representative for {customer}'s inquiry. \"\n",
    "        \"Ensure that the answer is comprehensive, accurate, and adheres to the \"\n",
    "\t\t\"high-quality standards expected for customer support.\\n\"\n",
    "        \"Verify that all parts of the customer's inquiry \"\n",
    "        \"have been addressed \"\n",
    "\t\t\"thoroughly, with a helpful and friendly tone.\\n\"\n",
    "        \"Check for references and sources used to \"\n",
    "        \" find the information, \"\n",
    "\t\t\"ensuring the response is well-supported and \"\n",
    "        \"leaves no questions unanswered.\"\n",
    "    ),\n",
    "    expected_output=(\n",
    "        \"A final, detailed, and informative response \"\n",
    "        \"ready to be sent to the customer.\\n\"\n",
    "        \"This response should fully address the \"\n",
    "        \"customer's inquiry, incorporating all \"\n",
    "\t\t\"relevant feedback and improvements.\\n\"\n",
    "\t\t\"Don't be too formal, we are a chill and cool company \"\n",
    "\t    \"but maintain a professional and friendly tone throughout.\"\n",
    "    ),\n",
    "    agent=support_quality_assurance_agent,\n",
    ")\n"
   ]
  },
  {
   "cell_type": "code",
   "execution_count": 10,
   "metadata": {
    "height": 98
   },
   "outputs": [],
   "source": [
    "crew = Crew(\n",
    "  agents=[support_agent, support_quality_assurance_agent],\n",
    "  tasks=[inquiry_resolution, quality_assurance_review],\n",
    "  verbose=1,\n",
    "  memory=True\n",
    ")"
   ]
  },
  {
   "cell_type": "code",
   "execution_count": 11,
   "metadata": {
    "height": 30
   },
   "outputs": [
    {
     "name": "stderr",
     "output_type": "stream",
     "text": [
      "2024-12-08 20:55:24,684 - 8492939328 - rag_storage.py-rag_storage:118 - ERROR: Error during short_term search: APIStatusError.__init__() missing 2 required keyword-only arguments: 'response' and 'body'\n",
      "2024-12-08 20:55:25,715 - 8492939328 - rag_storage.py-rag_storage:118 - ERROR: Error during entities search: APIStatusError.__init__() missing 2 required keyword-only arguments: 'response' and 'body'\n"
     ]
    },
    {
     "name": "stdout",
     "output_type": "stream",
     "text": [
      "\u001b[1m\u001b[95m# Agent:\u001b[00m \u001b[1m\u001b[92mSenior Support Representative\u001b[00m\n",
      "\u001b[95m## Task:\u001b[00m \u001b[92mResolve AI just reached out with a super important ask:\n",
      "I need help with setting up a CrewAI for safe city how can I add memory to my crewAI? Can you provide guidance with steps?\n",
      "\n",
      "Usman from Resolve AI is the one that reached out. Make sure to use everything you know to provide the best support possible.You must strive to provide a complete and accurate response to the customer's inquiry.\u001b[00m\n",
      "\n",
      "\n",
      "\u001b[1m\u001b[95m# Agent:\u001b[00m \u001b[1m\u001b[92mSenior Support Representative\u001b[00m\n",
      "\u001b[95m## Using tool:\u001b[00m \u001b[92mRead website content\u001b[00m\n",
      "\u001b[95m## Tool Input:\u001b[00m \u001b[92m\n",
      "\"{\\\"section\\\": \\\"Setting up CrewAI for Safe City\\\", \\\"topic\\\": \\\"Adding Memory to CrewAI\\\"}\"\u001b[00m\n",
      "\u001b[95m## Tool Output:\u001b[00m \u001b[92m\n",
      "Crews - CrewAICrewAI home pageSearch CrewAI docscrewAIInc/crewAIcrewAIInc/crewAISearch...NavigationCore ConceptsCrewsGet StartedExamplesCrewAI home pageCommunityChangelogGet StartedIntroductionInstallationQuickstartCore ConceptsAgentsTasksCrewsFlowsKnowledgeLLMsProcessesCollaborationTrainingMemoryPlanningTestingCLIToolsUsing LangChain ToolsUsing LlamaIndex ToolsHow to GuidesCreate Custom ToolsSequential ProcessesHierarchical ProcessCreate Your Own Manager AgentConnect to any LLMCustomize AgentsCoding AgentsForce Tool Output as ResultHuman Input on ExecutionKickoff Crew AsynchronouslyKickoff Crew for EachReplay Tasks from Latest Crew KickoffConditional TasksAgent Monitoring with AgentOpsAgent Monitoring with LangtraceAgent Monitoring with OpenLITToolsBrowserbase Web LoaderCode Docs RAG SearchCode InterpreterComposio ToolCSV RAG SearchDALL-E ToolDirectory RAG SearchDirectory ReadDOCX RAG SearchEXA Search Web LoaderFile ReadFile WriteFirecrawl Crawl WebsiteFirecrawl Scrape WebsiteFirecrawl SearchGithub SearchGoogle Serper SearchJSON RAG SearchMDX RAG SearchMySQL RAG SearchNL2SQL ToolPDF RAG SearchPG RAG SearchScrape WebsiteSelenium ScraperSpider ScraperTXT RAG SearchVision ToolWebsite RAG SearchXML RAG SearchYouTube Channel RAG SearchYouTube Video RAG SearchTelemetryTelemetryCore ConceptsCrewsUnderstanding and utilizing crews in the crewAI framework with comprehensive attributes and functionalities.​What is a Crew?\n",
      "A crew in crewAI represents a collaborative group of agents working together to achieve a set of tasks. Each crew defines the strategy for task execution, agent collaboration, and the overall workflow.\n",
      "​Crew Attributes\n",
      "AttributeParametersDescriptionTaskstasksA list of tasks assigned to the crew.AgentsagentsA list of agents that are part of the crew.Process (optional)processThe process flow (e.g., sequential, hierarchical) the crew follows. Default is sequential.Verbose (optional)verboseThe verbosity level for logging during execution. Defaults to False.Manager LLM (optional)manager_llmThe language model used by the manager agent in a hierarchical process. Required when using a hierarchical process.Function Calling LLM (optional)function_calling_llmIf passed, the crew will use this LLM to do function calling for tools for all agents in the crew. Each agent can have its own LLM, which overrides the crew’s LLM for function calling.Config (optional)configOptional configuration settings for the crew, in Json or Dict[str, Any] format.Max RPM (optional)max_rpmMaximum requests per minute the crew adheres to during execution. Defaults to None.Language (optional)languageLanguage used for the crew, defaults to English.Language File (optional)language_filePath to the language file to be used for the crew.Memory (optional)memoryUtilized for storing execution memories (short-term, long-term, entity memory).Memory Config (optional)memory_configConfiguration for the memory provider to be used by the crew.Cache (optional)cacheSpecifies whether to use a cache for storing the results of tools’ execution. Defaults to True.Embedder (optional)embedderConfiguration for the embedder to be used by the crew. Mostly used by memory for now. Default is {\"provider\": \"openai\"}.Full Output (optional)full_outputWhether the crew should return the full output with all tasks outputs or just the final output. Defaults to False.Step Callback (optional)step_callbackA function that is called after each step of every agent. This can be used to log the agent’s actions or to perform other operations; it won’t override the agent-specific step_callback.Task Callback (optional)task_callbackA function that is called after the completion of each task. Useful for monitoring or additional operations post-task execution.Share Crew (optional)share_crewWhether you want to share the complete crew information and execution with the crewAI team to make the library better, and allow us to train models.Output Log File (optional)output_log_fileWhether you want to have a file with the complete crew output and execution. You can set it using True and it will default to the folder you are currently in and it will be called logs.txt or passing a string with the full path and name of the file.Manager Agent (optional)manager_agentmanager sets a custom agent that will be used as a manager.Manager Callbacks (optional)manager_callbacksmanager_callbacks takes a list of callback handlers to be executed by the manager agent when a hierarchical process is used.Prompt File (optional)prompt_filePath to the prompt JSON file to be used for the crew.Planning (optional)planningAdds planning ability to the Crew. When activated before each Crew iteration, all Crew data is sent to an AgentPlanner that will plan the tasks and this plan will be added to each task description.Planning LLM (optional)planning_llmThe language model used by the AgentPlanner in a planning process.\n",
      "Crew Max RPM: The max_rpm attribute sets the maximum number of requests per minute the crew can perform to avoid rate limits and will override individual agents’ max_rpm settings if you set it.\n",
      "​Creating Crews\n",
      "There are two ways to create crews in CrewAI: using YAML configuration (recommended) or defining them directly in code.\n",
      "​YAML Configuration (Recommended)\n",
      "Using YAML configuration provides a cleaner, more maintainable way to define crews and is consistent with how agents and tasks are defined in CrewAI projects.\n",
      "After creating your CrewAI project as outlined in the Installation section, you can define your crew in a class that inherits from CrewBase and uses decorators to define agents, tasks, and the crew itself.\n",
      "​Example Crew Class with Decorators\n",
      "codefrom crewai import Agent, Crew, Task, Process\n",
      "from crewai.project import CrewBase, agent, task, crew, before_kickoff, after_kickoff\n",
      "@CrewBase\n",
      "class YourCrewName:\n",
      " \"\"\"Description of your crew\"\"\"\n",
      " # Paths to your YAML configuration files\n",
      " # To see an example agent and task defined in YAML, checkout the following:\n",
      " # - Task: https://docs.crewai.com/concepts/tasks#yaml-configuration-recommended\n",
      " # - Agents: https://docs.crewai.com/concepts/agents#yaml-configuration-recommended\n",
      " agents_config = 'config/agents.yaml' tasks_config = 'config/tasks.yaml' @before_kickoff\n",
      " def prepare_inputs(self, inputs):\n",
      " # Modify inputs before the crew starts\n",
      " inputs['additional_data'] = \"Some extra information\"\n",
      " return inputs\n",
      " @after_kickoff\n",
      " def process_output(self, output):\n",
      " # Modify output after the crew finishes\n",
      " output.raw += \"\\nProcessed after kickoff.\"\n",
      " return output\n",
      " @agent\n",
      " def agent_one(self) -> Agent:\n",
      " return Agent(\n",
      " config=self.agents_config['agent_one'],\n",
      " verbose=True\n",
      " )\n",
      " @agent\n",
      " def agent_two(self) -> Agent:\n",
      " return Agent(\n",
      " config=self.agents_config['agent_two'],\n",
      " verbose=True\n",
      " )\n",
      " @task\n",
      " def task_one(self) -> Task:\n",
      " return Task(\n",
      " config=self.tasks_config['task_one']\n",
      " )\n",
      " @task\n",
      " def task_two(self) -> Task:\n",
      " return Task(\n",
      " config=self.tasks_config['task_two']\n",
      " )\n",
      " @crew\n",
      " def crew(self) -> Crew:\n",
      " return Crew(\n",
      " agents=self.agents, # Automatically collected by the @agent decorator\n",
      " tasks=self.tasks, # Automatically collected by the @task decorator. process=Process.sequential,\n",
      " verbose=True,\n",
      " )\n",
      "Tasks will be executed in the order they are defined.\n",
      "The CrewBase class, along with these decorators, automates the collection of agents and tasks, reducing the need for manual management.\n",
      "​Decorators overview from annotations.py\n",
      "CrewAI provides several decorators in the annotations.py file that are used to mark methods within your crew class for special handling:\n",
      "@CrewBase: Marks the class as a crew base class.\n",
      "@agent: Denotes a method that returns an Agent object.\n",
      "@task: Denotes a method that returns a Task object.\n",
      "@crew: Denotes the method that returns the Crew object.\n",
      "@before_kickoff: (Optional) Marks a method to be executed before the crew starts.\n",
      "@after_kickoff: (Optional) Marks a method to be executed after the crew finishes.\n",
      "These decorators help in organizing your crew’s structure and automatically collecting agents and tasks without manually listing them.\n",
      "​Direct Code Definition (Alternative)\n",
      "Alternatively, you can define the crew directly in code without using YAML configuration files.\n",
      "codefrom crewai import Agent, Crew, Task, Process\n",
      "from crewai_tools import YourCustomTool\n",
      "class YourCrewName:\n",
      " def agent_one(self) -> Agent:\n",
      " return Agent(\n",
      " role=\"Data Analyst\",\n",
      " goal=\"Analyze data trends in the market\",\n",
      " backstory=\"An experienced data analyst with a background in economics\",\n",
      " verbose=True,\n",
      " tools=[YourCustomTool()]\n",
      " )\n",
      " def agent_two(self) -> Agent:\n",
      " return Agent(\n",
      " role=\"Market Researcher\",\n",
      " goal=\"Gather information on market dynamics\",\n",
      " backstory=\"A diligent researcher with a keen eye for detail\",\n",
      " verbose=True\n",
      " )\n",
      " def task_one(self) -> Task:\n",
      " return Task(\n",
      " description=\"Collect recent market data and identify trends.\",\n",
      " expected_output=\"A report summarizing key trends in the market.\",\n",
      " agent=self.agent_one()\n",
      " )\n",
      " def task_two(self) -> Task:\n",
      " return Task(\n",
      " description=\"Research factors affecting market dynamics.\",\n",
      " expected_output=\"An analysis of factors influencing the market.\",\n",
      " agent=self.agent_two()\n",
      " )\n",
      " def crew(self) -> Crew:\n",
      " return Crew(\n",
      " agents=[self.agent_one(), self.agent_two()],\n",
      " tasks=[self.task_one(), self.task_two()],\n",
      " process=Process.sequential,\n",
      " verbose=True\n",
      " )\n",
      "In this example:\n",
      "Agents and tasks are defined directly within the class without decorators.\n",
      "We manually create and manage the list of agents and tasks.\n",
      "This approach provides more control but can be less maintainable for larger projects.\n",
      "​Crew Output\n",
      "The output of a crew in the CrewAI framework is encapsulated within the CrewOutput class.\n",
      "This class provides a structured way to access results of the crew’s execution, including various formats such as raw strings, JSON, and Pydantic models.\n",
      "The CrewOutput includes the results from the final task output, token usage, and individual task outputs.\n",
      "​Crew Output Attributes\n",
      "AttributeParametersTypeDescriptionRawrawstrThe raw output of the crew. This is the default format for the output.PydanticpydanticOptional[BaseModel]A Pydantic model object representing the structured output of the crew.JSON Dictjson_dictOptional[Dict[str, Any]]A dictionary representing the JSON output of the crew.Tasks Outputtasks_outputList[TaskOutput]A list of TaskOutput objects, each representing the output of a task in the crew.Token Usagetoken_usageDict[str, Any]A summary of token usage, providing insights into the language model’s performance during execution.\n",
      "​Crew Output Methods and Properties\n",
      "Method/PropertyDescriptionjsonReturns the JSON string representation of the crew output if the output format is JSON.to_dictConverts the JSON and Pydantic outputs to a dictionary.**str**Returns the string representation of the crew output, prioritizing Pydantic, then JSON, then raw.\n",
      "​Accessing Crew Outputs\n",
      "Once a crew has been executed, its output can be accessed through the output attribute of the Crew object. The CrewOutput class provides various ways to interact with and present this output.\n",
      "​Example\n",
      "Code# Example crew execution\n",
      "crew = Crew(\n",
      " agents=[research_agent, writer_agent],\n",
      " tasks=[research_task, write_article_task],\n",
      " verbose=True\n",
      ")\n",
      "crew_output = crew.kickoff()\n",
      "# Accessing the crew output\n",
      "print(f\"Raw Output: {crew_output.raw}\")\n",
      "if crew_output.json_dict:\n",
      " print(f\"JSON Output: {json.dumps(crew_output.json_dict, indent=2)}\")\n",
      "if crew_output.pydantic:\n",
      " print(f\"Pydantic Output: {crew_output.pydantic}\")\n",
      "print(f\"Tasks Output: {crew_output.tasks_output}\")\n",
      "print(f\"Token Usage: {crew_output.token_usage}\")\n",
      "​Memory Utilization\n",
      "Crews can utilize memory (short-term, long-term, and entity memory) to enhance their execution and learning over time. This feature allows crews to store and recall execution memories, aiding in decision-making and task execution strategies.\n",
      "​Cache Utilization\n",
      "Caches can be employed to store the results of tools’ execution, making the process more efficient by reducing the need to re-execute identical tasks.\n",
      "​Crew Usage Metrics\n",
      "After the crew execution, you can access the usage_metrics attribute to view the language model (LLM) usage metrics for all tasks executed by the crew. This provides insights into operational efficiency and areas for improvement.\n",
      "Code# Access the crew's usage metrics\n",
      "crew = Crew(agents=[agent1, agent2], tasks=[task1, task2])\n",
      "crew.kickoff()\n",
      "print(crew.usage_metrics)\n",
      "​Crew Execution Process\n",
      "Sequential Process: Tasks are executed one after another, allowing for a linear flow of work.\n",
      "Hierarchical Process: A manager agent coordinates the crew, delegating tasks and validating outcomes before proceeding. Note: A manager_llm or manager_agent is required for this process and it’s essential for validating the process flow.\n",
      "​Kicking Off a Crew\n",
      "Once your crew is assembled, initiate the workflow with the kickoff() method. This starts the execution process according to the defined process flow.\n",
      "Code# Start the crew's task execution\n",
      "result = my_crew.kickoff()\n",
      "print(result)\n",
      "​Different Ways to Kick Off a Crew\n",
      "Once your crew is assembled, initiate the workflow with the appropriate kickoff method. CrewAI provides several methods for better control over the kickoff process: kickoff(), kickoff_for_each(), kickoff_async(), and kickoff_for_each_async().\n",
      "kickoff(): Starts the execution process according to the defined process flow.\n",
      "kickoff_for_each(): Executes tasks for each agent individually.\n",
      "kickoff_async(): Initiates the workflow asynchronously.\n",
      "kickoff_for_each_async(): Executes tasks for each agent individually in an asynchronous manner.\n",
      "Code# Start the crew's task execution\n",
      "result = my_crew.kickoff()\n",
      "print(result)\n",
      "# Example of using kickoff_for_each\n",
      "inputs_array = [{'topic': 'AI in healthcare'}, {'topic': 'AI in finance'}]\n",
      "results = my_crew.kickoff_for_each(inputs=inputs_array)\n",
      "for result in results:\n",
      " print(result)\n",
      "# Example of using kickoff_async\n",
      "inputs = {'topic': 'AI in healthcare'}\n",
      "async_result = my_crew.kickoff_async(inputs=inputs)\n",
      "print(async_result)\n",
      "# Example of using kickoff_for_each_async\n",
      "inputs_array = [{'topic': 'AI in healthcare'}, {'topic': 'AI in finance'}]\n",
      "async_results = my_crew.kickoff_for_each_async(inputs=inputs_array)\n",
      "for async_result in async_results:\n",
      " print(async_result)\n",
      "These methods provide flexibility in how you manage and execute tasks within your crew, allowing for both synchronous and asynchronous workflows tailored to your needs.\n",
      "​Replaying from a Specific Task\n",
      "You can now replay from a specific task using our CLI command replay.\n",
      "The replay feature in CrewAI allows you to replay from a specific task using the command-line interface (CLI). By running the command crewai replay -t <task_id>, you can specify the task_id for the replay process.\n",
      "Kickoffs will now save the latest kickoffs returned task outputs locally for you to be able to replay from.\n",
      "​Replaying from a Specific Task Using the CLI\n",
      "To use the replay feature, follow these steps:\n",
      "Open your terminal or command prompt.\n",
      "Navigate to the directory where your CrewAI project is located.\n",
      "Run the following command:\n",
      "To view the latest kickoff task IDs, use:\n",
      "crewai log-tasks-outputs\n",
      "Then, to replay from a specific task, use:\n",
      "crewai replay -t <task_id>\n",
      "These commands let you replay from your latest kickoff tasks, still retaining context from previously executed tasks.Was this page helpful?YesNoTasksFlowswebsitexgithublinkedinyoutubePowered by MintlifyOn this pageWhat is a Crew?Crew AttributesCreating CrewsYAML Configuration (Recommended)Example Crew Class with DecoratorsDecorators overview from annotations.pyDirect Code Definition (Alternative)Crew OutputCrew Output AttributesCrew Output Methods and PropertiesAccessing Crew OutputsExampleMemory UtilizationCache UtilizationCrew Usage MetricsCrew Execution ProcessKicking Off a CrewDifferent Ways to Kick Off a CrewReplaying from a Specific TaskReplaying from a Specific Task Using the CLI\u001b[00m\n",
      "\n",
      "\n",
      "\u001b[1m\u001b[95m# Agent:\u001b[00m \u001b[1m\u001b[92mSenior Support Representative\u001b[00m\n",
      "\u001b[95m## Final Answer:\u001b[00m \u001b[92m\n",
      "CrewAI is a platform that enables teams to build, deploy, and manage AI-powered workflows. It provides various features such as sequential process, hierarchical process, memory utilization, cache utilization, crew usage metrics, and replay functionality. The correct format for starting a crew's task execution is by using the kickoff() method. Additionally, CrewAI offers different ways to kick off a crew, including kickoff_for_each(), kickoff_async(), and kickoff_for_each_async(). The replay feature in CrewAI allows users to replay from a specific task using the command-line interface (CLI).\u001b[00m\n",
      "\n",
      "\n"
     ]
    },
    {
     "name": "stderr",
     "output_type": "stream",
     "text": [
      "2024-12-08 20:56:00,134 - 8492939328 - rag_storage.py-rag_storage:89 - ERROR: Error during short_term save: APIStatusError.__init__() missing 2 required keyword-only arguments: 'response' and 'body'\n"
     ]
    },
    {
     "name": "stdout",
     "output_type": "stream",
     "text": [
      "\n",
      "\u001b[1;31mGive Feedback / Get Help: https://github.com/BerriAI/litellm/issues/new\u001b[0m\n",
      "LiteLLM.Info: If you need to debug this error, use `litellm.set_verbose=True'.\n",
      "\n",
      "\n",
      "\u001b[1;31mProvider List: https://docs.litellm.ai/docs/providers\u001b[0m\n",
      "\n",
      "\n",
      "\u001b[1;31mGive Feedback / Get Help: https://github.com/BerriAI/litellm/issues/new\u001b[0m\n",
      "LiteLLM.Info: If you need to debug this error, use `litellm.set_verbose=True'.\n",
      "\n",
      "\n",
      "\u001b[1;31mProvider List: https://docs.litellm.ai/docs/providers\u001b[0m\n",
      "\n",
      "\n",
      "\u001b[1;31mGive Feedback / Get Help: https://github.com/BerriAI/litellm/issues/new\u001b[0m\n",
      "LiteLLM.Info: If you need to debug this error, use `litellm.set_verbose=True'.\n",
      "\n",
      "\n",
      "\u001b[1;31mProvider List: https://docs.litellm.ai/docs/providers\u001b[0m\n",
      "\n"
     ]
    },
    {
     "name": "stderr",
     "output_type": "stream",
     "text": [
      "2024-12-08 20:57:11,095 - 8492939328 - rag_storage.py-rag_storage:118 - ERROR: Error during short_term search: APIStatusError.__init__() missing 2 required keyword-only arguments: 'response' and 'body'\n",
      "2024-12-08 20:57:12,226 - 8492939328 - rag_storage.py-rag_storage:118 - ERROR: Error during entities search: APIStatusError.__init__() missing 2 required keyword-only arguments: 'response' and 'body'\n"
     ]
    },
    {
     "name": "stdout",
     "output_type": "stream",
     "text": [
      "\u001b[1m\u001b[95m# Agent:\u001b[00m \u001b[1m\u001b[92mSupport Quality Assurance Specialist\u001b[00m\n",
      "\u001b[95m## Task:\u001b[00m \u001b[92mReview the response drafted by the Senior Support Representative for Resolve AI's inquiry. Ensure that the answer is comprehensive, accurate, and adheres to the high-quality standards expected for customer support.\n",
      "Verify that all parts of the customer's inquiry have been addressed thoroughly, with a helpful and friendly tone.\n",
      "Check for references and sources used to  find the information, ensuring the response is well-supported and leaves no questions unanswered.\u001b[00m\n",
      "\n",
      "\n",
      "\u001b[1m\u001b[95m# Agent:\u001b[00m \u001b[1m\u001b[92mSupport Quality Assurance Specialist\u001b[00m\n",
      "\u001b[95m## Final Answer:\u001b[00m \u001b[92m\n",
      "The support representative's response should include the following information:\n",
      "\n",
      "1. **Correct format for starting a crew's task execution**: The correct format for starting a crew's task execution is by using the kickoff() method.\n",
      "2. **Different ways to kick off a crew**: CrewAI offers different ways to kick off a crew, including:\n",
      " * kickoff_for_each(): This method kicks off a crew by executing each task sequentially.\n",
      " * kickoff_async(): This method kicks off a crew asynchronously, which allows for more flexibility in terms of task execution.\n",
      " * kickoff_for_each_async(): This method kicks off a crew asynchronously and executes each task sequentially. Note that this is similar to the kickoff_for_each() method but uses asynchronous execution.\n",
      "\n",
      "3. **Replay feature**: The replay feature in CrewAI allows users to replay from a specific task using the command-line interface (CLI). This can be useful for debugging or testing purposes.\n",
      "\n",
      "4. **References and sources**: To verify the accuracy of this information, one can refer to the CrewAI documentation or contact their support team directly. Additionally, reputable sources such as GitHub or Stack Overflow may also provide valuable insights and examples.\n",
      "\n",
      "5. **Helpful and friendly tone**: The response should be written in a clear and concise manner, avoiding technical jargon whenever possible. It's essential to use a helpful and friendly tone to ensure that the customer feels supported and confident in using CrewAI.\n",
      "\n",
      "6. **No assumptions**: The support representative should avoid making assumptions about the customer's experience or expectations. Instead, they should focus on providing accurate information and addressing any questions or concerns raised by the customer.\n",
      "\n",
      "7. **Full completion of customer's inquiry**: The response should fully address the customer's inquiry, incorporating all relevant feedback and improvements. This ensures that the customer feels supported and has a clear understanding of how to use CrewAI.\n",
      "\n",
      "By following these guidelines, the support representative can provide a comprehensive and accurate response that meets the high-quality standards expected for customer support.\u001b[00m\n",
      "\n",
      "\n"
     ]
    },
    {
     "name": "stderr",
     "output_type": "stream",
     "text": [
      "2024-12-08 20:57:23,004 - 8492939328 - rag_storage.py-rag_storage:89 - ERROR: Error during short_term save: APIStatusError.__init__() missing 2 required keyword-only arguments: 'response' and 'body'\n"
     ]
    },
    {
     "name": "stdout",
     "output_type": "stream",
     "text": [
      "\n",
      "\u001b[1;31mGive Feedback / Get Help: https://github.com/BerriAI/litellm/issues/new\u001b[0m\n",
      "LiteLLM.Info: If you need to debug this error, use `litellm.set_verbose=True'.\n",
      "\n",
      "\n",
      "\u001b[1;31mProvider List: https://docs.litellm.ai/docs/providers\u001b[0m\n",
      "\n",
      "\n",
      "\u001b[1;31mGive Feedback / Get Help: https://github.com/BerriAI/litellm/issues/new\u001b[0m\n",
      "LiteLLM.Info: If you need to debug this error, use `litellm.set_verbose=True'.\n",
      "\n",
      "\n",
      "\u001b[1;31mProvider List: https://docs.litellm.ai/docs/providers\u001b[0m\n",
      "\n",
      "\n",
      "\u001b[1;31mGive Feedback / Get Help: https://github.com/BerriAI/litellm/issues/new\u001b[0m\n",
      "LiteLLM.Info: If you need to debug this error, use `litellm.set_verbose=True'.\n",
      "\n",
      "\n",
      "\u001b[1;31mProvider List: https://docs.litellm.ai/docs/providers\u001b[0m\n",
      "\n"
     ]
    }
   ],
   "source": [
    "inputs = {\n",
    "    \"customer\": \"Resolve AI\",\n",
    "    \"person\": \"Usman\",\n",
    "    \"inquiry\": \"I need help with setting up a CrewAI for safe city \"\n",
    "               \"how can I add memory to my crewAI? \"\n",
    "               \"Can you provide guidance with steps?\"\n",
    "}\n",
    "result = crew.kickoff(inputs=inputs)"
   ]
  },
  {
   "cell_type": "code",
   "execution_count": 12,
   "metadata": {},
   "outputs": [
    {
     "data": {
      "text/markdown": [
       "The support representative's response should include the following information:\n",
       "\n",
       "1. **Correct format for starting a crew's task execution**: The correct format for starting a crew's task execution is by using the kickoff() method.\n",
       "2. **Different ways to kick off a crew**: CrewAI offers different ways to kick off a crew, including:\n",
       " * kickoff_for_each(): This method kicks off a crew by executing each task sequentially.\n",
       " * kickoff_async(): This method kicks off a crew asynchronously, which allows for more flexibility in terms of task execution.\n",
       " * kickoff_for_each_async(): This method kicks off a crew asynchronously and executes each task sequentially. Note that this is similar to the kickoff_for_each() method but uses asynchronous execution.\n",
       "\n",
       "3. **Replay feature**: The replay feature in CrewAI allows users to replay from a specific task using the command-line interface (CLI). This can be useful for debugging or testing purposes.\n",
       "\n",
       "4. **References and sources**: To verify the accuracy of this information, one can refer to the CrewAI documentation or contact their support team directly. Additionally, reputable sources such as GitHub or Stack Overflow may also provide valuable insights and examples.\n",
       "\n",
       "5. **Helpful and friendly tone**: The response should be written in a clear and concise manner, avoiding technical jargon whenever possible. It's essential to use a helpful and friendly tone to ensure that the customer feels supported and confident in using CrewAI.\n",
       "\n",
       "6. **No assumptions**: The support representative should avoid making assumptions about the customer's experience or expectations. Instead, they should focus on providing accurate information and addressing any questions or concerns raised by the customer.\n",
       "\n",
       "7. **Full completion of customer's inquiry**: The response should fully address the customer's inquiry, incorporating all relevant feedback and improvements. This ensures that the customer feels supported and has a clear understanding of how to use CrewAI.\n",
       "\n",
       "By following these guidelines, the support representative can provide a comprehensive and accurate response that meets the high-quality standards expected for customer support."
      ],
      "text/plain": [
       "<IPython.core.display.Markdown object>"
      ]
     },
     "execution_count": 12,
     "metadata": {},
     "output_type": "execute_result"
    }
   ],
   "source": [
    "from IPython.display import display, Markdown\n",
    "Markdown(result.raw)"
   ]
  }
 ],
 "metadata": {
  "colab": {
   "gpuType": "T4",
   "provenance": []
  },
  "kernelspec": {
   "display_name": "Python 3 (ipykernel)",
   "language": "python",
   "name": "python3"
  },
  "language_info": {
   "codemirror_mode": {
    "name": "ipython",
    "version": 3
   },
   "file_extension": ".py",
   "mimetype": "text/x-python",
   "name": "python",
   "nbconvert_exporter": "python",
   "pygments_lexer": "ipython3",
   "version": "3.12.4"
  }
 },
 "nbformat": 4,
 "nbformat_minor": 4
}
