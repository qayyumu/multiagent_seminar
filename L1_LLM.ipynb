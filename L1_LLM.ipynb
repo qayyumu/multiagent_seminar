{
 "cells": [
  {
   "cell_type": "code",
   "execution_count": 1,
   "metadata": {},
   "outputs": [],
   "source": [
    "# install the necessary libraries \n",
    "# !pip install crewai crewai_tools langchain_community"
   ]
  },
  {
   "cell_type": "code",
   "execution_count": 2,
   "metadata": {
    "height": 64
   },
   "outputs": [],
   "source": [
    "# Warning control\n",
    "import warnings\n",
    "warnings.filterwarnings('ignore')\n"
   ]
  },
  {
   "cell_type": "code",
   "execution_count": 3,
   "metadata": {
    "height": 98
   },
   "outputs": [],
   "source": [
    "choose_LLM = 1\n",
    "colab_exp = 0\n",
    "import os\n",
    "\n",
    "from langchain_openai import ChatOpenAI\n",
    "\n",
    "if choose_LLM==1:\n",
    "    if(colab_exp):\n",
    "        from google.colab import userdata    ###for colab use\n",
    "        llm = ChatOpenAI(model = \"gpt-4o-mini\",openai_api_key=userdata.get('OPENAI_API_KEY'))\n",
    "    else:\n",
    "        from dotenv import load_dotenv\n",
    "        load_dotenv() \n",
    "        llm = ChatOpenAI(model = \"gpt-4o-mini\",openai_api_key=os.getenv(\"OPENAI_API_KEY\"))\n",
    "\n",
    "elif choose_LLM ==2:\n",
    "    from langchain.llms import Ollama\n",
    "    llm = Ollama(model = \"llama3.2\",base_url = \"http://localhost:11434\")\n",
    "    \n"
   ]
  },
  {
   "cell_type": "code",
   "execution_count": 4,
   "metadata": {},
   "outputs": [
    {
     "name": "stdout",
     "output_type": "stream",
     "text": [
      "LLM Output:\n",
      "CrewAI is an innovative platform that leverages artificial intelligence to streamline team collaboration and enhance productivity. By integrating advanced machine learning algorithms, CrewAI provides intelligent insights and automates routine tasks, allowing teams to focus on strategic initiatives. With features such as real-time communication, project management tools, and data analytics, CrewAI fosters a more efficient and cohesive work environment, empowering organizations to achieve their goals faster and more effectively. Whether for remote teams or in-office collaboration, CrewAI is designed to adapt to the unique needs of each organization, making it a vital tool for modern workplaces.\n"
     ]
    }
   ],
   "source": [
    "# Define a simple function to interact with the LLM\n",
    "\n",
    "def query_llm(prompt):\n",
    "    try:\n",
    "        # Use the `invoke` method to query the LLM\n",
    "        response = llm.invoke(prompt)\n",
    "        # print(response)\n",
    "        if(choose_LLM ==1):\n",
    "            return response.content  # Extract content directly\n",
    "        else:\n",
    "            return response\n",
    "    except Exception as e:\n",
    "        print(f\"Error querying LLM: {e}\")\n",
    "        return None\n",
    "\n",
    "# Example usage\n",
    "if __name__ == \"__main__\":\n",
    "    prompt = \"Write a short description about CrewAI\"\n",
    "    output = query_llm(prompt)\n",
    "    if output:\n",
    "        print(\"LLM Output:\")\n",
    "        print(output)\n",
    "        "
   ]
  },
  {
   "cell_type": "code",
   "execution_count": 5,
   "metadata": {},
   "outputs": [
    {
     "data": {
      "text/markdown": [
       "CrewAI is an innovative platform that leverages artificial intelligence to streamline team collaboration and enhance productivity. By integrating advanced machine learning algorithms, CrewAI provides intelligent insights and automates routine tasks, allowing teams to focus on strategic initiatives. With features such as real-time communication, project management tools, and data analytics, CrewAI fosters a more efficient and cohesive work environment, empowering organizations to achieve their goals faster and more effectively. Whether for remote teams or in-office collaboration, CrewAI is designed to adapt to the unique needs of each organization, making it a vital tool for modern workplaces."
      ],
      "text/plain": [
       "<IPython.core.display.Markdown object>"
      ]
     },
     "metadata": {},
     "output_type": "display_data"
    }
   ],
   "source": [
    "from IPython.display import display, Markdown, display_png\n",
    "\n",
    "display(Markdown(output))\n"
   ]
  },
  {
   "cell_type": "code",
   "execution_count": null,
   "metadata": {},
   "outputs": [],
   "source": []
  }
 ],
 "metadata": {
  "colab": {
   "gpuType": "T4",
   "provenance": []
  },
  "kernelspec": {
   "display_name": "Python 3 (ipykernel)",
   "language": "python",
   "name": "python3"
  },
  "language_info": {
   "codemirror_mode": {
    "name": "ipython",
    "version": 3
   },
   "file_extension": ".py",
   "mimetype": "text/x-python",
   "name": "python",
   "nbconvert_exporter": "python",
   "pygments_lexer": "ipython3",
   "version": "3.12.4"
  }
 },
 "nbformat": 4,
 "nbformat_minor": 4
}
