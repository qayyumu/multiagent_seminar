{
 "cells": [
  {
   "cell_type": "code",
   "execution_count": 1,
   "metadata": {
    "height": 64
   },
   "outputs": [],
   "source": [
    "# install the necessary libraries \n",
    "# !pip install crewai crewai_tools langchain_community\n",
    "# Warning control\n",
    "import warnings\n",
    "warnings.filterwarnings('ignore')\n"
   ]
  },
  {
   "cell_type": "markdown",
   "metadata": {},
   "source": [
    "- Import from the crewAI libray."
   ]
  },
  {
   "cell_type": "code",
   "execution_count": 2,
   "metadata": {
    "height": 30
   },
   "outputs": [],
   "source": [
    "from crewai import Agent, Task, Crew, LLM"
   ]
  },
  {
   "cell_type": "code",
   "execution_count": 3,
   "metadata": {
    "height": 98
   },
   "outputs": [],
   "source": [
    "choose_LLM = 1\n",
    "colab_exp = 0\n",
    "import os\n",
    "\n",
    "from langchain_openai import ChatOpenAI\n",
    "\n",
    "if choose_LLM==1:\n",
    "    if(colab_exp):\n",
    "        from google.colab import userdata    ###for colab use\n",
    "        llm = ChatOpenAI(model = \"gpt-4o-mini\",openai_api_key=userdata.get('OPENAI_API_KEY'))\n",
    "    else:\n",
    "        from dotenv import load_dotenv\n",
    "        load_dotenv() \n",
    "        llm = \"gpt-4o-mini\" #ChatOpenAI(model = \"gpt-4o-mini\",openai_api_key=os.getenv(\"OPENAI_API_KEY\"))\n",
    "\n",
    "else:\n",
    "    llm = ChatOpenAI(model=\"ollama/llama3.2\", base_url=\"http://localhost:11434\",temperature=0.1)\n",
    "\n",
    "    \n",
    "# else:\n",
    "#     from langchain_community.llms import HuggingFaceHub\n",
    "#     llm = HuggingFaceHub(\n",
    "#         repo_id=\"HuggingFaceH4/zephyr-7b-beta\",\n",
    "#         huggingfacehub_api_token=os.getenv(\"HUGGINGFACE_API_TOKEN\"),\n",
    "#         task=\"text-generation\",\n",
    "#     )"
   ]
  },
  {
   "cell_type": "code",
   "execution_count": 4,
   "metadata": {
    "height": 234
   },
   "outputs": [],
   "source": [
    "planner = Agent(\n",
    "    role=\"Content Planner\",\n",
    "    goal=\"Plan engaging and factually accurate content on {topic}\",\n",
    "    backstory=\"You're working on planning a blog article \"\n",
    "              \"about the topic: {topic}.\"\n",
    "              \"You collect information that helps the \"\n",
    "              \"audience learn something \"\n",
    "              \"and make informed decisions. \"\n",
    "              \"Your work is the basis for \"\n",
    "              \"the Content Writer to write an article on this topic.\",\n",
    "    allow_delegation=False,\n",
    "    llm= llm,\n",
    "\tverbose=True\n",
    ")"
   ]
  },
  {
   "cell_type": "markdown",
   "metadata": {},
   "source": [
    "### Agent: Writer"
   ]
  },
  {
   "cell_type": "code",
   "execution_count": 5,
   "metadata": {
    "height": 370
   },
   "outputs": [],
   "source": [
    "writer = Agent(\n",
    "    role=\"Content Writer\",\n",
    "    goal=\"Write insightful and factually accurate \"\n",
    "         \"opinion piece about the topic: {topic}\",\n",
    "    backstory=\"You're working on a writing \"\n",
    "              \"a new opinion piece about the topic: {topic}. \"\n",
    "              \"You base your writing on the work of \"\n",
    "              \"the Content Planner, who provides an outline \"\n",
    "              \"and relevant context about the topic. \"\n",
    "              \"You follow the main objectives and \"\n",
    "              \"direction of the outline, \"\n",
    "              \"as provide by the Content Planner. \"\n",
    "              \"You also provide objective and impartial insights \"\n",
    "              \"and back them up with information \"\n",
    "              \"provide by the Content Planner. \"\n",
    "              \"You acknowledge in your opinion piece \"\n",
    "              \"when your statements are opinions \"\n",
    "              \"as opposed to objective statements.\",\n",
    "    allow_delegation=False,\n",
    "    llm= llm,\n",
    "    verbose=True\n",
    ")"
   ]
  },
  {
   "cell_type": "markdown",
   "metadata": {},
   "source": [
    "### Agent: Editor"
   ]
  },
  {
   "cell_type": "code",
   "execution_count": 6,
   "metadata": {
    "height": 268
   },
   "outputs": [],
   "source": [
    "editor = Agent(\n",
    "    role=\"Editor\",\n",
    "    goal=\"Edit a given blog post to align with \"\n",
    "         \"the writing style of the organization. \",\n",
    "    backstory=\"You are an editor who receives a blog post \"\n",
    "              \"from the Content Writer. \"\n",
    "              \"Your goal is to review the blog post \"\n",
    "              \"to ensure that it follows journalistic best practices,\"\n",
    "              \"provides balanced viewpoints \"\n",
    "              \"when providing opinions or assertions, \"\n",
    "              \"and also avoids major controversial topics \"\n",
    "              \"or opinions when possible.\",\n",
    "    allow_delegation=False,\n",
    "    llm= llm,\n",
    "    verbose=True\n",
    ")"
   ]
  },
  {
   "cell_type": "markdown",
   "metadata": {},
   "source": [
    "### Task: Plan"
   ]
  },
  {
   "cell_type": "code",
   "execution_count": 7,
   "metadata": {
    "height": 268
   },
   "outputs": [],
   "source": [
    "plan = Task(\n",
    "    description=(\n",
    "        \"1. Prioritize the latest trends, key players, \"\n",
    "            \"and noteworthy news on {topic}.\\n\"\n",
    "        \"2. Identify the target audience, considering \"\n",
    "            \"their interests and pain points.\\n\"\n",
    "        \"3. Develop a detailed content outline including \"\n",
    "            \"an introduction, key points, and a call to action.\\n\"\n",
    "        \"4. Include SEO keywords and relevant data or sources.\"\n",
    "    ),\n",
    "    expected_output=\"A comprehensive content plan document \"\n",
    "        \"with an outline, audience analysis, \"\n",
    "        \"SEO keywords, and resources.\",\n",
    "    agent=planner,\n",
    ")"
   ]
  },
  {
   "cell_type": "markdown",
   "metadata": {},
   "source": [
    "### Task: Write"
   ]
  },
  {
   "cell_type": "code",
   "execution_count": 8,
   "metadata": {
    "height": 319
   },
   "outputs": [],
   "source": [
    "write = Task(\n",
    "    description=(\n",
    "        \"1. Use the content plan to craft a compelling \"\n",
    "            \"blog post on {topic}.\\n\"\n",
    "        \"2. Incorporate SEO keywords naturally.\\n\"\n",
    "\t\t\"3. Sections/Subtitles are properly named \"\n",
    "            \"in an engaging manner.\\n\"\n",
    "        \"4. Ensure the post is structured with an \"\n",
    "            \"engaging introduction, insightful body, \"\n",
    "            \"and a summarizing conclusion.\\n\"\n",
    "        \"5. Proofread for grammatical errors and \"\n",
    "            \"alignment with the brand's voice.\\n\"\n",
    "    ),\n",
    "    expected_output=\"A well-written blog post \"\n",
    "        \"in markdown format, ready for publication, \"\n",
    "        \"each section should have 2 or 3 paragraphs.\",\n",
    "    agent=writer,\n",
    ")"
   ]
  },
  {
   "cell_type": "markdown",
   "metadata": {},
   "source": [
    "### Task: Edit"
   ]
  },
  {
   "cell_type": "code",
   "execution_count": 9,
   "metadata": {
    "height": 166
   },
   "outputs": [],
   "source": [
    "edit = Task(\n",
    "    description=(\"Proofread the given blog post for \"\n",
    "                 \"grammatical errors and \"\n",
    "                 \"alignment with the brand's voice.\"),\n",
    "    expected_output=\"A well-written blog post in markdown format, \"\n",
    "                    \"ready for publication, \"\n",
    "                    \"each section should have 2 or 3 paragraphs.\",\n",
    "    agent=editor\n",
    ")"
   ]
  },
  {
   "cell_type": "code",
   "execution_count": 10,
   "metadata": {
    "height": 98
   },
   "outputs": [],
   "source": [
    "crew = Crew(\n",
    "    agents=[planner, writer, editor],\n",
    "    tasks=[plan, write, edit],\n",
    "    verbose=1\n",
    ")"
   ]
  },
  {
   "cell_type": "markdown",
   "metadata": {},
   "source": [
    "**Note**: LLMs can provide different outputs for they same input, so what you get might be different than what you see here."
   ]
  },
  {
   "cell_type": "code",
   "execution_count": 11,
   "metadata": {
    "height": 30
   },
   "outputs": [
    {
     "name": "stdout",
     "output_type": "stream",
     "text": [
      "\u001b[1m\u001b[95m# Agent:\u001b[00m \u001b[1m\u001b[92mContent Planner\u001b[00m\n",
      "\u001b[95m## Task:\u001b[00m \u001b[92m1. Prioritize the latest trends, key players, and noteworthy news on Artificial Intelligence.\n",
      "2. Identify the target audience, considering their interests and pain points.\n",
      "3. Develop a detailed content outline including an introduction, key points, and a call to action.\n",
      "4. Include SEO keywords and relevant data or sources.\u001b[00m\n",
      "\n",
      "\n",
      "\u001b[1m\u001b[95m# Agent:\u001b[00m \u001b[1m\u001b[92mContent Planner\u001b[00m\n",
      "\u001b[95m## Final Answer:\u001b[00m \u001b[92m\n",
      "### Content Plan Document: Exploring Artificial Intelligence\n",
      "\n",
      "**1. Latest Trends in Artificial Intelligence**\n",
      "   - **Generative AI**: Advancement in models like OpenAI's ChatGPT and Google's Bard, showcasing capabilities in content creation and human-like interactions.\n",
      "   - **AI in Automation**: Increased integration of AI in workplace automation, particularly in tasks such as customer service (chatbots), data entry, and predictive analytics.\n",
      "   - **Ethical AI**: Growing focus on responsible AI, transparency, and minimizing biases in AI algorithms, with companies like IBM leading initiatives.\n",
      "   - **AI for healthcare**: Innovation in AI applications for diagnostics, drug discovery, and personalized medicine.\n",
      "   - **AI-driven cybersecurity**: Utilization of AI in threat detection and prevention measures.\n",
      "\n",
      "**2. Key Players in Artificial Intelligence**\n",
      "   - **OpenAI**: Pioneer in generative AI, influencing content production with ChatGPT.\n",
      "   - **Google DeepMind**: Leading research and development in AI for various applications, notably reinforcement learning.\n",
      "   - **IBM Watson**: Historical importance in AI and continuous investment in ethical AI development.\n",
      "   - **Microsoft**: Integration of AI capabilities into products, especially in Microsoft Azure and Office.\n",
      "   - **NVIDIA**: Underpins AI development with advanced hardware for AI processing.\n",
      "\n",
      "**3. Noteworthy News**\n",
      "   - September 2023: OpenAI released a new version of ChatGPT with enhanced multi-modal capabilities.\n",
      "   - October 2023: Google's AI innovations in health diagnosis showcased at a major tech conference.\n",
      "   - November 2023: IBM announced partnerships to strengthen regulations around responsible AI.\n",
      "\n",
      "**4. Target Audience**\n",
      "   - **Technology Professionals**: Interested in advancements, integrations, and challenges of AI.\n",
      "   - **Business Leaders**: Looking for insights on how AI can optimize operations.\n",
      "   - **Students and Educators**: Fascinated with AI and its implications in various fields.\n",
      "   - **General Public**: Seeking understanding of AI's impact on everyday life and future.\n",
      "\n",
      "**Audience Pain Points**\n",
      "   - Concerns over job displacement due to AI.\n",
      "   - Misinformation about AI capabilities and limitations.\n",
      "   - Ethical implications and trust issues regarding AI deployment.\n",
      "   - Difficulty in keeping up with rapid advancements.\n",
      "\n",
      "**5. Detailed Content Outline**\n",
      "\n",
      "**Title:** The Rise of Artificial Intelligence: Transforming Our Future\n",
      "\n",
      "**I. Introduction**\n",
      "   - Brief overview of AI.\n",
      "   - Importance of understanding AI trends and implications.\n",
      "   - Thesis statement.\n",
      "\n",
      "**II. Current Trends in AI**\n",
      "   - Discussion on Generative AI and its implications.\n",
      "   - Automation and its effect on various sectors.\n",
      "   - Ethical AI and its significance in responsible development.\n",
      "\n",
      "**III. Key Players**\n",
      "   - Introduction to major companies leading AI advancements.\n",
      "   - Case studies highlighting innovative AI applications (e.g., healthcare, robotics).\n",
      "\n",
      "**IV. Noteworthy News**\n",
      "   - Summary of the latest breakthroughs in AI.\n",
      "   - Upcoming events or technologies to watch.\n",
      "\n",
      "**V. Target Audience Insights**\n",
      "   - Detailed profile of audience segments.\n",
      "   - Addressing their pain points and how this content aligns with their needs.\n",
      "\n",
      "**VI. Conclusion**\n",
      "   - Recap of the impacts of AI on society.\n",
      "   - Call to action encouraging readers to engage with AI responsibly.\n",
      "\n",
      "**VII. Call to Action**\n",
      "   - Encourage readers to share their thoughts on AI.\n",
      "   - Direct them to resources or forums for further learning.\n",
      "\n",
      "**6. SEO Keywords**\n",
      "   - Artificial Intelligence\n",
      "   - Generative AI\n",
      "   - AI and Automation\n",
      "   - Ethical AI Practices\n",
      "   - AI in Healthcare\n",
      "   - AI News 2023\n",
      "   - AI Technology Trends\n",
      "\n",
      "**7. Relevant Data and Sources**\n",
      "   - OpenAI Blog (for generative AI updates).\n",
      "   - Google AI Research (for healthcare innovations).\n",
      "   - IBM Ethics in AI whitepapers.\n",
      "   - Peer-reviewed journals on AI application in various industries.\n",
      "   - TechCrunch and Wired for current events in AI.\n",
      "\n",
      "By leveraging this content plan, the Content Writer can create an informative and engaging article that resonates with the target audience and provides them with valuable insights into artificial intelligence and its ever-evolving landscape.\u001b[00m\n",
      "\n",
      "\n",
      "\u001b[1m\u001b[95m# Agent:\u001b[00m \u001b[1m\u001b[92mContent Writer\u001b[00m\n",
      "\u001b[95m## Task:\u001b[00m \u001b[92m1. Use the content plan to craft a compelling blog post on Artificial Intelligence.\n",
      "2. Incorporate SEO keywords naturally.\n",
      "3. Sections/Subtitles are properly named in an engaging manner.\n",
      "4. Ensure the post is structured with an engaging introduction, insightful body, and a summarizing conclusion.\n",
      "5. Proofread for grammatical errors and alignment with the brand's voice.\n",
      "\u001b[00m\n",
      "\n",
      "\n",
      "\u001b[1m\u001b[95m# Agent:\u001b[00m \u001b[1m\u001b[92mContent Writer\u001b[00m\n",
      "\u001b[95m## Final Answer:\u001b[00m \u001b[92m\n",
      "```markdown\n",
      "# The Rise of Artificial Intelligence: Transforming Our Future\n",
      "\n",
      "## I. Introduction\n",
      "\n",
      "Artificial Intelligence (AI) has gradually moved from science fiction into the fabric of our everyday lives. With advancements in computational power and algorithmic design, AI technologies are redefining how we communicate, work, and make decisions. Understanding current trends and implications of AI is crucial, not just for tech enthusiasts and professionals, but for everyone engaged in a world increasingly influenced by automated systems.\n",
      "\n",
      "The rapid rise of AI promises not only to boost productivity but also raises significant questions about ethics, bias, and job security. This piece explores the significant trends in AI, the key players driving innovation, and recent advancements that are shaping the future of this cutting-edge field. Ultimately, it encourages an informed perspective on integrating AI into our lives.\n",
      "\n",
      "## II. Current Trends in AI\n",
      "\n",
      "One of the most significant trends currently shaping the landscape of Artificial Intelligence is generative AI. Platforms like OpenAI's ChatGPT and Google's Bard illustrate how AI is evolving to produce human-like content dynamically. Whether it's drafting articles, generating music, or synthesizing art, generative AI demonstrates capabilities that can complement human creativity. The efficiency and effectiveness of these technologies have the potential to transform industries, bringing forth new methodologies in content creation.\n",
      "\n",
      "Another noteworthy trend is the integration of AI in workplace automation. AI technologies, such as chatbots and predictive analytics, are being deployed to streamline workflow processes, enhance customer service, and reduce repetitive tasks. This growing reliance on AI in sectors like finance, retail, and healthcare presents opportunities for businesses to optimize operations while also raising concerns regarding workforce displacement. Addressing these implications is vital for achieving a balance between technological advancement and human workforce needs.\n",
      "\n",
      "The ethical considerations surrounding AI also merit significant attention. As biases in AI algorithms can lead to unfair outcomes, companies like IBM have stepped up efforts to prioritize transparency and responsibility in AI development. The emergence of ethical AI practices is essential for instilling public trust and fostering accountability among developers and organizations deploying AI systems.\n",
      "\n",
      "## III. Key Players\n",
      "\n",
      "The competitive landscape of Artificial Intelligence is defined by several influential companies driving these advancements. OpenAI stands out as a pioneer in generative AI, revolutionizing content production. Their innovations, including the latest ChatGPT with enhanced multi-modal capabilities, have made significant impacts across various sectors.\n",
      "\n",
      "Google DeepMind has made strides in AI research, particularly with developments in reinforcement learning, illustrating the potential of AI to solve complex problems. IBM’s Watson has been integral in demonstrating the importance of ethical AI development, leveraging its expertise to guide organizations toward responsible AI use. Microsoft integrates these capabilities into various products, seamlessly embedding AI into tools that enhance productivity. Meanwhile, NVIDIA provides the necessary hardware that forms the backbone for AI processing, further advancing the field.\n",
      "\n",
      "## IV. Noteworthy News\n",
      "\n",
      "Recent months have been marked by groundbreaking developments in AI technologies. In September 2023, OpenAI unveiled a new version of ChatGPT, boasting enhancements in its ability to engage with users through varied content forms. This upgrade not only improves user experience but also broadens the scope of applications for businesses and individuals alike.\n",
      "\n",
      "In October 2023, Google presented its AI innovations in health diagnostics at a tech conference, highlighting how AI can streamline and enhance medical assessments. Additionally, IBM disclosed partnerships aimed at establishing responsible AI regulations in November 2023, demonstrating a collective understanding of the importance of ethical stewardship in this rapidly evolving field.\n",
      "\n",
      "## V. Target Audience Insights\n",
      "\n",
      "This blog targets various audience segments, including technology professionals, business leaders, students, educators, and the general public. Each group possesses unique interests regarding AI. For technology professionals, understanding advancements and integration challenges is imperative for keeping pace with industry innovations. Business leaders seek insights on optimizing operations through AI, while students and educators are increasingly fascinated by AI's capabilities and its implications for education.\n",
      "\n",
      "Concerns about job displacement due to AI and misinformation about its limitations resonate widely, emphasizing the importance of clear and factual discussions. By addressing these concerns, this content aims to provide clarity and insights on managing AI inclusively within our societies.\n",
      "\n",
      "## VI. Conclusion\n",
      "\n",
      "As the impact of Artificial Intelligence on society continues to evolve, it is crucial to recognize both the opportunities and challenges presented by this technology. A balanced approach to AI adoption—one that prioritizes ethical considerations and examines its effects on employment and misinformation—is necessary for future advancements.\n",
      "\n",
      "It's clear that AI is set to transform countless aspects of our lives, from healthcare to day-to-day decision-making. Engaging with these technologies responsibly will empower individuals to harness the benefits of AI while being mindful of its implications on society.\n",
      "\n",
      "## VII. Call to Action\n",
      "\n",
      "What are your thoughts on the rise of Artificial Intelligence? We encourage readers to share their insights, questions, or concerns regarding AI in the comments below. For those eager to learn more, check out resources and forums dedicated to further exploration of AI technologies and their evolving role in our world.\n",
      "\n",
      "```\n",
      "\n",
      "This blog post is crafted to provide an in-depth look at Artificial Intelligence while incorporating the relevant context and insights from the provided outline. The engaging structure promotes understanding and encourages readers to think critically about AI's impact on their lives.\u001b[00m\n",
      "\n",
      "\n",
      "\u001b[1m\u001b[95m# Agent:\u001b[00m \u001b[1m\u001b[92mEditor\u001b[00m\n",
      "\u001b[95m## Task:\u001b[00m \u001b[92mProofread the given blog post for grammatical errors and alignment with the brand's voice.\u001b[00m\n",
      "\n",
      "\n",
      "\u001b[1m\u001b[95m# Agent:\u001b[00m \u001b[1m\u001b[92mEditor\u001b[00m\n",
      "\u001b[95m## Final Answer:\u001b[00m \u001b[92m\n",
      "```markdown\n",
      "# The Rise of Artificial Intelligence: Transforming Our Future\n",
      "\n",
      "## I. Introduction\n",
      "\n",
      "Artificial Intelligence (AI) has gradually transitioned from the realm of science fiction to a central fixture in our everyday lives. With rapid advancements in computational power and algorithmic design, AI technologies are redefining our methods of communication, work practices, and decision-making processes. Understanding the current trends and implications of AI is crucial, not only for technology enthusiasts and professionals but for everyone living in a world increasingly shaped by automated systems.\n",
      "\n",
      "The swift rise of AI not only promises to enhance productivity but also raises significant questions regarding ethics, bias, and job security. This piece delves into the most significant trends in AI, highlights the key players driving innovation, and discusses recent advancements that are shaping the future of this cutting-edge field. Ultimately, it encourages an informed perspective on the integration of AI into our lives and underscores the importance of responsible adoption.\n",
      "\n",
      "## II. Current Trends in AI\n",
      "\n",
      "One of the most significant trends currently shaping the landscape of Artificial Intelligence is the emergence of generative AI. Platforms such as OpenAI's ChatGPT and Google's Bard exemplify how AI is evolving to create human-like content dynamically. Whether it involves writing articles, composing music, or synthesizing artwork, generative AI showcases capabilities that can effectively complement human creativity. The efficiency and effectiveness of these technologies hold the potential to transform industries, introducing new methodologies in content creation.\n",
      "\n",
      "Another noteworthy trend is the adoption of AI in workplace automation. AI technologies such as chatbots and predictive analytics are increasingly deployed to streamline workflow processes, enhance customer service, and reduce repetitive tasks. This growing reliance on AI across sectors like finance, retail, and healthcare offers businesses opportunities to optimize their operations while also raising concerns about workforce displacement. Addressing these implications is essential for achieving a balance between technological advancement and the needs of the human workforce, ensuring that the benefits of AI are widely shared.\n",
      "\n",
      "The ethical considerations surrounding AI merit significant attention as well. Biases inherent in AI algorithms can lead to skewed and unfair outcomes. Companies like IBM have stepped up efforts to promote transparency and responsibility in AI development. The emergence of ethical AI practices is crucial for instilling public trust and fostering accountability among developers and organizations that deploy AI systems.\n",
      "\n",
      "## III. Key Players\n",
      "\n",
      "The competitive landscape of Artificial Intelligence is characterized by several influential companies that drive advancements. OpenAI stands out as a pioneer in generative AI, revolutionizing content production with innovations like the latest ChatGPT, which boasts enhanced multi-modal capabilities. These developments have made significant impacts across various sectors, prompting new applications and uses for AI technologies.\n",
      "\n",
      "Google DeepMind has made remarkable strides in AI research, particularly in reinforcement learning, highlighting the potential of AI to address complex problems. Meanwhile, IBM’s Watson emphasizes the importance of ethical AI development, using its expertise to guide organizations toward responsible AI practices. Microsoft integrates these capabilities into its array of products, seamlessly embedding AI into tools designed to enhance productivity. Additionally, NVIDIA plays a critical role by providing the essential hardware infrastructure supporting AI processing, thus further advancing the field.\n",
      "\n",
      "## IV. Noteworthy News\n",
      "\n",
      "Recent months have witnessed groundbreaking developments in AI technologies. In September 2023, OpenAI introduced a new version of ChatGPT, improving its ability to engage users through diverse content forms. This upgrade not only enhances user experience but also widens the scope of applications available for businesses and individual users alike.\n",
      "\n",
      "In October 2023, Google showcased its AI innovations in health diagnostics at a prominent tech conference, revealing how AI can optimize and enhance medical assessments. Further, in November 2023, IBM announced partnerships aimed at establishing responsible AI regulations, reflecting a collective recognition of the importance of ethical stewardship in this rapidly evolving field.\n",
      "\n",
      "## V. Target Audience Insights\n",
      "\n",
      "This blog aims to engage various audience segments, including technology professionals, business leaders, students, educators, and the general public. Each group possesses unique interests concerning AI. For technology professionals, understanding the latest advancements and integration challenges is vital for staying current with industry innovations. Business leaders are particularly interested in insights regarding AI’s role in optimizing operations, while students and educators are increasingly captivated by the capabilities of AI and its implications for education.\n",
      "\n",
      "Concerns regarding job displacement due to AI and misinformation surrounding its limitations resonate widely, underscoring the need for clear and factual discussions. By addressing these concerns, this content aims to provide clarity and insights into the inclusive management of AI within our societies, fostering a more informed public dialogue.\n",
      "\n",
      "## VI. Conclusion\n",
      "\n",
      "As the impact of Artificial Intelligence on society continues to evolve, it is essential to recognize both the opportunities and challenges presented by this transformative technology. A balanced approach—one that prioritizes ethical considerations and addresses its implications on employment and potential misinformation—is necessary for future advancements in AI.\n",
      "\n",
      "It is evident that AI is poised to transform countless aspects of our lives, from healthcare processes to everyday decision-making. Engaging with these technologies responsibly will empower individuals and organizations to harness the benefits of AI while being mindful of its broader implications on society.\n",
      "\n",
      "## VII. Call to Action\n",
      "\n",
      "What are your thoughts on the rise of Artificial Intelligence? We encourage readers to share their insights, questions, or concerns regarding AI in the comments below. For those eager to deepen their understanding, be sure to explore the resources and forums dedicated to the ongoing exploration of AI technologies and their evolving role in our world.\n",
      "```\u001b[00m\n",
      "\n",
      "\n"
     ]
    }
   ],
   "source": [
    "result = crew.kickoff(inputs={\"topic\": \"Artificial Intelligence\"})"
   ]
  },
  {
   "cell_type": "code",
   "execution_count": 12,
   "metadata": {},
   "outputs": [
    {
     "data": {
      "text/markdown": [
       "```markdown\n",
       "# The Rise of Artificial Intelligence: Transforming Our Future\n",
       "\n",
       "## I. Introduction\n",
       "\n",
       "Artificial Intelligence (AI) has gradually transitioned from the realm of science fiction to a central fixture in our everyday lives. With rapid advancements in computational power and algorithmic design, AI technologies are redefining our methods of communication, work practices, and decision-making processes. Understanding the current trends and implications of AI is crucial, not only for technology enthusiasts and professionals but for everyone living in a world increasingly shaped by automated systems.\n",
       "\n",
       "The swift rise of AI not only promises to enhance productivity but also raises significant questions regarding ethics, bias, and job security. This piece delves into the most significant trends in AI, highlights the key players driving innovation, and discusses recent advancements that are shaping the future of this cutting-edge field. Ultimately, it encourages an informed perspective on the integration of AI into our lives and underscores the importance of responsible adoption.\n",
       "\n",
       "## II. Current Trends in AI\n",
       "\n",
       "One of the most significant trends currently shaping the landscape of Artificial Intelligence is the emergence of generative AI. Platforms such as OpenAI's ChatGPT and Google's Bard exemplify how AI is evolving to create human-like content dynamically. Whether it involves writing articles, composing music, or synthesizing artwork, generative AI showcases capabilities that can effectively complement human creativity. The efficiency and effectiveness of these technologies hold the potential to transform industries, introducing new methodologies in content creation.\n",
       "\n",
       "Another noteworthy trend is the adoption of AI in workplace automation. AI technologies such as chatbots and predictive analytics are increasingly deployed to streamline workflow processes, enhance customer service, and reduce repetitive tasks. This growing reliance on AI across sectors like finance, retail, and healthcare offers businesses opportunities to optimize their operations while also raising concerns about workforce displacement. Addressing these implications is essential for achieving a balance between technological advancement and the needs of the human workforce, ensuring that the benefits of AI are widely shared.\n",
       "\n",
       "The ethical considerations surrounding AI merit significant attention as well. Biases inherent in AI algorithms can lead to skewed and unfair outcomes. Companies like IBM have stepped up efforts to promote transparency and responsibility in AI development. The emergence of ethical AI practices is crucial for instilling public trust and fostering accountability among developers and organizations that deploy AI systems.\n",
       "\n",
       "## III. Key Players\n",
       "\n",
       "The competitive landscape of Artificial Intelligence is characterized by several influential companies that drive advancements. OpenAI stands out as a pioneer in generative AI, revolutionizing content production with innovations like the latest ChatGPT, which boasts enhanced multi-modal capabilities. These developments have made significant impacts across various sectors, prompting new applications and uses for AI technologies.\n",
       "\n",
       "Google DeepMind has made remarkable strides in AI research, particularly in reinforcement learning, highlighting the potential of AI to address complex problems. Meanwhile, IBM’s Watson emphasizes the importance of ethical AI development, using its expertise to guide organizations toward responsible AI practices. Microsoft integrates these capabilities into its array of products, seamlessly embedding AI into tools designed to enhance productivity. Additionally, NVIDIA plays a critical role by providing the essential hardware infrastructure supporting AI processing, thus further advancing the field.\n",
       "\n",
       "## IV. Noteworthy News\n",
       "\n",
       "Recent months have witnessed groundbreaking developments in AI technologies. In September 2023, OpenAI introduced a new version of ChatGPT, improving its ability to engage users through diverse content forms. This upgrade not only enhances user experience but also widens the scope of applications available for businesses and individual users alike.\n",
       "\n",
       "In October 2023, Google showcased its AI innovations in health diagnostics at a prominent tech conference, revealing how AI can optimize and enhance medical assessments. Further, in November 2023, IBM announced partnerships aimed at establishing responsible AI regulations, reflecting a collective recognition of the importance of ethical stewardship in this rapidly evolving field.\n",
       "\n",
       "## V. Target Audience Insights\n",
       "\n",
       "This blog aims to engage various audience segments, including technology professionals, business leaders, students, educators, and the general public. Each group possesses unique interests concerning AI. For technology professionals, understanding the latest advancements and integration challenges is vital for staying current with industry innovations. Business leaders are particularly interested in insights regarding AI’s role in optimizing operations, while students and educators are increasingly captivated by the capabilities of AI and its implications for education.\n",
       "\n",
       "Concerns regarding job displacement due to AI and misinformation surrounding its limitations resonate widely, underscoring the need for clear and factual discussions. By addressing these concerns, this content aims to provide clarity and insights into the inclusive management of AI within our societies, fostering a more informed public dialogue.\n",
       "\n",
       "## VI. Conclusion\n",
       "\n",
       "As the impact of Artificial Intelligence on society continues to evolve, it is essential to recognize both the opportunities and challenges presented by this transformative technology. A balanced approach—one that prioritizes ethical considerations and addresses its implications on employment and potential misinformation—is necessary for future advancements in AI.\n",
       "\n",
       "It is evident that AI is poised to transform countless aspects of our lives, from healthcare processes to everyday decision-making. Engaging with these technologies responsibly will empower individuals and organizations to harness the benefits of AI while being mindful of its broader implications on society.\n",
       "\n",
       "## VII. Call to Action\n",
       "\n",
       "What are your thoughts on the rise of Artificial Intelligence? We encourage readers to share their insights, questions, or concerns regarding AI in the comments below. For those eager to deepen their understanding, be sure to explore the resources and forums dedicated to the ongoing exploration of AI technologies and their evolving role in our world.\n",
       "```"
      ],
      "text/plain": [
       "<IPython.core.display.Markdown object>"
      ]
     },
     "execution_count": 12,
     "metadata": {},
     "output_type": "execute_result"
    }
   ],
   "source": [
    "from IPython.display import display, Markdown\n",
    "Markdown(result.raw)"
   ]
  },
  {
   "cell_type": "markdown",
   "metadata": {},
   "source": [
    "- Display the results of your execution as markdown in the notebook."
   ]
  },
  {
   "cell_type": "markdown",
   "metadata": {},
   "source": [
    "## Try it Yourself\n",
    "\n",
    "- Pass in a topic of your choice and see what the agents come up with!"
   ]
  },
  {
   "cell_type": "code",
   "execution_count": 13,
   "metadata": {
    "height": 47
   },
   "outputs": [],
   "source": [
    "topic = \"Digital Twin\"\n",
    "# result = crew.kickoff(inputs={\"topic\": topic})"
   ]
  },
  {
   "cell_type": "code",
   "execution_count": 14,
   "metadata": {},
   "outputs": [
    {
     "data": {
      "text/markdown": [
       "```markdown\n",
       "# The Rise of Artificial Intelligence: Transforming Our Future\n",
       "\n",
       "## I. Introduction\n",
       "\n",
       "Artificial Intelligence (AI) has gradually transitioned from the realm of science fiction to a central fixture in our everyday lives. With rapid advancements in computational power and algorithmic design, AI technologies are redefining our methods of communication, work practices, and decision-making processes. Understanding the current trends and implications of AI is crucial, not only for technology enthusiasts and professionals but for everyone living in a world increasingly shaped by automated systems.\n",
       "\n",
       "The swift rise of AI not only promises to enhance productivity but also raises significant questions regarding ethics, bias, and job security. This piece delves into the most significant trends in AI, highlights the key players driving innovation, and discusses recent advancements that are shaping the future of this cutting-edge field. Ultimately, it encourages an informed perspective on the integration of AI into our lives and underscores the importance of responsible adoption.\n",
       "\n",
       "## II. Current Trends in AI\n",
       "\n",
       "One of the most significant trends currently shaping the landscape of Artificial Intelligence is the emergence of generative AI. Platforms such as OpenAI's ChatGPT and Google's Bard exemplify how AI is evolving to create human-like content dynamically. Whether it involves writing articles, composing music, or synthesizing artwork, generative AI showcases capabilities that can effectively complement human creativity. The efficiency and effectiveness of these technologies hold the potential to transform industries, introducing new methodologies in content creation.\n",
       "\n",
       "Another noteworthy trend is the adoption of AI in workplace automation. AI technologies such as chatbots and predictive analytics are increasingly deployed to streamline workflow processes, enhance customer service, and reduce repetitive tasks. This growing reliance on AI across sectors like finance, retail, and healthcare offers businesses opportunities to optimize their operations while also raising concerns about workforce displacement. Addressing these implications is essential for achieving a balance between technological advancement and the needs of the human workforce, ensuring that the benefits of AI are widely shared.\n",
       "\n",
       "The ethical considerations surrounding AI merit significant attention as well. Biases inherent in AI algorithms can lead to skewed and unfair outcomes. Companies like IBM have stepped up efforts to promote transparency and responsibility in AI development. The emergence of ethical AI practices is crucial for instilling public trust and fostering accountability among developers and organizations that deploy AI systems.\n",
       "\n",
       "## III. Key Players\n",
       "\n",
       "The competitive landscape of Artificial Intelligence is characterized by several influential companies that drive advancements. OpenAI stands out as a pioneer in generative AI, revolutionizing content production with innovations like the latest ChatGPT, which boasts enhanced multi-modal capabilities. These developments have made significant impacts across various sectors, prompting new applications and uses for AI technologies.\n",
       "\n",
       "Google DeepMind has made remarkable strides in AI research, particularly in reinforcement learning, highlighting the potential of AI to address complex problems. Meanwhile, IBM’s Watson emphasizes the importance of ethical AI development, using its expertise to guide organizations toward responsible AI practices. Microsoft integrates these capabilities into its array of products, seamlessly embedding AI into tools designed to enhance productivity. Additionally, NVIDIA plays a critical role by providing the essential hardware infrastructure supporting AI processing, thus further advancing the field.\n",
       "\n",
       "## IV. Noteworthy News\n",
       "\n",
       "Recent months have witnessed groundbreaking developments in AI technologies. In September 2023, OpenAI introduced a new version of ChatGPT, improving its ability to engage users through diverse content forms. This upgrade not only enhances user experience but also widens the scope of applications available for businesses and individual users alike.\n",
       "\n",
       "In October 2023, Google showcased its AI innovations in health diagnostics at a prominent tech conference, revealing how AI can optimize and enhance medical assessments. Further, in November 2023, IBM announced partnerships aimed at establishing responsible AI regulations, reflecting a collective recognition of the importance of ethical stewardship in this rapidly evolving field.\n",
       "\n",
       "## V. Target Audience Insights\n",
       "\n",
       "This blog aims to engage various audience segments, including technology professionals, business leaders, students, educators, and the general public. Each group possesses unique interests concerning AI. For technology professionals, understanding the latest advancements and integration challenges is vital for staying current with industry innovations. Business leaders are particularly interested in insights regarding AI’s role in optimizing operations, while students and educators are increasingly captivated by the capabilities of AI and its implications for education.\n",
       "\n",
       "Concerns regarding job displacement due to AI and misinformation surrounding its limitations resonate widely, underscoring the need for clear and factual discussions. By addressing these concerns, this content aims to provide clarity and insights into the inclusive management of AI within our societies, fostering a more informed public dialogue.\n",
       "\n",
       "## VI. Conclusion\n",
       "\n",
       "As the impact of Artificial Intelligence on society continues to evolve, it is essential to recognize both the opportunities and challenges presented by this transformative technology. A balanced approach—one that prioritizes ethical considerations and addresses its implications on employment and potential misinformation—is necessary for future advancements in AI.\n",
       "\n",
       "It is evident that AI is poised to transform countless aspects of our lives, from healthcare processes to everyday decision-making. Engaging with these technologies responsibly will empower individuals and organizations to harness the benefits of AI while being mindful of its broader implications on society.\n",
       "\n",
       "## VII. Call to Action\n",
       "\n",
       "What are your thoughts on the rise of Artificial Intelligence? We encourage readers to share their insights, questions, or concerns regarding AI in the comments below. For those eager to deepen their understanding, be sure to explore the resources and forums dedicated to the ongoing exploration of AI technologies and their evolving role in our world.\n",
       "```"
      ],
      "text/plain": [
       "<IPython.core.display.Markdown object>"
      ]
     },
     "metadata": {},
     "output_type": "display_data"
    }
   ],
   "source": [
    "from IPython.display import display, Markdown\n",
    "display(Markdown(result.raw))\n",
    "# result.raw"
   ]
  },
  {
   "cell_type": "code",
   "execution_count": null,
   "metadata": {},
   "outputs": [],
   "source": []
  }
 ],
 "metadata": {
  "colab": {
   "gpuType": "T4",
   "provenance": []
  },
  "kernelspec": {
   "display_name": "base",
   "language": "python",
   "name": "python3"
  },
  "language_info": {
   "codemirror_mode": {
    "name": "ipython",
    "version": 3
   },
   "file_extension": ".py",
   "mimetype": "text/x-python",
   "name": "python",
   "nbconvert_exporter": "python",
   "pygments_lexer": "ipython3",
   "version": "3.12.2"
  }
 },
 "nbformat": 4,
 "nbformat_minor": 4
}
