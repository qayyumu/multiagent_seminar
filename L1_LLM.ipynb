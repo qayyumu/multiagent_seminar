{
  "cells": [
    {
      "cell_type": "code",
      "execution_count": 28,
      "metadata": {
        "colab": {
          "base_uri": "https://localhost:8080/"
        },
        "id": "cYDxlNn_HaMT",
        "outputId": "8563d302-cf81-45f9-fc9c-1b34c8c33d65"
      },
      "outputs": [],
      "source": [
        "# install the necessary libraries\n",
        "#!pip install crewai crewai_tools langchain_community langchain_openai"
      ]
    },
    {
      "cell_type": "code",
      "execution_count": 29,
      "metadata": {
        "height": 64,
        "id": "lNRubHvGHaMU"
      },
      "outputs": [],
      "source": [
        "# Warning control\n",
        "import warnings\n",
        "warnings.filterwarnings('ignore')\n"
      ]
    },
    {
      "cell_type": "code",
      "execution_count": 30,
      "metadata": {
        "height": 98,
        "id": "TpX7a-9iHaMU"
      },
      "outputs": [],
      "source": [
        "choose_LLM = 1\n",
        "colab_exp = 0\n",
        "import os\n",
        "\n",
        "import openai\n",
        "\n",
        "if choose_LLM==1:\n",
        "    if(colab_exp):\n",
        "        from google.colab import userdata    ###for colab use\n",
        "        openai.api_key = userdata.get('OPENAI_API_KEY')\n",
        "        client = openai.OpenAI(api_key=userdata.get('OPENAI_API_KEY'))\n",
        "        llm_model = \"gpt-4o-mini\"\n",
        "    else:\n",
        "        from dotenv import load_dotenv\n",
        "        load_dotenv()\n",
        "        openai.api_key = os.getenv(\"OPENAI_API_KEY\")\n",
        "        client = openai.OpenAI(api_key=os.getenv(\"OPENAI_API_KEY\"))\n",
        "        llm_model = \"gpt-4o-mini\"\n",
        "\n",
        "elif choose_LLM ==2:\n",
        "    from langchain.llms import Ollama\n",
        "    llm = Ollama(model = \"llama3.2\",base_url = \"http://localhost:11434\")\n",
        "    client = None\n",
        "    llm_model = None\n",
        "\n"
      ]
    },
    {
      "cell_type": "code",
      "execution_count": 31,
      "metadata": {
        "colab": {
          "base_uri": "https://localhost:8080/"
        },
        "id": "7yBB4IMnHaMV",
        "outputId": "29c22df3-5155-4582-9741-eead134ec439"
      },
      "outputs": [
        {
          "name": "stdout",
          "output_type": "stream",
          "text": [
            "LLM Output:\n",
            "CrewAI is an innovative platform designed to streamline team collaboration through the power of artificial intelligence. By integrating advanced AI tools, CrewAI enhances communication, task management, and productivity for teams across various industries. The platform offers features like intelligent scheduling, automated task assignments, and real-time data analysis, enabling teams to work more efficiently and make informed decisions. CrewAI aims to empower teams to achieve their goals with greater ease and effectiveness, fostering a more connected and dynamic work environment.\n"
          ]
        }
      ],
      "source": [
        "# Define a simple function to interact with the LLM\n",
        "\n",
        "def query_llm(prompt):\n",
        "    try:\n",
        "        if(choose_LLM ==1):\n",
        "            # Use OpenAI chat completions API directly\n",
        "            response = client.chat.completions.create(\n",
        "                model=llm_model,\n",
        "                messages=[\n",
        "                    {\"role\": \"user\", \"content\": prompt}\n",
        "                ]\n",
        "            )\n",
        "            return response.choices[0].message.content  # Extract content directly\n",
        "        else:\n",
        "            # Use the `invoke` method to query the LLM for Ollama\n",
        "            response = llm.invoke(prompt)\n",
        "            return response\n",
        "    except Exception as e:\n",
        "        print(f\"Error querying LLM: {e}\")\n",
        "        return None\n",
        "\n",
        "# Example usage\n",
        "if __name__ == \"__main__\":\n",
        "    prompt = \"Write a short description about CrewAI\"\n",
        "    output = query_llm(prompt)\n",
        "    if output:\n",
        "        print(\"LLM Output:\")\n",
        "        print(output)\n"
      ]
    },
    {
      "cell_type": "code",
      "execution_count": 32,
      "metadata": {
        "colab": {
          "base_uri": "https://localhost:8080/",
          "height": 98
        },
        "id": "CoZ64Z69HaMV",
        "outputId": "43dbdb24-8f49-4e10-ceee-89ef16286d42"
      },
      "outputs": [
        {
          "data": {
            "text/markdown": [
              "CrewAI is an innovative platform designed to streamline team collaboration through the power of artificial intelligence. By integrating advanced AI tools, CrewAI enhances communication, task management, and productivity for teams across various industries. The platform offers features like intelligent scheduling, automated task assignments, and real-time data analysis, enabling teams to work more efficiently and make informed decisions. CrewAI aims to empower teams to achieve their goals with greater ease and effectiveness, fostering a more connected and dynamic work environment."
            ],
            "text/plain": [
              "<IPython.core.display.Markdown object>"
            ]
          },
          "metadata": {},
          "output_type": "display_data"
        }
      ],
      "source": [
        "from IPython.display import display, Markdown, display_png\n",
        "\n",
        "display(Markdown(output))\n"
      ]
    },
    {
      "cell_type": "code",
      "execution_count": null,
      "metadata": {
        "id": "nXgg9gisHaMV"
      },
      "outputs": [],
      "source": []
    }
  ],
  "metadata": {
    "colab": {
      "gpuType": "T4",
      "provenance": []
    },
    "kernelspec": {
      "display_name": "base",
      "language": "python",
      "name": "python3"
    },
    "language_info": {
      "codemirror_mode": {
        "name": "ipython",
        "version": 3
      },
      "file_extension": ".py",
      "mimetype": "text/x-python",
      "name": "python",
      "nbconvert_exporter": "python",
      "pygments_lexer": "ipython3",
      "version": "3.12.2"
    }
  },
  "nbformat": 4,
  "nbformat_minor": 0
}
