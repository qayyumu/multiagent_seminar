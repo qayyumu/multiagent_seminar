{
 "cells": [
  {
   "cell_type": "code",
   "execution_count": 35,
   "metadata": {
    "height": 64
   },
   "outputs": [],
   "source": [
    "# Warning control\n",
    "import warnings\n",
    "warnings.filterwarnings('ignore')\n"
   ]
  },
  {
   "cell_type": "code",
   "execution_count": 36,
   "metadata": {
    "height": 98
   },
   "outputs": [],
   "source": [
    "choice = 2\n",
    "import os\n",
    "from dotenv import load_dotenv\n",
    "from langchain_openai import ChatOpenAI\n",
    "load_dotenv()\n",
    "\n",
    "if choice==1:\n",
    "    llm = ChatOpenAI(model = \"gpt-4o-mini\",openai_api_key=os.getenv(\"OPENAI_API_KEY\"))\n",
    "\n",
    "elif choice ==2:\n",
    "    from langchain.llms import Ollama\n",
    "    llm = Ollama(model = \"llama3.2\",base_url = \"http://localhost:11434\")\n",
    "    \n"
   ]
  },
  {
   "cell_type": "code",
   "execution_count": 37,
   "metadata": {},
   "outputs": [
    {
     "name": "stdout",
     "output_type": "stream",
     "text": [
      "LLM Output:\n",
      "CrewAI is an AI-powered chatbot platform designed to automate customer service and support tasks. It utilizes machine learning algorithms to analyze conversations, identify patterns, and provide personalized responses to customers. The platform aims to increase efficiency, reduce response times, and enhance overall customer experience by providing 24/7 support through various channels such as messaging apps, voice assistants, and websites.\n"
     ]
    }
   ],
   "source": [
    "# Define a simple function to interact with the LLM\n",
    "\n",
    "def query_llm(prompt):\n",
    "    try:\n",
    "        # Use the `invoke` method to query the LLM\n",
    "        response = llm.invoke(prompt)\n",
    "        # print(response)\n",
    "        if(choice ==1):\n",
    "            return response.content  # Extract content directly\n",
    "        else:\n",
    "            return response\n",
    "    except Exception as e:\n",
    "        print(f\"Error querying LLM: {e}\")\n",
    "        return None\n",
    "\n",
    "# Example usage\n",
    "if __name__ == \"__main__\":\n",
    "    prompt = \"Write a short description about CrewAI\"\n",
    "    output = query_llm(prompt)\n",
    "    if output:\n",
    "        print(\"LLM Output:\")\n",
    "        print(output)\n",
    "        "
   ]
  },
  {
   "cell_type": "code",
   "execution_count": 46,
   "metadata": {},
   "outputs": [
    {
     "data": {
      "text/markdown": [
       "CrewAI is an AI-powered chatbot platform designed to automate customer service and support tasks. It utilizes machine learning algorithms to analyze conversations, identify patterns, and provide personalized responses to customers. The platform aims to increase efficiency, reduce response times, and enhance overall customer experience by providing 24/7 support through various channels such as messaging apps, voice assistants, and websites."
      ],
      "text/plain": [
       "<IPython.core.display.Markdown object>"
      ]
     },
     "metadata": {},
     "output_type": "display_data"
    }
   ],
   "source": [
    "from IPython.display import display, Markdown, display_png\n",
    "\n",
    "display(Markdown(output))\n"
   ]
  },
  {
   "cell_type": "code",
   "execution_count": null,
   "metadata": {},
   "outputs": [],
   "source": []
  }
 ],
 "metadata": {
  "colab": {
   "gpuType": "T4",
   "provenance": []
  },
  "kernelspec": {
   "display_name": "Python 3 (ipykernel)",
   "language": "python",
   "name": "python3"
  },
  "language_info": {
   "codemirror_mode": {
    "name": "ipython",
    "version": 3
   },
   "file_extension": ".py",
   "mimetype": "text/x-python",
   "name": "python",
   "nbconvert_exporter": "python",
   "pygments_lexer": "ipython3",
   "version": "3.12.4"
  }
 },
 "nbformat": 4,
 "nbformat_minor": 4
}
