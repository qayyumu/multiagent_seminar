{
 "cells": [
  {
   "cell_type": "code",
   "execution_count": 1,
   "metadata": {},
   "outputs": [],
   "source": [
    "# !pip install crewai crewai_tools langchain_community"
   ]
  },
  {
   "cell_type": "code",
   "execution_count": 2,
   "metadata": {
    "height": 64
   },
   "outputs": [],
   "source": [
    "# Warning control\n",
    "import warnings\n",
    "warnings.filterwarnings('ignore')"
   ]
  },
  {
   "cell_type": "markdown",
   "metadata": {},
   "source": [
    "- Import from the crewAI libray."
   ]
  },
  {
   "cell_type": "code",
   "execution_count": 3,
   "metadata": {
    "height": 30
   },
   "outputs": [],
   "source": [
    "from crewai import Agent, Task, Crew, LLM"
   ]
  },
  {
   "cell_type": "code",
   "execution_count": 4,
   "metadata": {
    "height": 98
   },
   "outputs": [],
   "source": [
    "choice = 1\n",
    "import os\n",
    "from dotenv import load_dotenv\n",
    "from langchain_openai import ChatOpenAI\n",
    "load_dotenv()\n",
    "\n",
    "if choice==1:\n",
    "    api_key = os.getenv(\"OPENAI_API_KEY\")\n",
    "    os.environ[\"OPENAI_API_KEY\"] = api_key    \n",
    "    llm = ChatOpenAI(model = \"gpt-4o-mini\",openai_api_key=api_key)\n",
    "\n",
    "elif choice ==2:\n",
    "    \n",
    "    os.environ[\"OPENAI_API_KEY\"] = \"NA\"\n",
    "    llm = ChatOpenAI(\n",
    "        model = \"ollama/llama3.2\",\n",
    "        base_url = \"http://localhost:11434\"\n",
    "    )\n",
    "# else:\n",
    "#     from langchain_community.llms import HuggingFaceHub\n",
    "#     llm = HuggingFaceHub(\n",
    "#         repo_id=\"HuggingFaceH4/zephyr-7b-beta\",\n",
    "#         huggingfacehub_api_token=os.getenv(\"HUGGINGFACE_API_TOKEN\"),\n",
    "#         task=\"text-generation\",\n",
    "#     )"
   ]
  },
  {
   "cell_type": "code",
   "execution_count": 6,
   "metadata": {
    "height": 234
   },
   "outputs": [],
   "source": [
    "planner = Agent(\n",
    "    role=\"Content Planner\",\n",
    "    goal=\"Plan engaging and factually accurate content on {topic}\",\n",
    "    backstory=\"You're working on planning a blog article \"\n",
    "              \"about the topic: {topic}.\"\n",
    "              \"You collect information that helps the \"\n",
    "              \"audience learn something \"\n",
    "              \"and make informed decisions. \"\n",
    "              \"Your work is the basis for \"\n",
    "              \"the Content Writer to write an article on this topic.\",\n",
    "    allow_delegation=False,\n",
    "    # llm = 'ollama/llama3.2:1b',\n",
    "    llm= llm,\n",
    "\tverbose=True\n",
    ")"
   ]
  },
  {
   "cell_type": "markdown",
   "metadata": {},
   "source": [
    "### Agent: Writer"
   ]
  },
  {
   "cell_type": "code",
   "execution_count": 7,
   "metadata": {
    "height": 370
   },
   "outputs": [],
   "source": [
    "writer = Agent(\n",
    "    role=\"Content Writer\",\n",
    "    goal=\"Write insightful and factually accurate \"\n",
    "         \"opinion piece about the topic: {topic}\",\n",
    "    backstory=\"You're working on a writing \"\n",
    "              \"a new opinion piece about the topic: {topic}. \"\n",
    "              \"You base your writing on the work of \"\n",
    "              \"the Content Planner, who provides an outline \"\n",
    "              \"and relevant context about the topic. \"\n",
    "              \"You follow the main objectives and \"\n",
    "              \"direction of the outline, \"\n",
    "              \"as provide by the Content Planner. \"\n",
    "              \"You also provide objective and impartial insights \"\n",
    "              \"and back them up with information \"\n",
    "              \"provide by the Content Planner. \"\n",
    "              \"You acknowledge in your opinion piece \"\n",
    "              \"when your statements are opinions \"\n",
    "              \"as opposed to objective statements.\",\n",
    "    allow_delegation=False,\n",
    "    # llm = 'ollama/llama3.2:1b',\n",
    "    llm= llm,\n",
    "    verbose=True\n",
    ")"
   ]
  },
  {
   "cell_type": "markdown",
   "metadata": {},
   "source": [
    "### Agent: Editor"
   ]
  },
  {
   "cell_type": "code",
   "execution_count": 8,
   "metadata": {
    "height": 268
   },
   "outputs": [],
   "source": [
    "editor = Agent(\n",
    "    role=\"Editor\",\n",
    "    goal=\"Edit a given blog post to align with \"\n",
    "         \"the writing style of the organization. \",\n",
    "    backstory=\"You are an editor who receives a blog post \"\n",
    "              \"from the Content Writer. \"\n",
    "              \"Your goal is to review the blog post \"\n",
    "              \"to ensure that it follows journalistic best practices,\"\n",
    "              \"provides balanced viewpoints \"\n",
    "              \"when providing opinions or assertions, \"\n",
    "              \"and also avoids major controversial topics \"\n",
    "              \"or opinions when possible.\",\n",
    "    allow_delegation=False,\n",
    "    # llm = 'ollama/llama3.2:1b',\n",
    "    llm= llm,\n",
    "    verbose=True\n",
    ")"
   ]
  },
  {
   "cell_type": "markdown",
   "metadata": {},
   "source": [
    "### Task: Plan"
   ]
  },
  {
   "cell_type": "code",
   "execution_count": 9,
   "metadata": {
    "height": 268
   },
   "outputs": [],
   "source": [
    "plan = Task(\n",
    "    description=(\n",
    "        \"1. Prioritize the latest trends, key players, \"\n",
    "            \"and noteworthy news on {topic}.\\n\"\n",
    "        \"2. Identify the target audience, considering \"\n",
    "            \"their interests and pain points.\\n\"\n",
    "        \"3. Develop a detailed content outline including \"\n",
    "            \"an introduction, key points, and a call to action.\\n\"\n",
    "        \"4. Include SEO keywords and relevant data or sources.\"\n",
    "    ),\n",
    "    expected_output=\"A comprehensive content plan document \"\n",
    "        \"with an outline, audience analysis, \"\n",
    "        \"SEO keywords, and resources.\",\n",
    "    agent=planner,\n",
    ")"
   ]
  },
  {
   "cell_type": "markdown",
   "metadata": {},
   "source": [
    "### Task: Write"
   ]
  },
  {
   "cell_type": "code",
   "execution_count": 10,
   "metadata": {
    "height": 319
   },
   "outputs": [],
   "source": [
    "write = Task(\n",
    "    description=(\n",
    "        \"1. Use the content plan to craft a compelling \"\n",
    "            \"blog post on {topic}.\\n\"\n",
    "        \"2. Incorporate SEO keywords naturally.\\n\"\n",
    "\t\t\"3. Sections/Subtitles are properly named \"\n",
    "            \"in an engaging manner.\\n\"\n",
    "        \"4. Ensure the post is structured with an \"\n",
    "            \"engaging introduction, insightful body, \"\n",
    "            \"and a summarizing conclusion.\\n\"\n",
    "        \"5. Proofread for grammatical errors and \"\n",
    "            \"alignment with the brand's voice.\\n\"\n",
    "    ),\n",
    "    expected_output=\"A well-written blog post \"\n",
    "        \"in markdown format, ready for publication, \"\n",
    "        \"each section should have 2 or 3 paragraphs.\",\n",
    "    agent=writer,\n",
    ")"
   ]
  },
  {
   "cell_type": "markdown",
   "metadata": {},
   "source": [
    "### Task: Edit"
   ]
  },
  {
   "cell_type": "code",
   "execution_count": 11,
   "metadata": {
    "height": 166
   },
   "outputs": [],
   "source": [
    "edit = Task(\n",
    "    description=(\"Proofread the given blog post for \"\n",
    "                 \"grammatical errors and \"\n",
    "                 \"alignment with the brand's voice.\"),\n",
    "    expected_output=\"A well-written blog post in markdown format, \"\n",
    "                    \"ready for publication, \"\n",
    "                    \"each section should have 2 or 3 paragraphs.\",\n",
    "    agent=editor\n",
    ")"
   ]
  },
  {
   "cell_type": "code",
   "execution_count": 12,
   "metadata": {
    "height": 98
   },
   "outputs": [],
   "source": [
    "crew = Crew(\n",
    "    agents=[planner, writer, editor],\n",
    "    tasks=[plan, write, edit],\n",
    "    verbose=1\n",
    ")"
   ]
  },
  {
   "cell_type": "markdown",
   "metadata": {},
   "source": [
    "**Note**: LLMs can provide different outputs for they same input, so what you get might be different than what you see in the video."
   ]
  },
  {
   "cell_type": "code",
   "execution_count": 13,
   "metadata": {
    "height": 30
   },
   "outputs": [
    {
     "name": "stdout",
     "output_type": "stream",
     "text": [
      "\u001b[1m\u001b[95m# Agent:\u001b[00m \u001b[1m\u001b[92mContent Planner\u001b[00m\n",
      "\u001b[95m## Task:\u001b[00m \u001b[92m1. Prioritize the latest trends, key players, and noteworthy news on Artificial Intelligence.\n",
      "2. Identify the target audience, considering their interests and pain points.\n",
      "3. Develop a detailed content outline including an introduction, key points, and a call to action.\n",
      "4. Include SEO keywords and relevant data or sources.\u001b[00m\n",
      "\n",
      "\n",
      "\u001b[1m\u001b[95m# Agent:\u001b[00m \u001b[1m\u001b[92mContent Planner\u001b[00m\n",
      "\u001b[95m## Final Answer:\u001b[00m \u001b[92m\n",
      "### Comprehensive Content Plan Document for Blog Article on Artificial Intelligence\n",
      "\n",
      "---\n",
      "\n",
      "#### 1. Latest Trends, Key Players, and Noteworthy News on Artificial Intelligence\n",
      "\n",
      "**Trends:**\n",
      "- **Generative AI**: The rise of models like OpenAI's GPT-4 and Google’s Bard, which can create text, images, and code.\n",
      "- **AI Ethics and Regulation**: Increasing discussions around the ethical implications of AI, including bias, accountability, and the need for regulatory frameworks.\n",
      "- **AI in Healthcare**: Use of AI for diagnostics, patient monitoring, and personalized medicine.\n",
      "- **Natural Language Processing (NLP)**: Enhancements in AI's understanding and generation of human language, impacting customer service and content creation.\n",
      "- **Edge AI**: The shift from cloud-based AI to on-device processing to enhance privacy and reduce latency.\n",
      "\n",
      "**Key Players:**\n",
      "- **OpenAI**: Known for its advanced language models and AI research.\n",
      "- **Google DeepMind**: A leader in AI research with breakthroughs in reinforcement learning and healthcare applications.\n",
      "- **IBM Watson**: Focused on AI solutions for business analytics and healthcare.\n",
      "- **Microsoft**: Integrating AI into its products and cloud services, including partnerships with OpenAI.\n",
      "- **NVIDIA**: Pioneering in hardware and software solutions that power AI applications.\n",
      "\n",
      "**Noteworthy News:**\n",
      "- Recent developments in AI regulations in the EU and US.\n",
      "- Launch of new AI tools by major tech companies aimed at enhancing productivity.\n",
      "- AI’s role in response to global challenges like climate change and pandemics.\n",
      "\n",
      "---\n",
      "\n",
      "#### 2. Target Audience Analysis\n",
      "\n",
      "**Target Audience:**\n",
      "- **Tech Enthusiasts**: Individuals interested in the latest technological innovations and developments in AI.\n",
      "- **Business Professionals**: Executives and managers looking to implement AI solutions to improve efficiency and decision-making.\n",
      "- **Students and Educators**: Those studying AI or related fields, seeking to understand its applications and implications.\n",
      "- **General Public**: Individuals curious about AI’s impact on daily life and future trends.\n",
      "\n",
      "**Interests & Pain Points:**\n",
      "- Interest in understanding AI capabilities and potential applications.\n",
      "- Concerns about the ethical implications and job displacement due to AI.\n",
      "- Desire for information on how AI can be utilized in various industries.\n",
      "- Need for clarity on the technical jargon surrounding AI.\n",
      "\n",
      "---\n",
      "\n",
      "#### 3. Detailed Content Outline\n",
      "\n",
      "**Title:** Understanding Artificial Intelligence: Trends, Impacts, and Future Directions\n",
      "\n",
      "**I. Introduction**\n",
      "- Brief introduction to AI and its significance in today’s world.\n",
      "- Mention the rapid advancements and growing interest in AI technologies.\n",
      "\n",
      "**II. Latest Trends in Artificial Intelligence**\n",
      "- Overview of generative AI and its applications.\n",
      "- Discussion on AI ethics and the importance of regulations.\n",
      "- Exploration of AI in healthcare and other industries.\n",
      "\n",
      "**III. Key Players in the AI Landscape**\n",
      "- Introduction to leading companies and their contributions.\n",
      "- Highlight innovative projects and research initiatives.\n",
      "\n",
      "**IV. Noteworthy News and Developments**\n",
      "- Summary of recent milestones in AI.\n",
      "- Implications of new regulations and technological breakthroughs.\n",
      "\n",
      "**V. The Future of AI**\n",
      "- Predictions on AI advancements and their societal impact.\n",
      "- Discussion on the importance of ethical AI development.\n",
      "\n",
      "**VI. Conclusion**\n",
      "- Recap of key points.\n",
      "- Encourage readers to stay informed about AI developments.\n",
      "\n",
      "**VII. Call to Action**\n",
      "- Invite readers to subscribe for updates on AI trends.\n",
      "- Encourage sharing their thoughts and experiences with AI in the comments.\n",
      "\n",
      "---\n",
      "\n",
      "#### 4. SEO Keywords and Relevant Data/Sources\n",
      "\n",
      "**SEO Keywords:**\n",
      "- Artificial Intelligence\n",
      "- AI trends 2023\n",
      "- Generative AI\n",
      "- AI ethics\n",
      "- AI in healthcare\n",
      "- Future of AI\n",
      "- AI technology news\n",
      "\n",
      "**Relevant Data/Sources:**\n",
      "- \"The State of AI 2023\" report by McKinsey.\n",
      "- Articles from TechCrunch, Wired, and MIT Technology Review.\n",
      "- Research papers from top universities and organizations in AI.\n",
      "- Government publications on AI regulations and ethical guidelines.\n",
      "\n",
      "---\n",
      "\n",
      "This content plan aims to provide a comprehensive guide for writing an informative and engaging blog article on Artificial Intelligence, catering to the interests and concerns of the target audience while optimizing for search engines.\u001b[00m\n",
      "\n",
      "\n",
      "\u001b[1m\u001b[95m# Agent:\u001b[00m \u001b[1m\u001b[92mContent Writer\u001b[00m\n",
      "\u001b[95m## Task:\u001b[00m \u001b[92m1. Use the content plan to craft a compelling blog post on Artificial Intelligence.\n",
      "2. Incorporate SEO keywords naturally.\n",
      "3. Sections/Subtitles are properly named in an engaging manner.\n",
      "4. Ensure the post is structured with an engaging introduction, insightful body, and a summarizing conclusion.\n",
      "5. Proofread for grammatical errors and alignment with the brand's voice.\n",
      "\u001b[00m\n",
      "\n",
      "\n",
      "\u001b[1m\u001b[95m# Agent:\u001b[00m \u001b[1m\u001b[92mContent Writer\u001b[00m\n",
      "\u001b[95m## Final Answer:\u001b[00m \u001b[92m\n",
      "```markdown\n",
      "# Understanding Artificial Intelligence: Trends, Impacts, and Future Directions\n",
      "\n",
      "## I. Introduction\n",
      "\n",
      "Artificial Intelligence (AI) has gradually transitioned from a futuristic concept to an integral part of our daily lives. As we witness rapid advancements in AI technologies, its significance becomes increasingly evident across various sectors. From enhancing business efficiencies to revolutionizing healthcare, AI is shaping the landscape of modern society. The growing interest in AI is driven by its potential to solve complex problems and improve quality of life.\n",
      "\n",
      "With every passing day, we see new developments and innovations in AI, including generative AI models like OpenAI's GPT-4 and Google's Bard. These breakthroughs illustrate the immense capabilities of AI, pushing the boundaries of what machines can accomplish. This article aims to provide insights into the latest trends, key players, noteworthy news, and future directions of AI, presenting a comprehensive overview for tech enthusiasts, business professionals, and the curious general public.\n",
      "\n",
      "## II. Latest Trends in Artificial Intelligence\n",
      "\n",
      "Among the most significant trends in AI today is **Generative AI**, which refers to models capable of creating text, images, and code. This technology is not only enhancing creative industries but also transforming customer interactions and content creation. For instance, businesses are leveraging generative AI to automate content generation, allowing for improved efficiency and personalized experiences.\n",
      "\n",
      "Another crucial trend is the focus on **AI Ethics and Regulation**. As AI systems increasingly influence decision-making processes, discussions around accountability, bias, and ethical implications have gained prominence. The need for regulatory frameworks is becoming more apparent, as stakeholders seek to ensure that AI technologies are developed and used responsibly.\n",
      "\n",
      "Furthermore, the application of AI in **Healthcare** is proving to be transformative. AI algorithms are being utilized for diagnostics, patient monitoring, and personalized medicine, enabling healthcare providers to offer more effective and targeted treatments. As AI continues to evolve, its potential impact on healthcare outcomes is significant, opening avenues for innovation and improved patient care.\n",
      "\n",
      "## III. Key Players in the AI Landscape\n",
      "\n",
      "The AI landscape is populated by several influential players, each contributing to the advancement of this technology in unique ways. **OpenAI** stands out for its sophisticated language models and ongoing AI research. Their innovations have set benchmarks in natural language understanding and generation, making significant strides in various applications.\n",
      "\n",
      "**Google DeepMind** is another key player, known for its groundbreaking work in reinforcement learning and healthcare solutions. Their projects often focus on solving complex problems, including those related to climate change and disease prediction. With a commitment to ethical AI, DeepMind aims to ensure that its advancements benefit humanity.\n",
      "\n",
      "Other notable contributors include **IBM Watson**, which specializes in AI solutions for business analytics and healthcare, and **Microsoft**, integrating AI across its suite of products and cloud services via partnerships with leading AI firms. Additionally, **NVIDIA** plays a pivotal role by providing hardware and software that support AI applications, driving the technological infrastructure that powers modern AI systems.\n",
      "\n",
      "## IV. Noteworthy News and Developments\n",
      "\n",
      "Recent developments in AI regulations highlight the growing need for governance in this rapidly evolving field. In both the EU and the US, policymakers are actively discussing measures to ensure that AI technologies are developed responsibly and transparently. These regulatory frameworks aim to address concerns about bias, privacy, and accountability, ensuring that AI serves the public good.\n",
      "\n",
      "Moreover, major tech companies are launching new AI tools designed to enhance productivity and streamline operations across sectors. As organizations increasingly adopt AI solutions, we can expect a wave of innovation that will further integrate AI into everyday workflows. Not only does this have implications for efficiency, but it also raises discussions about the future of work and the potential for job displacement.\n",
      "\n",
      "Furthermore, AI's role in addressing global challenges, such as climate change and pandemics, cannot be overlooked. Innovative AI applications are being developed to analyze data related to environmental changes and health crises, contributing to more effective responses and solutions.\n",
      "\n",
      "## V. The Future of AI\n",
      "\n",
      "Looking ahead, the future of AI is poised for transformative advancements that will shape our society in profound ways. As AI technologies continue to evolve, we can anticipate more sophisticated applications across various industries, enhancing efficiency and decision-making processes. Predictive analytics, real-time data processing, and personalized AI solutions are just the tip of the iceberg in terms of potential developments.\n",
      "\n",
      "However, this bright future comes with challenges that need to be addressed, particularly concerning **ethical AI development**. As AI systems become more integrated into our lives, ensuring that they are designed and implemented responsibly is crucial. This includes tackling issues such as bias, data privacy, and the implications of automation on employment. The dialogue surrounding these concerns will be essential in guiding the responsible evolution of AI technologies.\n",
      "\n",
      "## VI. Conclusion\n",
      "\n",
      "In summary, Artificial Intelligence is rapidly changing our world, with its trends and implications extending across diverse sectors. From generative AI and ethical considerations to advancements in healthcare and the contributions of key players, the landscape of AI is both exciting and complex. As we continue to navigate this evolving field, staying informed about AI developments is crucial for professionals, students, and the general public alike.\n",
      "\n",
      "As AI technologies evolve, so too do the conversations around their impact on society. It is essential for individuals to engage with these discussions and understand the implications of AI on their lives. \n",
      "\n",
      "## VII. Call to Action\n",
      "\n",
      "We invite you to subscribe for updates on the latest AI trends and insights. Share your thoughts and experiences with AI in the comments below, and let’s foster a community that stays informed about this transformative technology.\n",
      "```\n",
      "\n",
      "This blog post is structured with engaging sections, incorporating relevant SEO keywords naturally while providing a comprehensive overview of the topic, aligned with the outlined content plan.\u001b[00m\n",
      "\n",
      "\n",
      "\u001b[1m\u001b[95m# Agent:\u001b[00m \u001b[1m\u001b[92mEditor\u001b[00m\n",
      "\u001b[95m## Task:\u001b[00m \u001b[92mProofread the given blog post for grammatical errors and alignment with the brand's voice.\u001b[00m\n",
      "\n",
      "\n",
      "\u001b[1m\u001b[95m# Agent:\u001b[00m \u001b[1m\u001b[92mEditor\u001b[00m\n",
      "\u001b[95m## Final Answer:\u001b[00m \u001b[92m\n",
      "```markdown\n",
      "# Understanding Artificial Intelligence: Trends, Impacts, and Future Directions\n",
      "\n",
      "## I. Introduction\n",
      "\n",
      "Artificial Intelligence (AI) has gradually transitioned from a futuristic concept to an integral part of our daily lives. As we witness rapid advancements in AI technologies, its significance becomes increasingly evident across various sectors. From enhancing business efficiencies to revolutionizing healthcare, AI is shaping the landscape of modern society. The growing interest in AI is driven by its potential to solve complex problems and improve quality of life.\n",
      "\n",
      "With every passing day, we see new developments and innovations in AI, including generative AI models like OpenAI's GPT-4 and Google's Bard. These breakthroughs illustrate the immense capabilities of AI, pushing the boundaries of what machines can accomplish. This article aims to provide insights into the latest trends, key players, noteworthy news, and future directions of AI, presenting a comprehensive overview for tech enthusiasts, business professionals, and the curious general public.\n",
      "\n",
      "## II. Latest Trends in Artificial Intelligence\n",
      "\n",
      "Among the most significant trends in AI today is **Generative AI**, which refers to models capable of creating text, images, and code. This technology is enhancing creative industries and transforming customer interactions and content creation. For instance, businesses are leveraging generative AI to automate content generation, allowing for improved efficiency and personalized experiences. This shift not only streamlines operations but also opens new avenues for innovation in marketing and communication strategies.\n",
      "\n",
      "Another crucial trend is the focus on **AI Ethics and Regulation**. As AI systems increasingly influence decision-making processes, discussions around accountability, bias, and ethical implications have gained prominence. The need for regulatory frameworks is becoming more apparent, as stakeholders seek to ensure that AI technologies are developed and used responsibly. Establishing these frameworks is essential for fostering trust and ensuring that the benefits of AI are equitably distributed across society.\n",
      "\n",
      "Furthermore, the application of AI in **Healthcare** is proving to be transformative. AI algorithms are utilized for diagnostics, patient monitoring, and personalized medicine, enabling healthcare providers to offer more effective and targeted treatments. As AI continues to evolve, its potential impact on healthcare outcomes is significant, opening avenues for innovation and improved patient care. The integration of AI technologies in healthcare not only enhances clinical practices but also enriches patient experiences.\n",
      "\n",
      "## III. Key Players in the AI Landscape\n",
      "\n",
      "The AI landscape is populated by several influential players, each contributing to the advancement of this technology in unique ways. **OpenAI** stands out for its sophisticated language models and ongoing AI research. Their innovations have set benchmarks in natural language understanding and generation, making significant strides in various applications across industries.\n",
      "\n",
      "**Google DeepMind** is another key player, known for its groundbreaking work in reinforcement learning and healthcare solutions. Their projects often focus on solving complex problems, including those related to climate change and disease prediction. With a commitment to ethical AI, DeepMind aims to ensure that its advancements benefit humanity. This focus on ethical considerations underscores the importance of aligning technological progress with societal needs.\n",
      "\n",
      "Other notable contributors include **IBM Watson**, which specializes in AI solutions for business analytics and healthcare, and **Microsoft**, integrating AI across its suite of products and cloud services via partnerships with leading AI firms. Additionally, **NVIDIA** plays a pivotal role by providing hardware and software that support AI applications, driving the technological infrastructure that powers modern AI systems. These companies collectively shape the trajectory of AI development, fostering innovation and collaboration.\n",
      "\n",
      "## IV. Noteworthy News and Developments\n",
      "\n",
      "Recent developments in AI regulations highlight the growing need for governance in this rapidly evolving field. In both the EU and the US, policymakers are actively discussing measures to ensure that AI technologies are developed responsibly and transparently. These regulatory frameworks aim to address concerns about bias, privacy, and accountability, ensuring that AI serves the public good. Engaging in these conversations is vital for fostering a balanced approach to innovation.\n",
      "\n",
      "Moreover, major tech companies are launching new AI tools designed to enhance productivity and streamline operations across sectors. As organizations increasingly adopt AI solutions, we can expect a wave of innovation that will further integrate AI into everyday workflows. Not only does this have implications for efficiency, but it also raises discussions about the future of work and the potential for job displacement. Understanding these dynamics will be crucial for navigating the changing employment landscape.\n",
      "\n",
      "Furthermore, AI's role in addressing global challenges, such as climate change and pandemics, cannot be overlooked. Innovative AI applications are being developed to analyze data related to environmental changes and health crises, contributing to more effective responses and solutions. The potential of AI to drive positive societal change is immense, making it a focal point for future technological endeavors.\n",
      "\n",
      "## V. The Future of AI\n",
      "\n",
      "Looking ahead, the future of AI is poised for transformative advancements that will shape our society in profound ways. As AI technologies continue to evolve, we can anticipate more sophisticated applications across various industries, enhancing efficiency and decision-making processes. Predictive analytics, real-time data processing, and personalized AI solutions are just the tip of the iceberg in terms of potential developments. This evolution will likely redefine how businesses operate and how individuals interact with technology.\n",
      "\n",
      "However, this bright future comes with challenges that need to be addressed, particularly concerning **ethical AI development**. As AI systems become more integrated into our lives, ensuring that they are designed and implemented responsibly is crucial. This includes tackling issues such as bias, data privacy, and the implications of automation on employment. The dialogue surrounding these concerns will be essential in guiding the responsible evolution of AI technologies. Engaging various stakeholders in these discussions will be vital for promoting a balanced approach to innovation.\n",
      "\n",
      "## VI. Conclusion\n",
      "\n",
      "In summary, Artificial Intelligence is rapidly changing our world, with its trends and implications extending across diverse sectors. From generative AI and ethical considerations to advancements in healthcare and the contributions of key players, the landscape of AI is both exciting and complex. As we continue to navigate this evolving field, staying informed about AI developments is crucial for professionals, students, and the general public alike.\n",
      "\n",
      "As AI technologies evolve, so too do the conversations around their impact on society. It is essential for individuals to engage with these discussions and understand the implications of AI on their lives. By fostering a culture of awareness and informed dialogue, we can collectively shape the future of AI.\n",
      "\n",
      "## VII. Call to Action\n",
      "\n",
      "We invite you to subscribe for updates on the latest AI trends and insights. Share your thoughts and experiences with AI in the comments below, and let’s foster a community that stays informed about this transformative technology.\n",
      "```\u001b[00m\n",
      "\n",
      "\n"
     ]
    }
   ],
   "source": [
    "result = crew.kickoff(inputs={\"topic\": \"Artificial Intelligence\"})"
   ]
  },
  {
   "cell_type": "code",
   "execution_count": 20,
   "metadata": {},
   "outputs": [
    {
     "data": {
      "text/markdown": [
       "```markdown\n",
       "# Understanding Artificial Intelligence: Trends, Impacts, and Future Directions\n",
       "\n",
       "## I. Introduction\n",
       "\n",
       "Artificial Intelligence (AI) has gradually transitioned from a futuristic concept to an integral part of our daily lives. As we witness rapid advancements in AI technologies, its significance becomes increasingly evident across various sectors. From enhancing business efficiencies to revolutionizing healthcare, AI is shaping the landscape of modern society. The growing interest in AI is driven by its potential to solve complex problems and improve quality of life.\n",
       "\n",
       "With every passing day, we see new developments and innovations in AI, including generative AI models like OpenAI's GPT-4 and Google's Bard. These breakthroughs illustrate the immense capabilities of AI, pushing the boundaries of what machines can accomplish. This article aims to provide insights into the latest trends, key players, noteworthy news, and future directions of AI, presenting a comprehensive overview for tech enthusiasts, business professionals, and the curious general public.\n",
       "\n",
       "## II. Latest Trends in Artificial Intelligence\n",
       "\n",
       "Among the most significant trends in AI today is **Generative AI**, which refers to models capable of creating text, images, and code. This technology is enhancing creative industries and transforming customer interactions and content creation. For instance, businesses are leveraging generative AI to automate content generation, allowing for improved efficiency and personalized experiences. This shift not only streamlines operations but also opens new avenues for innovation in marketing and communication strategies.\n",
       "\n",
       "Another crucial trend is the focus on **AI Ethics and Regulation**. As AI systems increasingly influence decision-making processes, discussions around accountability, bias, and ethical implications have gained prominence. The need for regulatory frameworks is becoming more apparent, as stakeholders seek to ensure that AI technologies are developed and used responsibly. Establishing these frameworks is essential for fostering trust and ensuring that the benefits of AI are equitably distributed across society.\n",
       "\n",
       "Furthermore, the application of AI in **Healthcare** is proving to be transformative. AI algorithms are utilized for diagnostics, patient monitoring, and personalized medicine, enabling healthcare providers to offer more effective and targeted treatments. As AI continues to evolve, its potential impact on healthcare outcomes is significant, opening avenues for innovation and improved patient care. The integration of AI technologies in healthcare not only enhances clinical practices but also enriches patient experiences.\n",
       "\n",
       "## III. Key Players in the AI Landscape\n",
       "\n",
       "The AI landscape is populated by several influential players, each contributing to the advancement of this technology in unique ways. **OpenAI** stands out for its sophisticated language models and ongoing AI research. Their innovations have set benchmarks in natural language understanding and generation, making significant strides in various applications across industries.\n",
       "\n",
       "**Google DeepMind** is another key player, known for its groundbreaking work in reinforcement learning and healthcare solutions. Their projects often focus on solving complex problems, including those related to climate change and disease prediction. With a commitment to ethical AI, DeepMind aims to ensure that its advancements benefit humanity. This focus on ethical considerations underscores the importance of aligning technological progress with societal needs.\n",
       "\n",
       "Other notable contributors include **IBM Watson**, which specializes in AI solutions for business analytics and healthcare, and **Microsoft**, integrating AI across its suite of products and cloud services via partnerships with leading AI firms. Additionally, **NVIDIA** plays a pivotal role by providing hardware and software that support AI applications, driving the technological infrastructure that powers modern AI systems. These companies collectively shape the trajectory of AI development, fostering innovation and collaboration.\n",
       "\n",
       "## IV. Noteworthy News and Developments\n",
       "\n",
       "Recent developments in AI regulations highlight the growing need for governance in this rapidly evolving field. In both the EU and the US, policymakers are actively discussing measures to ensure that AI technologies are developed responsibly and transparently. These regulatory frameworks aim to address concerns about bias, privacy, and accountability, ensuring that AI serves the public good. Engaging in these conversations is vital for fostering a balanced approach to innovation.\n",
       "\n",
       "Moreover, major tech companies are launching new AI tools designed to enhance productivity and streamline operations across sectors. As organizations increasingly adopt AI solutions, we can expect a wave of innovation that will further integrate AI into everyday workflows. Not only does this have implications for efficiency, but it also raises discussions about the future of work and the potential for job displacement. Understanding these dynamics will be crucial for navigating the changing employment landscape.\n",
       "\n",
       "Furthermore, AI's role in addressing global challenges, such as climate change and pandemics, cannot be overlooked. Innovative AI applications are being developed to analyze data related to environmental changes and health crises, contributing to more effective responses and solutions. The potential of AI to drive positive societal change is immense, making it a focal point for future technological endeavors.\n",
       "\n",
       "## V. The Future of AI\n",
       "\n",
       "Looking ahead, the future of AI is poised for transformative advancements that will shape our society in profound ways. As AI technologies continue to evolve, we can anticipate more sophisticated applications across various industries, enhancing efficiency and decision-making processes. Predictive analytics, real-time data processing, and personalized AI solutions are just the tip of the iceberg in terms of potential developments. This evolution will likely redefine how businesses operate and how individuals interact with technology.\n",
       "\n",
       "However, this bright future comes with challenges that need to be addressed, particularly concerning **ethical AI development**. As AI systems become more integrated into our lives, ensuring that they are designed and implemented responsibly is crucial. This includes tackling issues such as bias, data privacy, and the implications of automation on employment. The dialogue surrounding these concerns will be essential in guiding the responsible evolution of AI technologies. Engaging various stakeholders in these discussions will be vital for promoting a balanced approach to innovation.\n",
       "\n",
       "## VI. Conclusion\n",
       "\n",
       "In summary, Artificial Intelligence is rapidly changing our world, with its trends and implications extending across diverse sectors. From generative AI and ethical considerations to advancements in healthcare and the contributions of key players, the landscape of AI is both exciting and complex. As we continue to navigate this evolving field, staying informed about AI developments is crucial for professionals, students, and the general public alike.\n",
       "\n",
       "As AI technologies evolve, so too do the conversations around their impact on society. It is essential for individuals to engage with these discussions and understand the implications of AI on their lives. By fostering a culture of awareness and informed dialogue, we can collectively shape the future of AI.\n",
       "\n",
       "## VII. Call to Action\n",
       "\n",
       "We invite you to subscribe for updates on the latest AI trends and insights. Share your thoughts and experiences with AI in the comments below, and let’s foster a community that stays informed about this transformative technology.\n",
       "```"
      ],
      "text/plain": [
       "<IPython.core.display.Markdown object>"
      ]
     },
     "execution_count": 20,
     "metadata": {},
     "output_type": "execute_result"
    }
   ],
   "source": [
    "from IPython.display import display, Markdown\n",
    "Markdown(result.raw)"
   ]
  },
  {
   "cell_type": "markdown",
   "metadata": {},
   "source": [
    "- Display the results of your execution as markdown in the notebook."
   ]
  },
  {
   "cell_type": "markdown",
   "metadata": {},
   "source": [
    "## Try it Yourself\n",
    "\n",
    "- Pass in a topic of your choice and see what the agents come up with!"
   ]
  },
  {
   "cell_type": "code",
   "execution_count": 15,
   "metadata": {
    "height": 47
   },
   "outputs": [],
   "source": [
    "topic = \"Digital Twin\"\n",
    "# result = crew.kickoff(inputs={\"topic\": topic})"
   ]
  },
  {
   "cell_type": "code",
   "execution_count": 16,
   "metadata": {},
   "outputs": [
    {
     "data": {
      "text/markdown": [
       "```markdown\n",
       "# Understanding Artificial Intelligence: Trends, Impacts, and Future Directions\n",
       "\n",
       "## I. Introduction\n",
       "\n",
       "Artificial Intelligence (AI) has gradually transitioned from a futuristic concept to an integral part of our daily lives. As we witness rapid advancements in AI technologies, its significance becomes increasingly evident across various sectors. From enhancing business efficiencies to revolutionizing healthcare, AI is shaping the landscape of modern society. The growing interest in AI is driven by its potential to solve complex problems and improve quality of life.\n",
       "\n",
       "With every passing day, we see new developments and innovations in AI, including generative AI models like OpenAI's GPT-4 and Google's Bard. These breakthroughs illustrate the immense capabilities of AI, pushing the boundaries of what machines can accomplish. This article aims to provide insights into the latest trends, key players, noteworthy news, and future directions of AI, presenting a comprehensive overview for tech enthusiasts, business professionals, and the curious general public.\n",
       "\n",
       "## II. Latest Trends in Artificial Intelligence\n",
       "\n",
       "Among the most significant trends in AI today is **Generative AI**, which refers to models capable of creating text, images, and code. This technology is enhancing creative industries and transforming customer interactions and content creation. For instance, businesses are leveraging generative AI to automate content generation, allowing for improved efficiency and personalized experiences. This shift not only streamlines operations but also opens new avenues for innovation in marketing and communication strategies.\n",
       "\n",
       "Another crucial trend is the focus on **AI Ethics and Regulation**. As AI systems increasingly influence decision-making processes, discussions around accountability, bias, and ethical implications have gained prominence. The need for regulatory frameworks is becoming more apparent, as stakeholders seek to ensure that AI technologies are developed and used responsibly. Establishing these frameworks is essential for fostering trust and ensuring that the benefits of AI are equitably distributed across society.\n",
       "\n",
       "Furthermore, the application of AI in **Healthcare** is proving to be transformative. AI algorithms are utilized for diagnostics, patient monitoring, and personalized medicine, enabling healthcare providers to offer more effective and targeted treatments. As AI continues to evolve, its potential impact on healthcare outcomes is significant, opening avenues for innovation and improved patient care. The integration of AI technologies in healthcare not only enhances clinical practices but also enriches patient experiences.\n",
       "\n",
       "## III. Key Players in the AI Landscape\n",
       "\n",
       "The AI landscape is populated by several influential players, each contributing to the advancement of this technology in unique ways. **OpenAI** stands out for its sophisticated language models and ongoing AI research. Their innovations have set benchmarks in natural language understanding and generation, making significant strides in various applications across industries.\n",
       "\n",
       "**Google DeepMind** is another key player, known for its groundbreaking work in reinforcement learning and healthcare solutions. Their projects often focus on solving complex problems, including those related to climate change and disease prediction. With a commitment to ethical AI, DeepMind aims to ensure that its advancements benefit humanity. This focus on ethical considerations underscores the importance of aligning technological progress with societal needs.\n",
       "\n",
       "Other notable contributors include **IBM Watson**, which specializes in AI solutions for business analytics and healthcare, and **Microsoft**, integrating AI across its suite of products and cloud services via partnerships with leading AI firms. Additionally, **NVIDIA** plays a pivotal role by providing hardware and software that support AI applications, driving the technological infrastructure that powers modern AI systems. These companies collectively shape the trajectory of AI development, fostering innovation and collaboration.\n",
       "\n",
       "## IV. Noteworthy News and Developments\n",
       "\n",
       "Recent developments in AI regulations highlight the growing need for governance in this rapidly evolving field. In both the EU and the US, policymakers are actively discussing measures to ensure that AI technologies are developed responsibly and transparently. These regulatory frameworks aim to address concerns about bias, privacy, and accountability, ensuring that AI serves the public good. Engaging in these conversations is vital for fostering a balanced approach to innovation.\n",
       "\n",
       "Moreover, major tech companies are launching new AI tools designed to enhance productivity and streamline operations across sectors. As organizations increasingly adopt AI solutions, we can expect a wave of innovation that will further integrate AI into everyday workflows. Not only does this have implications for efficiency, but it also raises discussions about the future of work and the potential for job displacement. Understanding these dynamics will be crucial for navigating the changing employment landscape.\n",
       "\n",
       "Furthermore, AI's role in addressing global challenges, such as climate change and pandemics, cannot be overlooked. Innovative AI applications are being developed to analyze data related to environmental changes and health crises, contributing to more effective responses and solutions. The potential of AI to drive positive societal change is immense, making it a focal point for future technological endeavors.\n",
       "\n",
       "## V. The Future of AI\n",
       "\n",
       "Looking ahead, the future of AI is poised for transformative advancements that will shape our society in profound ways. As AI technologies continue to evolve, we can anticipate more sophisticated applications across various industries, enhancing efficiency and decision-making processes. Predictive analytics, real-time data processing, and personalized AI solutions are just the tip of the iceberg in terms of potential developments. This evolution will likely redefine how businesses operate and how individuals interact with technology.\n",
       "\n",
       "However, this bright future comes with challenges that need to be addressed, particularly concerning **ethical AI development**. As AI systems become more integrated into our lives, ensuring that they are designed and implemented responsibly is crucial. This includes tackling issues such as bias, data privacy, and the implications of automation on employment. The dialogue surrounding these concerns will be essential in guiding the responsible evolution of AI technologies. Engaging various stakeholders in these discussions will be vital for promoting a balanced approach to innovation.\n",
       "\n",
       "## VI. Conclusion\n",
       "\n",
       "In summary, Artificial Intelligence is rapidly changing our world, with its trends and implications extending across diverse sectors. From generative AI and ethical considerations to advancements in healthcare and the contributions of key players, the landscape of AI is both exciting and complex. As we continue to navigate this evolving field, staying informed about AI developments is crucial for professionals, students, and the general public alike.\n",
       "\n",
       "As AI technologies evolve, so too do the conversations around their impact on society. It is essential for individuals to engage with these discussions and understand the implications of AI on their lives. By fostering a culture of awareness and informed dialogue, we can collectively shape the future of AI.\n",
       "\n",
       "## VII. Call to Action\n",
       "\n",
       "We invite you to subscribe for updates on the latest AI trends and insights. Share your thoughts and experiences with AI in the comments below, and let’s foster a community that stays informed about this transformative technology.\n",
       "```"
      ],
      "text/plain": [
       "<IPython.core.display.Markdown object>"
      ]
     },
     "metadata": {},
     "output_type": "display_data"
    }
   ],
   "source": [
    "from IPython.display import display, Markdown\n",
    "display(Markdown(result.raw))\n",
    "# result.raw"
   ]
  },
  {
   "cell_type": "code",
   "execution_count": null,
   "metadata": {},
   "outputs": [],
   "source": []
  }
 ],
 "metadata": {
  "colab": {
   "gpuType": "T4",
   "provenance": []
  },
  "kernelspec": {
   "display_name": "Python 3 (ipykernel)",
   "language": "python",
   "name": "python3"
  },
  "language_info": {
   "codemirror_mode": {
    "name": "ipython",
    "version": 3
   },
   "file_extension": ".py",
   "mimetype": "text/x-python",
   "name": "python",
   "nbconvert_exporter": "python",
   "pygments_lexer": "ipython3",
   "version": "3.12.4"
  }
 },
 "nbformat": 4,
 "nbformat_minor": 4
}
