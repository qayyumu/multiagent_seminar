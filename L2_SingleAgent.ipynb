{
 "cells": [
  {
   "cell_type": "code",
   "execution_count": 14,
   "metadata": {
    "height": 64
   },
   "outputs": [],
   "source": [
    "# install the necessary libraries \n",
    "# !pip install crewai crewai_tools langchain_community\n",
    "# Warning control\n",
    "import warnings\n",
    "warnings.filterwarnings('ignore')\n"
   ]
  },
  {
   "cell_type": "code",
   "execution_count": 15,
   "metadata": {
    "height": 98
   },
   "outputs": [],
   "source": [
    "choose_LLM = 1\n",
    "colab_exp = 0\n",
    "import os\n",
    "\n",
    "from langchain_openai import ChatOpenAI\n",
    "\n",
    "if choose_LLM==1:\n",
    "    if(colab_exp):\n",
    "        from google.colab import userdata    ###for colab use\n",
    "        llm = ChatOpenAI(model = \"gpt-4o-mini\",openai_api_key=userdata.get('OPENAI_API_KEY'))\n",
    "    else:\n",
    "        from dotenv import load_dotenv\n",
    "        load_dotenv() \n",
    "        llm = ChatOpenAI(model = \"gpt-4o-mini\",openai_api_key=os.getenv(\"OPENAI_API_KEY\"))\n",
    "\n",
    "else:\n",
    "    llm = ChatOpenAI(model=\"ollama/llama3.2\", base_url=\"http://localhost:11434\",temperature=0.1)\n",
    "    \n"
   ]
  },
  {
   "cell_type": "code",
   "execution_count": 16,
   "metadata": {},
   "outputs": [
    {
     "data": {
      "text/plain": [
       "ChatOpenAI(client=<openai.resources.chat.completions.Completions object at 0x159adc0b0>, async_client=<openai.resources.chat.completions.AsyncCompletions object at 0x159abffe0>, root_client=<openai.OpenAI object at 0x159aca7e0>, root_async_client=<openai.AsyncOpenAI object at 0x159adc860>, model_name='ollama/llama3.2', temperature=0.1, model_kwargs={}, openai_api_key=SecretStr('**********'), openai_api_base='http://localhost:11434')"
      ]
     },
     "execution_count": 16,
     "metadata": {},
     "output_type": "execute_result"
    }
   ],
   "source": [
    "llm"
   ]
  },
  {
   "cell_type": "code",
   "execution_count": 17,
   "metadata": {},
   "outputs": [],
   "source": [
    "from crewai import Agent, Task, Crew\n",
    " \n",
    "general_agent = Agent(\n",
    "    role=\"Content blogger\",\n",
    "    goal=\"Plan a blog content on {topic}\",\n",
    "    backstory=\"You're working on a blog article \"\n",
    "              \"about the topic: {topic}.\"\n",
    "              \"You collect information that helps the \"\n",
    "              \"audience learn something \"\n",
    "              \"and make informed decisions. \"\n",
    "              \"Your work is the basis for \"\n",
    "              \"the Content Writer to write an article on this topic.\",\n",
    "    allow_delegation=False,\n",
    "    llm= llm,\n",
    "\tverbose=True\n",
    ")"
   ]
  },
  {
   "cell_type": "code",
   "execution_count": 18,
   "metadata": {},
   "outputs": [],
   "source": [
    "# Task\n",
    "plan_task = Task(\n",
    "    description=(\n",
    "        \"1. Prioritize the latest trends, key players, \"\n",
    "            \"and noteworthy news on {topic}.\\n\"\n",
    "        \"2. Identify the target audience, considering \"\n",
    "            \"their interests and pain points.\\n\"\n",
    "        \"3. Develop a detailed content outline including \"\n",
    "            \"an introduction, key points, and a call to action.\\n\"\n",
    "        \"4. Include SEO keywords and relevant data or sources.\"\n",
    "    ),\n",
    "    expected_output=\"A comprehensive content plan document \"\n",
    "        \"with an outline, audience analysis, \"\n",
    "        \"SEO keywords, and resources.\",\n",
    "    agent=general_agent,\n",
    ")"
   ]
  },
  {
   "cell_type": "code",
   "execution_count": 19,
   "metadata": {},
   "outputs": [
    {
     "name": "stderr",
     "output_type": "stream",
     "text": [
      "WARNING:opentelemetry.trace:Overriding of current TracerProvider is not allowed\n"
     ]
    },
    {
     "name": "stdout",
     "output_type": "stream",
     "text": [
      "\u001b[1m\u001b[95m# Agent:\u001b[00m \u001b[1m\u001b[92mContent blogger\u001b[00m\n",
      "\u001b[95m## Task:\u001b[00m \u001b[92m1. Prioritize the latest trends, key players, and noteworthy news on Multiagent Intelligence.\n",
      "2. Identify the target audience, considering their interests and pain points.\n",
      "3. Develop a detailed content outline including an introduction, key points, and a call to action.\n",
      "4. Include SEO keywords and relevant data or sources.\u001b[00m\n",
      "\n",
      "\n",
      "\u001b[1m\u001b[95m# Agent:\u001b[00m \u001b[1m\u001b[92mContent blogger\u001b[00m\n",
      "\u001b[95m## Final Answer:\u001b[00m \u001b[92m\n",
      "Comprehensive Content Plan for Multiagent Intelligence Blog Article\n",
      "\n",
      "I. Introduction\n",
      "Multiagent Intelligence (MAI) has emerged as a crucial area of research in artificial intelligence, with significant implications for various fields such as robotics, autonomous systems, and decision-making under uncertainty. As the field continues to evolve, it's essential to provide an overview of the latest trends, key players, and noteworthy news on MAI.\n",
      "\n",
      "II. Target Audience Analysis\n",
      "Our target audience consists of:\n",
      "\n",
      "1. **Researchers**: Academics and scientists working in the field of artificial intelligence, machine learning, and computer science.\n",
      "2. **Industry Professionals**: Experts in robotics, autonomous systems, and decision-making under uncertainty from various industries such as finance, healthcare, and transportation.\n",
      "3. **Students**: Undergraduate and graduate students interested in pursuing a career in AI, MAI, or related fields.\n",
      "\n",
      "Pain Points:\n",
      "\n",
      "1. Complexity of MAI: Many researchers and industry professionals struggle to understand the intricacies of multiagent systems and their applications.\n",
      "2. Limited Resources: There is a lack of accessible resources and tutorials on MAI, making it challenging for newcomers to enter the field.\n",
      "3. Staying Up-to-Date: The rapidly evolving nature of MAI makes it difficult for experts to keep pace with the latest developments.\n",
      "\n",
      "III. Latest Trends in Multiagent Intelligence\n",
      "1. **Deep Reinforcement Learning**: Recent advancements in deep reinforcement learning have led to significant improvements in multiagent decision-making and control.\n",
      "2. **Graph Neural Networks**: Graph neural networks have emerged as a promising approach for modeling complex multiagent systems and their interactions.\n",
      "3. **Explainability and Transparency**: As MAI becomes more prevalent, there is an increasing need for explainable and transparent AI systems to build trust with stakeholders.\n",
      "\n",
      "IV. Key Players in Multiagent Intelligence\n",
      "1. **Google DeepMind**: A leading research organization in AI and MAI, known for its work on reinforcement learning and multiagent decision-making.\n",
      "2. **Microsoft Research**: A prominent research arm of Microsoft, actively contributing to the development of MAI and its applications.\n",
      "3. **Stanford University**: A renowned institution for AI research, with a strong focus on MAI and its intersection with other fields like robotics and computer vision.\n",
      "\n",
      "V. Noteworthy News in Multiagent Intelligence\n",
      "1. **Recent Breakthroughs in Deep Reinforcement Learning**: Researchers have made significant progress in developing more efficient and effective deep reinforcement learning algorithms.\n",
      "2. **Advances in Graph Neural Networks**: The development of graph neural networks has opened up new avenues for modeling complex multiagent systems and their interactions.\n",
      "3. **Increased Focus on Explainability and Transparency**: As MAI becomes more widespread, there is a growing need for explainable and transparent AI systems to build trust with stakeholders.\n",
      "\n",
      "VI. Content Outline\n",
      "I. Introduction\n",
      "II. Target Audience Analysis\n",
      "III. Latest Trends in Multiagent Intelligence\n",
      "IV. Key Players in Multiagent Intelligence\n",
      "V. Noteworthy News in Multiagent Intelligence\n",
      "VI. Conclusion\n",
      "VII. Call to Action\n",
      "\n",
      "VIII. SEO Keywords and Relevant Data\n",
      "1. **Multiagent Intelligence**: A comprehensive overview of the field, including its history, key concepts, and applications.\n",
      "2. **Artificial Intelligence**: The broader field that encompasses MAI, with a focus on machine learning, deep learning, and natural language processing.\n",
      "3. **Robotics**: The application of AI and MAI in robotics, with a focus on autonomous systems and decision-making under uncertainty.\n",
      "\n",
      "Sources:\n",
      "\n",
      "1. \"Multiagent Reinforcement Learning: A Survey\" by J. M. Hendricks et al. (2020)\n",
      "2. \"Graph Neural Networks for Multiagent Systems\" by Y. Zhang et al. (2019)\n",
      "3. \"Explainable AI: A Survey of Techniques and Applications\" by S. G. Johnson et al. (2020)\n",
      "\n",
      "IX. Conclusion\n",
      "Multiagent Intelligence is a rapidly evolving field with significant implications for various fields such as robotics, autonomous systems, and decision-making under uncertainty. By understanding the latest trends, key players, and noteworthy news on MAI, researchers and industry professionals can stay at the forefront of this exciting field.\n",
      "\n",
      "X. Call to Action\n",
      "To learn more about Multiagent Intelligence and its applications, we invite readers to explore our resources section, which includes tutorials, research papers, and industry reports. Join our community to stay up-to-date with the latest developments in MAI and connect with experts in the field.\u001b[00m\n",
      "\n",
      "\n",
      "Comprehensive Content Plan for Multiagent Intelligence Blog Article\n",
      "\n",
      "I. Introduction\n",
      "Multiagent Intelligence (MAI) has emerged as a crucial area of research in artificial intelligence, with significant implications for various fields such as robotics, autonomous systems, and decision-making under uncertainty. As the field continues to evolve, it's essential to provide an overview of the latest trends, key players, and noteworthy news on MAI.\n",
      "\n",
      "II. Target Audience Analysis\n",
      "Our target audience consists of:\n",
      "\n",
      "1. **Researchers**: Academics and scientists working in the field of artificial intelligence, machine learning, and computer science.\n",
      "2. **Industry Professionals**: Experts in robotics, autonomous systems, and decision-making under uncertainty from various industries such as finance, healthcare, and transportation.\n",
      "3. **Students**: Undergraduate and graduate students interested in pursuing a career in AI, MAI, or related fields.\n",
      "\n",
      "Pain Points:\n",
      "\n",
      "1. Complexity of MAI: Many researchers and industry professionals struggle to understand the intricacies of multiagent systems and their applications.\n",
      "2. Limited Resources: There is a lack of accessible resources and tutorials on MAI, making it challenging for newcomers to enter the field.\n",
      "3. Staying Up-to-Date: The rapidly evolving nature of MAI makes it difficult for experts to keep pace with the latest developments.\n",
      "\n",
      "III. Latest Trends in Multiagent Intelligence\n",
      "1. **Deep Reinforcement Learning**: Recent advancements in deep reinforcement learning have led to significant improvements in multiagent decision-making and control.\n",
      "2. **Graph Neural Networks**: Graph neural networks have emerged as a promising approach for modeling complex multiagent systems and their interactions.\n",
      "3. **Explainability and Transparency**: As MAI becomes more prevalent, there is an increasing need for explainable and transparent AI systems to build trust with stakeholders.\n",
      "\n",
      "IV. Key Players in Multiagent Intelligence\n",
      "1. **Google DeepMind**: A leading research organization in AI and MAI, known for its work on reinforcement learning and multiagent decision-making.\n",
      "2. **Microsoft Research**: A prominent research arm of Microsoft, actively contributing to the development of MAI and its applications.\n",
      "3. **Stanford University**: A renowned institution for AI research, with a strong focus on MAI and its intersection with other fields like robotics and computer vision.\n",
      "\n",
      "V. Noteworthy News in Multiagent Intelligence\n",
      "1. **Recent Breakthroughs in Deep Reinforcement Learning**: Researchers have made significant progress in developing more efficient and effective deep reinforcement learning algorithms.\n",
      "2. **Advances in Graph Neural Networks**: The development of graph neural networks has opened up new avenues for modeling complex multiagent systems and their interactions.\n",
      "3. **Increased Focus on Explainability and Transparency**: As MAI becomes more widespread, there is a growing need for explainable and transparent AI systems to build trust with stakeholders.\n",
      "\n",
      "VI. Content Outline\n",
      "I. Introduction\n",
      "II. Target Audience Analysis\n",
      "III. Latest Trends in Multiagent Intelligence\n",
      "IV. Key Players in Multiagent Intelligence\n",
      "V. Noteworthy News in Multiagent Intelligence\n",
      "VI. Conclusion\n",
      "VII. Call to Action\n",
      "\n",
      "VIII. SEO Keywords and Relevant Data\n",
      "1. **Multiagent Intelligence**: A comprehensive overview of the field, including its history, key concepts, and applications.\n",
      "2. **Artificial Intelligence**: The broader field that encompasses MAI, with a focus on machine learning, deep learning, and natural language processing.\n",
      "3. **Robotics**: The application of AI and MAI in robotics, with a focus on autonomous systems and decision-making under uncertainty.\n",
      "\n",
      "Sources:\n",
      "\n",
      "1. \"Multiagent Reinforcement Learning: A Survey\" by J. M. Hendricks et al. (2020)\n",
      "2. \"Graph Neural Networks for Multiagent Systems\" by Y. Zhang et al. (2019)\n",
      "3. \"Explainable AI: A Survey of Techniques and Applications\" by S. G. Johnson et al. (2020)\n",
      "\n",
      "IX. Conclusion\n",
      "Multiagent Intelligence is a rapidly evolving field with significant implications for various fields such as robotics, autonomous systems, and decision-making under uncertainty. By understanding the latest trends, key players, and noteworthy news on MAI, researchers and industry professionals can stay at the forefront of this exciting field.\n",
      "\n",
      "X. Call to Action\n",
      "To learn more about Multiagent Intelligence and its applications, we invite readers to explore our resources section, which includes tutorials, research papers, and industry reports. Join our community to stay up-to-date with the latest developments in MAI and connect with experts in the field.\n"
     ]
    }
   ],
   "source": [
    "crew = Crew(agents=[general_agent], tasks=[plan_task],verbose=0)\n",
    "result = crew.kickoff(inputs={\"topic\": \"Multiagent Intelligence\"})\n",
    "\n",
    "print(result)"
   ]
  },
  {
   "cell_type": "code",
   "execution_count": 20,
   "metadata": {},
   "outputs": [
    {
     "data": {
      "text/markdown": [
       "Comprehensive Content Plan for Multiagent Intelligence Blog Article\n",
       "\n",
       "I. Introduction\n",
       "Multiagent Intelligence (MAI) has emerged as a crucial area of research in artificial intelligence, with significant implications for various fields such as robotics, autonomous systems, and decision-making under uncertainty. As the field continues to evolve, it's essential to provide an overview of the latest trends, key players, and noteworthy news on MAI.\n",
       "\n",
       "II. Target Audience Analysis\n",
       "Our target audience consists of:\n",
       "\n",
       "1. **Researchers**: Academics and scientists working in the field of artificial intelligence, machine learning, and computer science.\n",
       "2. **Industry Professionals**: Experts in robotics, autonomous systems, and decision-making under uncertainty from various industries such as finance, healthcare, and transportation.\n",
       "3. **Students**: Undergraduate and graduate students interested in pursuing a career in AI, MAI, or related fields.\n",
       "\n",
       "Pain Points:\n",
       "\n",
       "1. Complexity of MAI: Many researchers and industry professionals struggle to understand the intricacies of multiagent systems and their applications.\n",
       "2. Limited Resources: There is a lack of accessible resources and tutorials on MAI, making it challenging for newcomers to enter the field.\n",
       "3. Staying Up-to-Date: The rapidly evolving nature of MAI makes it difficult for experts to keep pace with the latest developments.\n",
       "\n",
       "III. Latest Trends in Multiagent Intelligence\n",
       "1. **Deep Reinforcement Learning**: Recent advancements in deep reinforcement learning have led to significant improvements in multiagent decision-making and control.\n",
       "2. **Graph Neural Networks**: Graph neural networks have emerged as a promising approach for modeling complex multiagent systems and their interactions.\n",
       "3. **Explainability and Transparency**: As MAI becomes more prevalent, there is an increasing need for explainable and transparent AI systems to build trust with stakeholders.\n",
       "\n",
       "IV. Key Players in Multiagent Intelligence\n",
       "1. **Google DeepMind**: A leading research organization in AI and MAI, known for its work on reinforcement learning and multiagent decision-making.\n",
       "2. **Microsoft Research**: A prominent research arm of Microsoft, actively contributing to the development of MAI and its applications.\n",
       "3. **Stanford University**: A renowned institution for AI research, with a strong focus on MAI and its intersection with other fields like robotics and computer vision.\n",
       "\n",
       "V. Noteworthy News in Multiagent Intelligence\n",
       "1. **Recent Breakthroughs in Deep Reinforcement Learning**: Researchers have made significant progress in developing more efficient and effective deep reinforcement learning algorithms.\n",
       "2. **Advances in Graph Neural Networks**: The development of graph neural networks has opened up new avenues for modeling complex multiagent systems and their interactions.\n",
       "3. **Increased Focus on Explainability and Transparency**: As MAI becomes more widespread, there is a growing need for explainable and transparent AI systems to build trust with stakeholders.\n",
       "\n",
       "VI. Content Outline\n",
       "I. Introduction\n",
       "II. Target Audience Analysis\n",
       "III. Latest Trends in Multiagent Intelligence\n",
       "IV. Key Players in Multiagent Intelligence\n",
       "V. Noteworthy News in Multiagent Intelligence\n",
       "VI. Conclusion\n",
       "VII. Call to Action\n",
       "\n",
       "VIII. SEO Keywords and Relevant Data\n",
       "1. **Multiagent Intelligence**: A comprehensive overview of the field, including its history, key concepts, and applications.\n",
       "2. **Artificial Intelligence**: The broader field that encompasses MAI, with a focus on machine learning, deep learning, and natural language processing.\n",
       "3. **Robotics**: The application of AI and MAI in robotics, with a focus on autonomous systems and decision-making under uncertainty.\n",
       "\n",
       "Sources:\n",
       "\n",
       "1. \"Multiagent Reinforcement Learning: A Survey\" by J. M. Hendricks et al. (2020)\n",
       "2. \"Graph Neural Networks for Multiagent Systems\" by Y. Zhang et al. (2019)\n",
       "3. \"Explainable AI: A Survey of Techniques and Applications\" by S. G. Johnson et al. (2020)\n",
       "\n",
       "IX. Conclusion\n",
       "Multiagent Intelligence is a rapidly evolving field with significant implications for various fields such as robotics, autonomous systems, and decision-making under uncertainty. By understanding the latest trends, key players, and noteworthy news on MAI, researchers and industry professionals can stay at the forefront of this exciting field.\n",
       "\n",
       "X. Call to Action\n",
       "To learn more about Multiagent Intelligence and its applications, we invite readers to explore our resources section, which includes tutorials, research papers, and industry reports. Join our community to stay up-to-date with the latest developments in MAI and connect with experts in the field."
      ],
      "text/plain": [
       "<IPython.core.display.Markdown object>"
      ]
     },
     "metadata": {},
     "output_type": "display_data"
    }
   ],
   "source": [
    "from IPython.display import display, Markdown, display_png\n",
    "\n",
    "display(Markdown(result.raw))\n"
   ]
  },
  {
   "cell_type": "code",
   "execution_count": null,
   "metadata": {},
   "outputs": [],
   "source": []
  }
 ],
 "metadata": {
  "colab": {
   "gpuType": "T4",
   "provenance": []
  },
  "kernelspec": {
   "display_name": "Python 3 (ipykernel)",
   "language": "python",
   "name": "python3"
  },
  "language_info": {
   "codemirror_mode": {
    "name": "ipython",
    "version": 3
   },
   "file_extension": ".py",
   "mimetype": "text/x-python",
   "name": "python",
   "nbconvert_exporter": "python",
   "pygments_lexer": "ipython3",
   "version": "3.12.4"
  }
 },
 "nbformat": 4,
 "nbformat_minor": 4
}
